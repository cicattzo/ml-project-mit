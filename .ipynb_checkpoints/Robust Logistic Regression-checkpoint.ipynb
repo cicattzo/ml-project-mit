{
 "cells": [
  {
   "cell_type": "code",
   "execution_count": 370,
   "metadata": {},
   "outputs": [
    {
     "name": "stdout",
     "output_type": "stream",
     "text": [
      "\u001b[32m\u001b[1m   Cloning\u001b[22m\u001b[39m git-repo `https://github.com/diegozea/ROC.jl`\n",
      "\u001b[2K\u001b[?25h\u001b[32m\u001b[1m  Updating\u001b[22m\u001b[39m git-repo `https://github.com/diegozea/ROC.jl`.0 %46.3 %>  ]  93.1 %\n",
      "\u001b[2K\u001b[?25h[1mFetching:\u001b[22m\u001b[39m [========================================>]  100.0 %.0 %\u001b[32m\u001b[1m Resolving\u001b[22m\u001b[39m package versions...\n",
      "\u001b[32m\u001b[1m Installed\u001b[22m\u001b[39m Infinity ─ v0.2.3\n",
      "\u001b[32m\u001b[1m  Updating\u001b[22m\u001b[39m `~/.julia/environments/v1.0/Project.toml`\n",
      " \u001b[90m [e4f92426]\u001b[39m\u001b[92m + ROC v0.1.0 #master (https://github.com/diegozea/ROC.jl)\u001b[39m\n",
      "\u001b[32m\u001b[1m  Updating\u001b[22m\u001b[39m `~/.julia/environments/v1.0/Manifest.toml`\n",
      " \u001b[90m [a303e19e]\u001b[39m\u001b[92m + Infinity v0.2.3\u001b[39m\n",
      " \u001b[90m [e4f92426]\u001b[39m\u001b[92m + ROC v0.1.0 #master (https://github.com/diegozea/ROC.jl)\u001b[39m\n"
     ]
    }
   ],
   "source": [
    "using Pkg\n",
    "Pkg.add(PackageSpec(path=\"https://github.com/diegozea/ROC.jl\"))"
   ]
  },
  {
   "cell_type": "code",
   "execution_count": 391,
   "metadata": {},
   "outputs": [
    {
     "name": "stdout",
     "output_type": "stream",
     "text": [
      "Academic license - for non-commercial use only\n"
     ]
    },
    {
     "data": {
      "text/plain": [
       "Gurobi.Env(Ptr{Nothing} @0x00007fa9e453c000)"
      ]
     },
     "execution_count": 391,
     "metadata": {},
     "output_type": "execute_result"
    }
   ],
   "source": [
    "using JuMP, Gurobi, CSV, LinearAlgebra, DataFrames, Random, Distributions, Statistics,MLBase, CPUTime,ScikitLearn ,MLDataUtils\n",
    "@sk_import metrics: roc_auc_score\n",
    "gurobi_env = Gurobi.Env()"
   ]
  },
  {
   "cell_type": "code",
   "execution_count": 429,
   "metadata": {},
   "outputs": [
    {
     "data": {
      "text/plain": [
       "preprocess (generic function with 1 method)"
      ]
     },
     "execution_count": 429,
     "metadata": {},
     "output_type": "execute_result"
    }
   ],
   "source": [
    "function one_hot_encode(X, names)\n",
    "    X2 = deepcopy(X)\n",
    "    select!(X2, Not(Symbol.(names)))\n",
    "    for i in names\n",
    "        vales = unique(X[i])\n",
    "        for j in 1:length(vales)-1\n",
    "           X2[Symbol(string(i)*\"_\"*string(vales[j]))] = (X[i].==vales[j])*1\n",
    "        end\n",
    "    end\n",
    "    return X2\n",
    "end\n",
    "\n",
    "function normalize(X, names)\n",
    "    X2 = deepcopy(X)\n",
    "    select!(X2, Not(Symbol.(names)))\n",
    "    for j in names\n",
    "        X2[j] = (X[:,j] .- mean(X[:,j])) / std(X[:,j])\n",
    "    end\n",
    "    return X2\n",
    "end\n",
    "\n",
    "function clean(X)\n",
    "    n,p = size(X)\n",
    "    i = 0\n",
    "    while i < n\n",
    "        i += 1\n",
    "        if \"?\" in X[i,:]\n",
    "            X = X[1:end .!= i, :]\n",
    "            i -= 1\n",
    "        end\n",
    "        n,_ = size(X)\n",
    "    end\n",
    "    return X\n",
    "end     \n",
    "\n",
    "function toNum(df, names)\n",
    "    n,p = size(df)\n",
    "    for name in names\n",
    "        if !(isa(df[1,name], Int64) || isa(df[1,name], Float64))\n",
    "            temp = zeros(n)\n",
    "            for i=1:n\n",
    "                temp[i] = parse(Float64,df[i,name])\n",
    "            end\n",
    "            df[!,name] = temp\n",
    "        end\n",
    "    end\n",
    "    return df\n",
    "end\n",
    "\n",
    "function preprocess(df, categorical_vars, numerical_vars)\n",
    "    df = clean(df)\n",
    "    df = toNum(df,numerical_vars)\n",
    "    df = normalize(df,numerical_vars)\n",
    "    df = one_hot_encode(df[:,1:end], categorical_vars) \n",
    "    df[df[:,end].==0,end] .= -1\n",
    "    return df\n",
    "end"
   ]
  },
  {
   "cell_type": "code",
   "execution_count": 1063,
   "metadata": {},
   "outputs": [
    {
     "data": {
      "text/plain": [
       "compute_f (generic function with 1 method)"
      ]
     },
     "execution_count": 1063,
     "metadata": {},
     "output_type": "execute_result"
    }
   ],
   "source": [
    "### Utils Functions ###\n",
    "# function compute_∇f(w_k, y, X, λ)\n",
    "#     n, p = size(X)\n",
    "#     temp = zeros(p)\n",
    "#     for i in 1:n\n",
    "#         expo = log(1+exp(-y[i]*dot(X[i,:], w_k)+ λ*dot(w_k,w_k)))\n",
    "#         if expo == Inf\n",
    "#             expo = -y[i]*dot(X[i,:], w_k)+ λ*dot(w_k,w_k)\n",
    "#         end\n",
    "#          Δ = (1/(1+t))*t*(-y[i]*Array(X[i,:]) .+ 2*λ*w_k)\n",
    "# #        Δ = (-1/(1+exp(y[i]*dot(w_k,X[i,:])+λ*transpose(w_k)*w_k)))*(y[i].*X[i,:] .+ 2*λ*w_k)\n",
    "#         temp = temp + Δ\n",
    "\n",
    "#     end\n",
    "\n",
    "#     ∇f_k = temp\n",
    "#     return ∇f_k\n",
    "# end\n",
    "function compute_∇f(w_k, y, X, λ)\n",
    "    n, p = size(X)\n",
    "    temp = zeros(p)\n",
    "    for i in 1:n\n",
    "        t = exp(-y[i]*(transpose(w_k)*Array(X[i,:]))+λ*transpose(w_k)*w_k)\n",
    "#       t = exp(-y[i]*(transpose(w_k)*Array(X[i,:]))+λ*transpose(w_k)*w_k)\n",
    "\n",
    "        if t == Inf\n",
    "            Δ = -y[i]*Array(X[i,:]) .+ 2*λ*w_k\n",
    "        else\n",
    "            Δ = (1/(1+t))*t*(-y[i]*Array(X[i,:]) .+ 2*λ*w_k)\n",
    "        end\n",
    "        temp = temp + Δ\n",
    "    end\n",
    "    ∇f_k = temp\n",
    "    return ∇f_k\n",
    "end\n",
    "\n",
    "function compute_f(w_k, y, X, λ)\n",
    "    n, p = size(X)\n",
    "    taylor = 0\n",
    "    f_k = 0\n",
    "    for i in 1:n\n",
    "        t = exp(-y[i]*dot(X[i,:], w_k)+λ*transpose(w_k)*w_k)\n",
    "        if t == Inf \n",
    "            f_k += -y[i]*dot(X[i,:], w_k)+λ*transpose(w_k)*w_k\n",
    "        else\n",
    "            f_k += log(1+t)\n",
    "        end\n",
    "    end\n",
    "\n",
    "    return f_k\n",
    "end"
   ]
  },
  {
   "cell_type": "code",
   "execution_count": 1095,
   "metadata": {},
   "outputs": [
    {
     "data": {
      "text/plain": [
       "LR_cutting_planes (generic function with 1 method)"
      ]
     },
     "execution_count": 1095,
     "metadata": {},
     "output_type": "execute_result"
    }
   ],
   "source": [
    "### Cutting Planes Implementation ###\n",
    "function LR_cutting_planes(y, X, ε, λ)\n",
    "    errors = []\n",
    "    n, p = size(X)\n",
    "    # Initialization values and step 0\n",
    "    w_0 = [0 for i in 1:p]\n",
    "    #w_0 = [rand(Uniform(-0.5, 0.5)) for i in 1:p]\n",
    "    f_0 = sum(log(1+exp(-y[i]*dot(X[i,:], w_0)+λ*transpose(w_0)*w_0)) for i=1:n)\n",
    "    ∇f_0 = compute_∇f(w_0, y, X, λ)\n",
    "\n",
    "    # Outer minimization problem\n",
    "    outer_min_model = Model(solver=GurobiSolver(OutputFlag=0, gurobi_env))\n",
    "    @variable(outer_min_model, t >= 0)\n",
    "    @variable(outer_min_model, w[1:p])\n",
    "    #@constraint(outer_min_model, [j=1:p], -1 <= w[j] <= 1)\n",
    "    @constraint(outer_min_model, t >= f_0 + (dot(∇f_0, w)-dot(∇f_0, w_0)))\n",
    "    @constraint(outer_min_model, [j=1:p], 10 >= w[j])\n",
    "    @constraint(outer_min_model, [j=1:p], w[j] >= -10)\n",
    "    @objective(outer_min_model, Min, t)\n",
    "    k = 1 # Number of constraints in the final problem\n",
    "    solve(outer_min_model)\n",
    "\n",
    "    # New steps k\n",
    "    t_k = getvalue(t)\n",
    "    w_k = getvalue(w)\n",
    "\n",
    "    f_k = compute_f(w_k, y, X, λ)\n",
    "    #f_k = sum(min(log(1+exp(-y[i]*dot(X[i,:], w_k)+λ*transpose(w_k)*w_k)),taylor) for i=1:n)\n",
    "    \n",
    "    ∇f_k = compute_∇f(w_k, y, X, λ)\n",
    "    \n",
    "    while abs(f_k - t_k) >= ε # error\n",
    "\n",
    "        push!(errors, f_k - t_k)\n",
    "        @constraint(outer_min_model,t >= f_k +(dot(∇f_k, w)-dot(∇f_k, w_k)))\n",
    "        k += 1\n",
    "        solve(outer_min_model)\n",
    "        # Updating all the values\n",
    "        t_k = getvalue(t)\n",
    "        w_k = getvalue(w)\n",
    "        \n",
    "        f_k = compute_f(w_k, y, X, λ)\n",
    "        #f_k = sum(min(log(1+exp(-y[i]*dot(X[i,:], w_k)+λ*transpose(w_k)*w_k)),100) for i=1:n)\n",
    "\n",
    "        ∇f_k = compute_∇f(w_k, y, X, λ)\n",
    "         if k%500 == 0\n",
    "             println(\"Number of constraints: \", k, \"\\t Error = \", abs(t_k - f_k))\n",
    "         end\n",
    "        if k > 20000\n",
    "            break\n",
    "        end\n",
    "    end\n",
    "    push!(errors, f_k - t_k)\n",
    "    return t_k, f_k, w_k, errors\n",
    "end\n"
   ]
  },
  {
   "cell_type": "code",
   "execution_count": 1162,
   "metadata": {},
   "outputs": [
    {
     "data": {
      "text/plain": [
       "robust_LG_cv (generic function with 1 method)"
      ]
     },
     "execution_count": 1162,
     "metadata": {},
     "output_type": "execute_result"
    }
   ],
   "source": [
    "function robust_LG_cv(X, y, ε, lambda_vals; method=LR_cutting_planes, nfold = 5)\n",
    "    n,p = size(X)\n",
    "    permuted_indices = randperm(n)\n",
    "    assignments = repeat(1:nfold, convert(Int,ceil(n/nfold)))[1:n]\n",
    "    AUCs = zeros(length(lambda_vals))\n",
    "    for fold in 1:nfold\n",
    "        println(\"nfold=\",fold)\n",
    "        train_indices, valid_indices = permuted_indices[assignments.!=fold], permuted_indices[assignments.==fold]\n",
    "\n",
    "        X_train, y_train = X[train_indices,:], y[train_indices]\n",
    "        X_valid, y_valid = X[valid_indices,:], y[valid_indices] \n",
    "         \n",
    "        for (i,λ) in enumerate(lambda_vals)\n",
    "            println(i)\n",
    "            t, f, w, e = method(y_train, X_train, ε, λ)\n",
    "    #         pred = 1 ./ (1 .+ exp.(-(Matrix(X_valid)*w).+λ*transpose(w)*w)) .> 0.5\n",
    "    #         accuracies[i] = 1-sum(pred .!= (y_valid .== 1))/length(y_valid)\n",
    "            pred_prob = 1 ./ (1 .+ exp.(-(Matrix(X_valid)*w).+λ*transpose(w)*w))\n",
    "            AUCs[i] += roc_auc_score(y_valid ,pred_prob)\n",
    "        end\n",
    "    end\n",
    "    IJulia.clear_output()\n",
    "\n",
    "    i_best = argmax(AUCs)\n",
    "    t, f, w_best, e = method(y, X, ε, lambda_vals[i_best])\n",
    "    return w_best, lambda_vals[i_best]\n",
    "end"
   ]
  },
  {
   "cell_type": "code",
   "execution_count": 1163,
   "metadata": {},
   "outputs": [
    {
     "ename": "LoadError",
     "evalue": "syntax: incomplete: \"function\" at none:1 requires end",
     "output_type": "error",
     "traceback": [
      "syntax: incomplete: \"function\" at none:1 requires end",
      ""
     ]
    }
   ],
   "source": [
    "function robust_LG_valid(X, y, ε, lambda_vals; method=LR_cutting_planes, split_at=0.8)\n",
    "    n,p = size(X)\n",
    "    split = convert(Int,floor(split_at*n))\n",
    "    for \n",
    "    permuted_indices = randperm(n)\n",
    "    train_indices, valid_indices = permuted_indices[1:split], permuted_indices[split+1:end]\n",
    "    X_train, y_train = X[train_indices,:], y[train_indices]\n",
    "    y_valid, y_valid = X[valid_indices,:], y[valid_indices]\n",
    "    \n",
    "    AUCs = zeros(length(lambda_vals))\n",
    "    for (i,λ) in enumerate(lambda_vals)\n",
    "        println(i)\n",
    "        t, f, w, e = method(y_train, X_train, ε, λ)\n",
    "#         pred = 1 ./ (1 .+ exp.(-(Matrix(X_valid)*w).+λ*transpose(w)*w)) .> 0.5\n",
    "#         accuracies[i] = 1-sum(pred .!= (y_valid .== 1))/length(y_valid)\n",
    "        pred_prob = 1 ./ (1 .+ exp.(-(Matrix(y_valid)*w).+λ*transpose(w)*w))\n",
    "        AUCs[i] = roc_auc_score(y_valid ,pred_prob)\n",
    "    end\n",
    "    IJulia.clear_output()\n",
    "\n",
    "    i_best = argmax(AUCs)\n",
    "    t, f, w_best, e = method(y, X, ε, lambda_vals[i_best])\n",
    "    return w_best, lambda_vals[i_best]\n",
    "end"
   ]
  },
  {
   "cell_type": "code",
   "execution_count": 1169,
   "metadata": {},
   "outputs": [
    {
     "data": {
      "text/plain": [
       "test_cv (generic function with 1 method)"
      ]
     },
     "execution_count": 1169,
     "metadata": {},
     "output_type": "execute_result"
    }
   ],
   "source": [
    "function test_cv(df, categorical_vars, numerical_vars, test_split, validation_split, ε, lambda_vals, cv, seed)\n",
    "    Random.seed!(seed)\n",
    "    \n",
    "    n,_ = size(df)\n",
    "    permuted_indices = randperm(n)\n",
    "    test_split = convert(Int,floor(validation_split*n))\n",
    "    train_indices, test_indices = permuted_indices[1:test_split], permuted_indices[test_split+1:end]\n",
    "    train = df[train_indices,:]\n",
    "    test = df[test_indices,:]\n",
    "    train_X = train[:,1:end-1]\n",
    "    train_y = train[:,end]\n",
    "    test_X = test[:,1:end-1]\n",
    "    test_y = test[:,end]\n",
    "    IJulia.clear_output()\n",
    "    \n",
    "    println(\"Enter cross-validation\")\n",
    "    start = time()\n",
    "    w, λ = robust_LG_cv(train_X, train_y, ε, lambda_vals; method=LR_cutting_planes, nfold=cv)\n",
    "    elapsed = time() - start\n",
    "    \n",
    "    pred_prob = 1 ./ (1 .+ exp.(-(Matrix(test_X)*w) .+ λ*transpose(w)*w))\n",
    "    pred = pred_prob.> 0.5\n",
    "    accuracy = 1-sum(pred .!= (test_y .== 1))/length(test_y)\n",
    "    auc = roc_auc_score(test_y ,pred_prob)\n",
    "    IJulia.clear_output()\n",
    "\n",
    "    return auc, accuracy, λ, elapsed, w\n",
    "end"
   ]
  },
  {
   "cell_type": "code",
   "execution_count": 1170,
   "metadata": {
    "scrolled": true
   },
   "outputs": [
    {
     "data": {
      "text/plain": [
       "test (generic function with 3 methods)"
      ]
     },
     "execution_count": 1170,
     "metadata": {},
     "output_type": "execute_result"
    }
   ],
   "source": [
    "function test(df, categorical_vars, numerical_vars, test_split, validation_split, ε, lambda_vals, seed)\n",
    "    Random.seed!(seed)\n",
    "    start = time()\n",
    "    n,_ = size(df)\n",
    "    permuted_indices = randperm(n)\n",
    "    test_split = convert(Int,floor(validation_split*n))\n",
    "    train_indices, test_indices = permuted_indices[1:test_split], permuted_indices[test_split+1:end]\n",
    "    train = df[train_indices,:]\n",
    "    test = df[test_indices,:]\n",
    "    train_X = train[:,1:end-1]\n",
    "    train_y = train[:,end]\n",
    "    test_X = test[:,1:end-1]\n",
    "    test_y = test[:,end]\n",
    "    \n",
    "    IJulia.clear_output()\n",
    "    println(\"Enter cross-validation\")\n",
    "    w, λ, errors  = robust_LG_valid(train_X, train_y, ε, lambda_vals; method=LR_cutting_planes, split_at=validation_split)\n",
    "    elapsed = time() - start\n",
    "    pred_prob = 1 ./ (1 .+ exp.(-(Matrix(test_X)*w).+λ*transpose(w)*w))\n",
    "    pred = pred_prob.> 0.5\n",
    "    accuracy = 1-sum(pred .!= (test_y .== 1))/length(test_y)\n",
    "    auc = roc_auc_score(test_y ,pred_prob)\n",
    "    IJulia.clear_output()\n",
    "\n",
    "    return auc, accuracy, λ, elapsed, w\n",
    "end"
   ]
  },
  {
   "cell_type": "code",
   "execution_count": 1171,
   "metadata": {},
   "outputs": [
    {
     "data": {
      "text/plain": [
       "(80, 6)"
      ]
     },
     "execution_count": 1171,
     "metadata": {},
     "output_type": "execute_result"
    }
   ],
   "source": [
    "df = CSV.read(\"Data/caesarian.csv\";header=true)\n",
    "size(df)"
   ]
  },
  {
   "cell_type": "code",
   "execution_count": 1172,
   "metadata": {},
   "outputs": [
    {
     "data": {
      "text/plain": [
       "(80, 10)"
      ]
     },
     "execution_count": 1172,
     "metadata": {},
     "output_type": "execute_result"
    }
   ],
   "source": [
    "lambda_vals = [0.00001,0.0001,0.0005,0.001,0.005,0.01,0.05,0.1]\n",
    "categorical_vars = Symbol.([\"Delivery number\" ;\"Delivery time\";\"Blood of Pressure\";\"Heart Problem\"])\n",
    "numerical_vars = Symbol.([\"Age\"])\n",
    "df = preprocess(df, categorical_vars, numerical_vars)\n",
    "n,p=size(df)"
   ]
  },
  {
   "cell_type": "code",
   "execution_count": 1173,
   "metadata": {},
   "outputs": [
    {
     "name": "stdout",
     "output_type": "stream",
     "text": [
      "AUC: 0.7676767676767677 Accuracy: 0.6 λ: 0.1 Time: 6.100132942199707"
     ]
    }
   ],
   "source": [
    "seed = 1\n",
    "auc, acc, lambda, elapsed, w = test_cv(df,categorical_vars,numerical_vars,0.75,0.75,0.0001, lambda_vals, 5, 1)\n",
    "print(\"AUC: \",auc,\" Accuracy: \",acc, \" λ: \", lambda, \" Time: \", elapsed)"
   ]
  },
  {
   "cell_type": "code",
   "execution_count": 1161,
   "metadata": {
    "scrolled": true
   },
   "outputs": [
    {
     "name": "stdout",
     "output_type": "stream",
     "text": [
      "AUC: 0.7575757575757576 Accuracy: 0.6 λ: 1.0e-5 Time: 1.3956480026245117"
     ]
    }
   ],
   "source": [
    "seed = 1\n",
    "auc, acc, lambda, elapsed, w = test(df,categorical_vars,numerical_vars,0.75,0.75,0.0001, lambda_vals, 1)\n",
    "print(\"AUC: \",auc,\" Accuracy: \",acc, \" λ: \", lambda, \" Time: \", elapsed)"
   ]
  },
  {
   "cell_type": "code",
   "execution_count": 1101,
   "metadata": {
    "scrolled": true
   },
   "outputs": [
    {
     "data": {
      "text/plain": [
       "9-element Array{Float64,1}:\n",
       " -1.2491146835999314 \n",
       " -0.39400162440683767\n",
       "  0.8613423821765253 \n",
       " -0.32102663050231073\n",
       " -0.8139954311049188 \n",
       "  0.6009822082585471 \n",
       "  1.3343957893626073 \n",
       "  0.4155759958315488 \n",
       "  1.4982238682425273 "
      ]
     },
     "execution_count": 1101,
     "metadata": {},
     "output_type": "execute_result"
    }
   ],
   "source": [
    "w"
   ]
  },
  {
   "cell_type": "code",
   "execution_count": 1102,
   "metadata": {},
   "outputs": [
    {
     "name": "stdout",
     "output_type": "stream",
     "text": [
      "AUC: 0.7637362637362638 Accuracy: 0.7 λ: 1.0e-5 Time: 1.3824620246887207"
     ]
    }
   ],
   "source": [
    "seed = 2\n",
    "auc, acc, lambda, elapsed = test(df,categorical_vars,numerical_vars,0.75,0.75,0.0001, lambda_vals, seed)\n",
    "print(\"AUC: \",auc,\" Accuracy: \",acc, \" λ: \", lambda, \" Time: \", elapsed)"
   ]
  },
  {
   "cell_type": "code",
   "execution_count": 1103,
   "metadata": {},
   "outputs": [
    {
     "name": "stdout",
     "output_type": "stream",
     "text": [
      "AUC: 0.41500000000000004 Accuracy: 0.35 λ: 0.05 Time: 1.432671070098877"
     ]
    }
   ],
   "source": [
    "seed = 3\n",
    "auc, acc, lambda, elapsed = test(df,categorical_vars,numerical_vars,0.75,0.75,0.0001, lambda_vals, seed)\n",
    "print(\"AUC: \",auc,\" Accuracy: \",acc, \" λ: \", lambda, \" Time: \", elapsed)"
   ]
  },
  {
   "cell_type": "code",
   "execution_count": 1104,
   "metadata": {},
   "outputs": [
    {
     "name": "stdout",
     "output_type": "stream",
     "text": [
      "AUC: 0.609375 Accuracy: 0.5 λ: 1.0e-5 Time: 1.4455699920654297"
     ]
    }
   ],
   "source": [
    "seed = 4\n",
    "auc, acc, lambda, elapsed = test(df,categorical_vars,numerical_vars,0.75,0.75,0.0001, lambda_vals, seed)\n",
    "print(\"AUC: \",auc,\" Accuracy: \",acc, \" λ: \", lambda, \" Time: \", elapsed)"
   ]
  },
  {
   "cell_type": "code",
   "execution_count": 1105,
   "metadata": {},
   "outputs": [
    {
     "data": {
      "text/plain": [
       "(432, 7)"
      ]
     },
     "execution_count": 1105,
     "metadata": {},
     "output_type": "execute_result"
    }
   ],
   "source": [
    "df = CSV.read(\"Data/monks-1.test\";header=false)[:,2:end]\n",
    "select!(df, Not(Symbol.(\"Column9\")))\n",
    "df[!, 1], df[!, end] = df[!, end], df[!, 1]\n",
    "size(df)"
   ]
  },
  {
   "cell_type": "code",
   "execution_count": 1106,
   "metadata": {},
   "outputs": [
    {
     "data": {
      "text/plain": [
       "(432, 12)"
      ]
     },
     "execution_count": 1106,
     "metadata": {},
     "output_type": "execute_result"
    }
   ],
   "source": [
    "lambda_vals = [0.0001,0.0005,0.001,0.005,0.01,0.05,0.1,0.15]\n",
    "categorical_vars = propertynames(df)\n",
    "numerical_vars = []\n",
    "df = preprocess(df, categorical_vars, numerical_vars)\n",
    "n,p=size(df)"
   ]
  },
  {
   "cell_type": "code",
   "execution_count": 1107,
   "metadata": {},
   "outputs": [
    {
     "name": "stdout",
     "output_type": "stream",
     "text": [
      "AUC: 0.7127586206896552 Accuracy: 0.8055555555555556 λ: 0.0001 Time: 10.483556985855103"
     ]
    }
   ],
   "source": [
    "seed = 1\n",
    "auc, acc, lambda, elapsed, w = test(df,categorical_vars,numerical_vars,0.75,0.75,0.0001, lambda_vals, seed)\n",
    "print(\"AUC: \",auc,\" Accuracy: \",acc, \" λ: \", lambda, \" Time: \", elapsed)"
   ]
  },
  {
   "cell_type": "code",
   "execution_count": 1108,
   "metadata": {},
   "outputs": [
    {
     "data": {
      "text/plain": [
       "11-element Array{Float64,1}:\n",
       " -0.19944295285656555\n",
       " -0.33591579233249164\n",
       " -0.2301026230951267 \n",
       " -0.39198603439158647\n",
       " -0.10837953319927252\n",
       "  0.1260196467374425 \n",
       " -0.11952095188224586\n",
       " -0.1318511976705135 \n",
       "  6.774467365172956  \n",
       " -0.11512308916662675\n",
       " -0.17504668832152295"
      ]
     },
     "execution_count": 1108,
     "metadata": {},
     "output_type": "execute_result"
    }
   ],
   "source": [
    "w"
   ]
  },
  {
   "cell_type": "code",
   "execution_count": 1109,
   "metadata": {},
   "outputs": [
    {
     "name": "stdout",
     "output_type": "stream",
     "text": [
      "AUC: 0.7620192307692308 Accuracy: 0.7777777777777778 λ: 0.1 Time: 10.872619867324829"
     ]
    }
   ],
   "source": [
    "seed = 2\n",
    "auc, acc, lambda, elapsed, w = test(df,categorical_vars,numerical_vars,0.75,0.75,0.0001, lambda_vals, seed)\n",
    "print(\"AUC: \",auc,\" Accuracy: \",acc, \" λ: \", lambda, \" Time: \", elapsed)"
   ]
  },
  {
   "cell_type": "code",
   "execution_count": 1110,
   "metadata": {},
   "outputs": [
    {
     "data": {
      "text/plain": [
       "11-element Array{Float64,1}:\n",
       " -0.08047366342341884 \n",
       " -0.06486894638733899 \n",
       "  0.01632846139507369 \n",
       " -0.08297882024619946 \n",
       "  0.017129200465058517\n",
       "  0.02125276026886155 \n",
       " -0.05372634151023013 \n",
       " -0.018441210454888616\n",
       "  0.8516057927454216  \n",
       " -0.21500761774344815 \n",
       " -0.22731284413419067 "
      ]
     },
     "execution_count": 1110,
     "metadata": {},
     "output_type": "execute_result"
    }
   ],
   "source": [
    "w"
   ]
  },
  {
   "cell_type": "code",
   "execution_count": 1111,
   "metadata": {},
   "outputs": [
    {
     "name": "stdout",
     "output_type": "stream",
     "text": [
      "AUC: 0.6411663807890223 Accuracy: 0.7222222222222222 λ: 0.0001 Time: 11.662354946136475"
     ]
    }
   ],
   "source": [
    "seed = 3\n",
    "auc, acc, lambda, elapsed = test(df,categorical_vars,numerical_vars,0.75,0.75,0.0001, lambda_vals, seed)\n",
    "print(\"AUC: \",auc,\" Accuracy: \",acc, \" λ: \", lambda, \" Time: \", elapsed)"
   ]
  },
  {
   "cell_type": "code",
   "execution_count": 1131,
   "metadata": {},
   "outputs": [
    {
     "data": {
      "text/plain": [
       "(690, 16)"
      ]
     },
     "execution_count": 1131,
     "metadata": {},
     "output_type": "execute_result"
    }
   ],
   "source": [
    "df = CSV.read(\"Data/credit-screening/crx.data\";header=false)\n",
    "n,p=size(df)"
   ]
  },
  {
   "cell_type": "code",
   "execution_count": 1132,
   "metadata": {},
   "outputs": [
    {
     "data": {
      "text/plain": [
       "(653, 38)"
      ]
     },
     "execution_count": 1132,
     "metadata": {},
     "output_type": "execute_result"
    }
   ],
   "source": [
    "categorical_vars = propertynames(df[1,vcat(1,4:7,9:10,12:13,16)])\n",
    "numerical_vars = propertynames(df[1,vcat(2:3,8,11,14:15)])\n",
    "lambda_vals = [0.0001,0.0005,0.001,0.005,0.01]\n",
    "df = preprocess(df, categorical_vars, numerical_vars)\n",
    "n,p=size(df)"
   ]
  },
  {
   "cell_type": "code",
   "execution_count": 1133,
   "metadata": {},
   "outputs": [
    {
     "name": "stdout",
     "output_type": "stream",
     "text": [
      "AUC: 0.917298824929347 Accuracy: 0.8780487804878049 λ: 0.0001 Time: 283.30889797210693"
     ]
    }
   ],
   "source": [
    "seed = 1\n",
    "auc, acc, lambda, elapsed,w = test(df,categorical_vars,numerical_vars,0.75,0.75,0.0001, lambda_vals, seed)\n",
    "print(\"AUC: \",auc,\" Accuracy: \",acc, \" λ: \", lambda, \" Time: \", elapsed)"
   ]
  },
  {
   "cell_type": "code",
   "execution_count": 1134,
   "metadata": {},
   "outputs": [
    {
     "name": "stdout",
     "output_type": "stream",
     "text": [
      "AUC: 0.9585037104346509 Accuracy: 0.8841463414634146 λ: 0.005 Time: 302.3048839569092"
     ]
    }
   ],
   "source": [
    "seed = 2\n",
    "auc, acc, lambda, elapsed,w = test(df,categorical_vars,numerical_vars,0.75,0.75,0.0001, lambda_vals, seed)\n",
    "print(\"AUC: \",auc,\" Accuracy: \",acc, \" λ: \", lambda, \" Time: \", elapsed)"
   ]
  },
  {
   "cell_type": "code",
   "execution_count": 1135,
   "metadata": {
    "scrolled": true
   },
   "outputs": [
    {
     "name": "stdout",
     "output_type": "stream",
     "text": [
      "AUC: 0.9219504830917874 Accuracy: 0.8658536585365854 λ: 0.01 Time: 361.72257113456726"
     ]
    }
   ],
   "source": [
    "seed = 3\n",
    "auc, acc, lambda, elapsed,w = test(df,categorical_vars,numerical_vars,0.75,0.75,0.0001, lambda_vals, seed)\n",
    "print(\"AUC: \",auc,\" Accuracy: \",acc, \" λ: \", lambda, \" Time: \", elapsed)"
   ]
  },
  {
   "cell_type": "code",
   "execution_count": 1136,
   "metadata": {},
   "outputs": [
    {
     "data": {
      "text/plain": [
       "3.0625289434121163"
      ]
     },
     "execution_count": 1136,
     "metadata": {},
     "output_type": "execute_result"
    }
   ],
   "source": [
    "maximum(w)"
   ]
  },
  {
   "cell_type": "code",
   "execution_count": 1137,
   "metadata": {},
   "outputs": [
    {
     "data": {
      "text/plain": [
       "(3658, 16)"
      ]
     },
     "execution_count": 1137,
     "metadata": {},
     "output_type": "execute_result"
    }
   ],
   "source": [
    "df = CSV.read(\"Data/framingham.csv\";header=true)\n",
    "size(df)"
   ]
  },
  {
   "cell_type": "code",
   "execution_count": 1138,
   "metadata": {},
   "outputs": [
    {
     "data": {
      "text/plain": [
       "(3658, 18)"
      ]
     },
     "execution_count": 1138,
     "metadata": {},
     "output_type": "execute_result"
    }
   ],
   "source": [
    "categorical_vars = Symbol.([\"education\"])\n",
    "numerical_vars = Symbol.([\"age\" ;\"cigsPerDay\";\"totChol\";\"sysBP\";\"diaBP\";\"BMI\";\"heartRate\";\"glucose\"])\n",
    "lambda_vals = [0.00001,0.0001,0.0005,0.001,0.005,0.01,0.05,0.1]\n",
    "df = preprocess(df, categorical_vars, numerical_vars)\n",
    "n,p=size(df)"
   ]
  },
  {
   "cell_type": "code",
   "execution_count": 1139,
   "metadata": {},
   "outputs": [
    {
     "name": "stdout",
     "output_type": "stream",
     "text": [
      "AUC: 0.8933895907323683 Accuracy: 0.8273224043715847 λ: 0.001 Time: 227.89117217063904"
     ]
    }
   ],
   "source": [
    "seed = 1\n",
    "auc, acc, lambda,elapsed,w = test(df,categorical_vars,numerical_vars, 0.75, 0.75,0.0001, lambda_vals,seed)\n",
    "print(\"AUC: \",auc,\" Accuracy: \",acc, \" λ: \", lambda, \" Time: \", elapsed)"
   ]
  },
  {
   "cell_type": "code",
   "execution_count": 1140,
   "metadata": {},
   "outputs": [
    {
     "name": "stdout",
     "output_type": "stream",
     "text": [
      "AUC: 0.8835407884949168 Accuracy: 0.8185792349726776 λ: 1.0e-5 Time: 229.15803718566895"
     ]
    }
   ],
   "source": [
    "seed = 2\n",
    "auc, acc, lambda,elapsed = test(df,categorical_vars,numerical_vars, 0.75, 0.75,0.0001, lambda_vals,seed)\n",
    "print(\"AUC: \",auc,\" Accuracy: \",acc, \" λ: \", lambda, \" Time: \", elapsed)"
   ]
  },
  {
   "cell_type": "code",
   "execution_count": 1141,
   "metadata": {},
   "outputs": [
    {
     "name": "stdout",
     "output_type": "stream",
     "text": [
      "AUC: 0.9007934540044631 Accuracy: 0.8360655737704918 λ: 1.0e-5 Time: 228.73048520088196"
     ]
    }
   ],
   "source": [
    "seed = 3\n",
    "auc, acc, lambda,elapsed = test(df,categorical_vars,numerical_vars, 0.75, 0.75,0.0001, lambda_vals,seed)\n",
    "print(\"AUC: \",auc,\" Accuracy: \",acc, \" λ: \", lambda, \" Time: \", elapsed)"
   ]
  },
  {
   "cell_type": "code",
   "execution_count": 1142,
   "metadata": {},
   "outputs": [
    {
     "data": {
      "text/plain": [
       "(30000, 25)"
      ]
     },
     "execution_count": 1142,
     "metadata": {},
     "output_type": "execute_result"
    }
   ],
   "source": [
    "df = CSV.read(\"Data/default of credit card clients.csv\";header=true)\n",
    "n,p = size(df)"
   ]
  },
  {
   "cell_type": "code",
   "execution_count": 1143,
   "metadata": {
    "scrolled": true
   },
   "outputs": [
    {
     "data": {
      "text/plain": [
       "2-element Array{Symbol,1}:\n",
       " :EDUCATION\n",
       " :MARRIAGE "
      ]
     },
     "execution_count": 1143,
     "metadata": {},
     "output_type": "execute_result"
    }
   ],
   "source": [
    "propertynames(df[1,vcat(4:5)])"
   ]
  },
  {
   "cell_type": "code",
   "execution_count": 1144,
   "metadata": {},
   "outputs": [
    {
     "data": {
      "text/plain": [
       "(30000, 32)"
      ]
     },
     "execution_count": 1144,
     "metadata": {},
     "output_type": "execute_result"
    }
   ],
   "source": [
    "categorical_vars = propertynames(df[1,vcat(4:5)])\n",
    "numerical_vars = propertynames(df[1,vcat([2,6],7:24)])\n",
    "lambda_vals = [0.00001,0.0001,0.0005,0.001,0.005,0.01,0.05]\n",
    "df = preprocess(df, categorical_vars, numerical_vars)\n",
    "n,p=size(df)"
   ]
  },
  {
   "cell_type": "code",
   "execution_count": 1145,
   "metadata": {},
   "outputs": [
    {
     "name": "stdout",
     "output_type": "stream",
     "text": [
      "Enter cross-validation\n",
      "1\n",
      "Number of constraints: 500\t Error = 3034.147460961999\n",
      "Number of constraints: 1000\t Error = 2038.3273531629804\n",
      "Number of constraints: 1500\t Error = 757.9373835279533\n",
      "Number of constraints: 2000\t Error = 1099.0112429838846\n",
      "Number of constraints: 2500\t Error = 1068.8599842678923\n",
      "Number of constraints: 3000\t Error = 1037.9689351804584\n",
      "Number of constraints: 3500\t Error = 1446.651848430472\n",
      "Number of constraints: 4000\t Error = 1085.485219207882\n",
      "Number of constraints: 4500\t Error = 656.6829614483964\n",
      "Number of constraints: 5000\t Error = 727.3618853526762\n",
      "Number of constraints: 5500\t Error = 1871.9293495737795\n",
      "Number of constraints: 6000\t Error = 538.0591961111122\n",
      "Number of constraints: 6500\t Error = 576.5444218938436\n",
      "Number of constraints: 7000\t Error = 491.20520704892573\n",
      "Number of constraints: 7500\t Error = 483.3426844158958\n",
      "Number of constraints: 8000\t Error = 572.726774638979\n",
      "Number of constraints: 8500\t Error = 475.50508825754514\n",
      "Number of constraints: 9000\t Error = 464.42447110190625\n",
      "Number of constraints: 9500\t Error = 328.6698294418624\n",
      "Number of constraints: 10000\t Error = 725.5987469298406\n",
      "Number of constraints: 10500\t Error = 288.0150750586961\n",
      "Number of constraints: 11000\t Error = 281.40257750317585\n",
      "Number of constraints: 11500\t Error = 227.61562070374023\n",
      "Number of constraints: 12000\t Error = 148.60808314925893\n",
      "Number of constraints: 12500\t Error = 108.64025094074702\n",
      "Number of constraints: 13000\t Error = 12.335188981060597\n",
      "Number of constraints: 13500\t Error = 0.37959675428786\n",
      "Number of constraints: 14000\t Error = 0.004087721959429302\n",
      "2\n",
      "Number of constraints: 500\t Error = 1266.506915189085\n",
      "Number of constraints: 1000\t Error = 1645.5650985341974\n",
      "Number of constraints: 1500\t Error = 1426.7110449384463\n",
      "Number of constraints: 2000\t Error = 2068.510203888593\n",
      "Number of constraints: 2500\t Error = 969.7033344251536\n",
      "Number of constraints: 3000\t Error = 722.9418726789664\n",
      "Number of constraints: 3500\t Error = 547.4883929513497\n",
      "Number of constraints: 4000\t Error = 977.1616301489141\n",
      "Number of constraints: 4500\t Error = 592.7911782877644\n",
      "Number of constraints: 5000\t Error = 1076.4228339085685\n",
      "Number of constraints: 5500\t Error = 476.97602257649345\n",
      "Number of constraints: 6000\t Error = 449.3796805230337\n",
      "Number of constraints: 6500\t Error = 643.1574214528264\n",
      "Number of constraints: 7000\t Error = 420.0034137804962\n",
      "Number of constraints: 7500\t Error = 380.5412307705369\n",
      "Number of constraints: 8000\t Error = 361.51357100855046\n",
      "Number of constraints: 8500\t Error = 288.0559731836695\n",
      "Number of constraints: 9000\t Error = 240.19438726835537\n",
      "Number of constraints: 9500\t Error = 188.131018896835\n",
      "Number of constraints: 10000\t Error = 161.5367426916304\n",
      "Number of constraints: 10500\t Error = 27.09314126927829\n",
      "Number of constraints: 11000\t Error = 1.287347790742757\n",
      "Number of constraints: 11500\t Error = 0.011076316735106673\n",
      "3\n",
      "Number of constraints: 500\t Error = 1418.5553977972406\n",
      "Number of constraints: 1000\t Error = 1546.251678356734\n",
      "Number of constraints: 1500\t Error = 2362.796536696305\n",
      "Number of constraints: 2000\t Error = 3632.701807754772\n",
      "Number of constraints: 2500\t Error = 1136.6311006789638\n",
      "Number of constraints: 3000\t Error = 1260.1074014495289\n",
      "Number of constraints: 3500\t Error = 1119.158714807864\n",
      "Number of constraints: 4000\t Error = 841.9222321974302\n",
      "Number of constraints: 4500\t Error = 696.6009196727523\n",
      "Number of constraints: 5000\t Error = 505.41370564252264\n",
      "Number of constraints: 5500\t Error = 879.2622181237234\n",
      "Number of constraints: 6000\t Error = 335.74735291903596\n",
      "Number of constraints: 6500\t Error = 1597.4396510694617\n",
      "Number of constraints: 7000\t Error = 277.70455449155526\n",
      "Number of constraints: 7500\t Error = 229.55979629133202\n",
      "Number of constraints: 8000\t Error = 380.6053103003636\n",
      "Number of constraints: 8500\t Error = 249.314244571786\n",
      "Number of constraints: 9000\t Error = 363.5860658676311\n",
      "Number of constraints: 9500\t Error = 167.64622118985847\n",
      "Number of constraints: 10000\t Error = 69.28652772359774\n",
      "Number of constraints: 10500\t Error = 9.740472998769349\n",
      "Number of constraints: 11000\t Error = 0.14147715428350693\n",
      "Number of constraints: 11500\t Error = 0.0008112903213941536\n",
      "4\n",
      "Number of constraints: 500\t Error = 3161.1081174626024\n",
      "Number of constraints: 1000\t Error = 2373.474736526458\n",
      "Number of constraints: 1500\t Error = 2494.5230072545837\n",
      "Number of constraints: 2000\t Error = 4001.879043200633\n",
      "Number of constraints: 2500\t Error = 4178.122832355468\n",
      "Number of constraints: 3000\t Error = 2636.0630047157565\n",
      "Number of constraints: 3500\t Error = 6389.425103238057\n",
      "Number of constraints: 4000\t Error = 2576.6990617314764\n",
      "Number of constraints: 4500\t Error = 1821.8502486200816\n",
      "Number of constraints: 5000\t Error = 1648.461540811232\n",
      "Number of constraints: 5500\t Error = 1376.3122302590677\n",
      "Number of constraints: 6000\t Error = 1196.444031029232\n",
      "Number of constraints: 6500\t Error = 2478.6741878205517\n",
      "Number of constraints: 7000\t Error = 1418.2951190736617\n",
      "Number of constraints: 7500\t Error = 1063.0278859236348\n",
      "Number of constraints: 8000\t Error = 893.5756593196666\n",
      "Number of constraints: 8500\t Error = 690.2381390540753\n",
      "Number of constraints: 9000\t Error = 1617.292524747514\n",
      "Number of constraints: 9500\t Error = 624.0568087253757\n",
      "Number of constraints: 10000\t Error = 875.137799399208\n",
      "Number of constraints: 10500\t Error = 684.5872751628916\n",
      "Number of constraints: 11000\t Error = 842.844336777092\n",
      "Number of constraints: 11500\t Error = 2075.5433812683473\n",
      "Number of constraints: 12000\t Error = 881.291546633007\n",
      "Number of constraints: 12500\t Error = 1214.6810365015754\n",
      "Number of constraints: 13000\t Error = 471.47894874024297\n",
      "Number of constraints: 13500\t Error = 530.9156149580574\n",
      "Number of constraints: 14000\t Error = 583.6309747115713\n",
      "Number of constraints: 14500\t Error = 439.7215844611434\n",
      "Number of constraints: 15000\t Error = 508.93405018375967\n",
      "Number of constraints: 15500\t Error = 842.8683558835138\n",
      "Number of constraints: 16000\t Error = 612.612077563194\n",
      "Number of constraints: 16500\t Error = 523.0281670758973\n",
      "Number of constraints: 17000\t Error = 485.820484874386\n",
      "Number of constraints: 17500\t Error = 361.0602823614048\n",
      "Number of constraints: 18000\t Error = 338.93480835779405\n",
      "Number of constraints: 18500\t Error = 638.6085402724024\n",
      "Number of constraints: 19000\t Error = 493.94814344758987\n",
      "Number of constraints: 19500\t Error = 318.7770150461432\n",
      "Number of constraints: 20000\t Error = 201.07044295902196\n",
      "5\n",
      "Number of constraints: 500\t Error = 40461.835534326216\n",
      "Number of constraints: 1000\t Error = 19220.069471044284\n",
      "Number of constraints: 1500\t Error = 6901.1301714258125\n",
      "Number of constraints: 2000\t Error = 10926.621895036811\n",
      "Number of constraints: 2500\t Error = 25281.71836579423\n",
      "Number of constraints: 3000\t Error = 23610.629523157077\n",
      "Number of constraints: 3500\t Error = 15561.15856006389\n",
      "Number of constraints: 4000\t Error = 10483.419531469712\n",
      "Number of constraints: 4500\t Error = 12407.009962332324\n",
      "Number of constraints: 5000\t Error = 7475.913445928814\n",
      "Number of constraints: 5500\t Error = 10838.255165683257\n",
      "Number of constraints: 6000\t Error = 5953.353042524431\n",
      "Number of constraints: 6500\t Error = 14347.0627132365\n",
      "Number of constraints: 7000\t Error = 8223.522245458196\n",
      "Number of constraints: 7500\t Error = 12241.603481517153\n",
      "Number of constraints: 8000\t Error = 10825.476809170867\n",
      "Number of constraints: 8500\t Error = 21775.77456829189\n",
      "Number of constraints: 9000\t Error = 8181.289181278633\n",
      "Number of constraints: 9500\t Error = 5903.30820822106\n",
      "Number of constraints: 10000\t Error = 8440.021443313992\n",
      "Number of constraints: 10500\t Error = 9085.773263741252\n"
     ]
    },
    {
     "ename": "InterruptException",
     "evalue": "InterruptException:",
     "output_type": "error",
     "traceback": [
      "InterruptException:",
      "",
      "Stacktrace:",
      " [1] nrow(::DataFrame) at /Applications/Julia-1.0.app/Contents/Resources/julia/lib/julia/sys.dylib:?",
      " [2] size at /Users/iai/builds/InterpretableAI/SysImgBuilder/.julia/packages/DataFrames/uPgZV/src/abstractdataframe/abstractdataframe.jl:278 [inlined]",
      " [3] axes at /Users/iai/builds/InterpretableAI/SysImgBuilder/.julia/packages/DataFrames/uPgZV/src/abstractdataframe/abstractdataframe.jl:290 [inlined]",
      " [4] getindex at /Users/iai/builds/InterpretableAI/SysImgBuilder/.julia/packages/DataFrames/uPgZV/src/dataframe/dataframe.jl:313 [inlined]",
      " [5] getindex at /Users/iai/builds/InterpretableAI/SysImgBuilder/.julia/packages/DataFrames/uPgZV/src/dataframerow/dataframerow.jl:94 [inlined]",
      " [6] convert(::Type{Array{Float64,1}}, ::DataFrameRow{DataFrame,DataFrames.Index}) at /Users/iai/builds/InterpretableAI/SysImgBuilder/.julia/packages/DataFrames/uPgZV/src/dataframerow/dataframerow.jl:187",
      " [7] convert(::Type{Array{T,1} where T}, ::DataFrameRow{DataFrame,DataFrames.Index}) at /Users/iai/builds/InterpretableAI/SysImgBuilder/.julia/packages/DataFrames/uPgZV/src/dataframerow/dataframerow.jl:185",
      " [8] Type at /Users/iai/builds/InterpretableAI/SysImgBuilder/.julia/packages/DataFrames/uPgZV/src/dataframerow/dataframerow.jl:189 [inlined]",
      " [9] Type at /Users/iai/builds/InterpretableAI/SysImgBuilder/.julia/packages/DataFrames/uPgZV/src/dataframerow/dataframerow.jl:194 [inlined]",
      " [10] compute_∇f(::Array{Float64,1}, ::Array{Int64,1}, ::DataFrame, ::Float64) at ./In[1063]:23",
      " [11] LR_cutting_planes(::Array{Int64,1}, ::DataFrame, ::Float64, ::Float64) at ./In[1095]:45",
      " [12] #robust_LG_valid#403(::typeof(LR_cutting_planes), ::Float64, ::Function, ::DataFrame, ::Array{Int64,1}, ::Float64, ::Array{Float64,1}) at ./In[1096]:12",
      " [13] (::getfield(Main, Symbol(\"#kw##robust_LG_valid\")))(::NamedTuple{(:method, :split_at),Tuple{typeof(LR_cutting_planes),Float64}}, ::typeof(robust_LG_valid), ::DataFrame, ::Array{Int64,1}, ::Float64, ::Array{Float64,1}) at ./none:0",
      " [14] test(::DataFrame, ::Array{Symbol,1}, ::Array{Symbol,1}, ::Float64, ::Float64, ::Float64, ::Array{Float64,1}, ::Int64) at ./In[1097]:17",
      " [15] top-level scope at In[1145]:2"
     ]
    }
   ],
   "source": [
    "seed = 1\n",
    "auc, acc, lambda,elapsed,w = test(df,categorical_vars,numerical_vars, 0.75, 0.75,0.0001, lambda_vals,seed)\n",
    "print(\"AUC: \",auc,\" Accuracy: \",acc, \" λ: \", lambda, \" Time: \", elapsed)"
   ]
  },
  {
   "cell_type": "code",
   "execution_count": 1146,
   "metadata": {},
   "outputs": [
    {
     "data": {
      "text/plain": [
       "17-element Array{Float64,1}:\n",
       "  0.7564803178300495 \n",
       "  0.6510781125823433 \n",
       "  0.05577898804498388\n",
       "  0.25542433043219676\n",
       "  0.25844451713654576\n",
       "  0.886531016636607  \n",
       "  0.328422611020675  \n",
       "  0.30110156571079594\n",
       " -0.3114629158611582 \n",
       " -0.10614015823341487\n",
       "  0.16820402648139052\n",
       " -0.27178104345394566\n",
       "  0.366384084231571  \n",
       "  0.11367239852267316\n",
       " -0.17436851270711196\n",
       " -4.9729848625886035 \n",
       " -5.615896549915456  "
      ]
     },
     "execution_count": 1146,
     "metadata": {},
     "output_type": "execute_result"
    }
   ],
   "source": [
    "w"
   ]
  },
  {
   "cell_type": "code",
   "execution_count": null,
   "metadata": {},
   "outputs": [],
   "source": []
  }
 ],
 "metadata": {
  "kernelspec": {
   "display_name": "Julia 1.0.5",
   "language": "julia",
   "name": "julia-1.0"
  },
  "language_info": {
   "file_extension": ".jl",
   "mimetype": "application/julia",
   "name": "julia",
   "version": "1.0.5"
  }
 },
 "nbformat": 4,
 "nbformat_minor": 4
}
