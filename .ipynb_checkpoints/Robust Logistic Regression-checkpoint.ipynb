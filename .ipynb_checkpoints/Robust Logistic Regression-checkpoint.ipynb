{
 "cells": [
  {
   "cell_type": "code",
   "execution_count": 1,
   "metadata": {},
   "outputs": [
    {
     "name": "stdout",
     "output_type": "stream",
     "text": [
      "\u001b[32m\u001b[1m Resolving\u001b[22m\u001b[39m package versions...\n",
      "\u001b[32m\u001b[1m  Updating\u001b[22m\u001b[39m `~/.julia/environments/v1.0/Project.toml`\n",
      "\u001b[90m [no changes]\u001b[39m\n",
      "\u001b[32m\u001b[1m  Updating\u001b[22m\u001b[39m `~/.julia/environments/v1.0/Manifest.toml`\n",
      "\u001b[90m [no changes]\u001b[39m\n",
      "\u001b[32m\u001b[1m Resolving\u001b[22m\u001b[39m package versions...\n",
      "\u001b[32m\u001b[1m  Updating\u001b[22m\u001b[39m `~/.julia/environments/v1.0/Project.toml`\n",
      "\u001b[90m [no changes]\u001b[39m\n",
      "\u001b[32m\u001b[1m  Updating\u001b[22m\u001b[39m `~/.julia/environments/v1.0/Manifest.toml`\n",
      "\u001b[90m [no changes]\u001b[39m\n"
     ]
    }
   ],
   "source": [
    "using Pkg\n",
    "Pkg.add(\"Distributions\")\n",
    "Pkg.add(\"ROCAnalysis\")\n",
    "Pkg.build(\"MLBase\")"
   ]
  },
  {
   "cell_type": "code",
   "execution_count": 3,
   "metadata": {},
   "outputs": [
    {
     "name": "stdout",
     "output_type": "stream",
     "text": [
      "Academic license - for non-commercial use only\n"
     ]
    },
    {
     "data": {
      "text/plain": [
       "Gurobi.Env(Ptr{Nothing} @0x00007ff914466a00)"
      ]
     },
     "execution_count": 3,
     "metadata": {},
     "output_type": "execute_result"
    }
   ],
   "source": [
    "using JuMP, Gurobi, CSV, LinearAlgebra, DataFrames, Random, Distributions, Statistics,MLBase, ROCAnalysis\n",
    "gurobi_env = Gurobi.Env()\n",
    "\n",
    "\n"
   ]
  },
  {
   "cell_type": "code",
   "execution_count": 305,
   "metadata": {},
   "outputs": [
    {
     "data": {
      "text/plain": [
       "normalize (generic function with 2 methods)"
      ]
     },
     "execution_count": 305,
     "metadata": {},
     "output_type": "execute_result"
    }
   ],
   "source": [
    "function one_hot_encode(X, names)\n",
    "    X2 = deepcopy(X)\n",
    "    select!(X2, Not(Symbol.(names)))\n",
    "    for i in names\n",
    "        vales = unique(X[i])\n",
    "        for j in vales\n",
    "           X2[Symbol(string(i)*\"_\"*string(j))] = (X[i].==j)*1\n",
    "        end\n",
    "    end\n",
    "    return X2\n",
    "end\n",
    "\n",
    "function normalize(X, names)\n",
    "    X2 = deepcopy(X)\n",
    "    select!(X2, Not(Symbol.(names)))\n",
    "    for j in names\n",
    "        X2[j] = (X[:,j] .- mean(X[:,j])) / std(X[:,j])\n",
    "    end\n",
    "    return X2\n",
    "#     n,p = size(X)\n",
    "#     normalized = zeros(n,p)\n",
    "#     for j in 1:p\n",
    "#         normalized[:,j] = (X[:,j] .- mean(X[:,j])) / std(X[:,j])\n",
    "#     end\n",
    "#     return normalized\n",
    "end"
   ]
  },
  {
   "cell_type": "code",
   "execution_count": 324,
   "metadata": {},
   "outputs": [
    {
     "data": {
      "text/html": [
       "<table class=\"data-frame\"><thead><tr><th></th><th>Age</th><th>Delivery number</th><th>Delivery time</th><th>Blood of Pressure</th><th>Heart Problem</th><th>Caesarian</th></tr><tr><th></th><th>Int64</th><th>Int64</th><th>Int64</th><th>Int64</th><th>Int64</th><th>Int64</th></tr></thead><tbody><p>80 rows × 6 columns</p><tr><th>1</th><td>22</td><td>1</td><td>0</td><td>2</td><td>0</td><td>0</td></tr><tr><th>2</th><td>26</td><td>2</td><td>0</td><td>1</td><td>0</td><td>1</td></tr><tr><th>3</th><td>26</td><td>2</td><td>1</td><td>1</td><td>0</td><td>0</td></tr><tr><th>4</th><td>28</td><td>1</td><td>0</td><td>2</td><td>0</td><td>0</td></tr><tr><th>5</th><td>22</td><td>2</td><td>0</td><td>1</td><td>0</td><td>1</td></tr><tr><th>6</th><td>26</td><td>1</td><td>1</td><td>0</td><td>0</td><td>0</td></tr><tr><th>7</th><td>27</td><td>2</td><td>0</td><td>1</td><td>0</td><td>0</td></tr><tr><th>8</th><td>32</td><td>3</td><td>0</td><td>1</td><td>0</td><td>1</td></tr><tr><th>9</th><td>28</td><td>2</td><td>0</td><td>1</td><td>0</td><td>0</td></tr><tr><th>10</th><td>27</td><td>1</td><td>1</td><td>1</td><td>0</td><td>1</td></tr><tr><th>11</th><td>36</td><td>1</td><td>0</td><td>1</td><td>0</td><td>0</td></tr><tr><th>12</th><td>33</td><td>1</td><td>1</td><td>0</td><td>0</td><td>1</td></tr><tr><th>13</th><td>23</td><td>1</td><td>1</td><td>1</td><td>0</td><td>0</td></tr><tr><th>14</th><td>20</td><td>1</td><td>0</td><td>1</td><td>1</td><td>0</td></tr><tr><th>15</th><td>29</td><td>1</td><td>2</td><td>0</td><td>1</td><td>1</td></tr><tr><th>16</th><td>25</td><td>1</td><td>2</td><td>0</td><td>0</td><td>0</td></tr><tr><th>17</th><td>25</td><td>1</td><td>0</td><td>1</td><td>0</td><td>0</td></tr><tr><th>18</th><td>20</td><td>1</td><td>2</td><td>2</td><td>0</td><td>1</td></tr><tr><th>19</th><td>37</td><td>3</td><td>0</td><td>1</td><td>1</td><td>1</td></tr><tr><th>20</th><td>24</td><td>1</td><td>2</td><td>0</td><td>1</td><td>1</td></tr><tr><th>21</th><td>26</td><td>1</td><td>1</td><td>1</td><td>0</td><td>0</td></tr><tr><th>22</th><td>33</td><td>2</td><td>0</td><td>0</td><td>1</td><td>1</td></tr><tr><th>23</th><td>25</td><td>1</td><td>1</td><td>2</td><td>0</td><td>0</td></tr><tr><th>24</th><td>27</td><td>1</td><td>0</td><td>0</td><td>1</td><td>1</td></tr><tr><th>25</th><td>20</td><td>1</td><td>0</td><td>2</td><td>1</td><td>1</td></tr><tr><th>26</th><td>18</td><td>1</td><td>0</td><td>1</td><td>0</td><td>0</td></tr><tr><th>27</th><td>18</td><td>1</td><td>1</td><td>2</td><td>1</td><td>1</td></tr><tr><th>28</th><td>30</td><td>1</td><td>0</td><td>1</td><td>0</td><td>0</td></tr><tr><th>29</th><td>32</td><td>1</td><td>0</td><td>2</td><td>1</td><td>1</td></tr><tr><th>30</th><td>26</td><td>2</td><td>1</td><td>1</td><td>1</td><td>0</td></tr><tr><th>&vellip;</th><td>&vellip;</td><td>&vellip;</td><td>&vellip;</td><td>&vellip;</td><td>&vellip;</td><td>&vellip;</td></tr></tbody></table>"
      ],
      "text/latex": [
       "\\begin{tabular}{r|cccccc}\n",
       "\t& Age & Delivery number & Delivery time & Blood of Pressure & Heart Problem & Caesarian\\\\\n",
       "\t\\hline\n",
       "\t& Int64 & Int64 & Int64 & Int64 & Int64 & Int64\\\\\n",
       "\t\\hline\n",
       "\t1 & 22 & 1 & 0 & 2 & 0 & 0 \\\\\n",
       "\t2 & 26 & 2 & 0 & 1 & 0 & 1 \\\\\n",
       "\t3 & 26 & 2 & 1 & 1 & 0 & 0 \\\\\n",
       "\t4 & 28 & 1 & 0 & 2 & 0 & 0 \\\\\n",
       "\t5 & 22 & 2 & 0 & 1 & 0 & 1 \\\\\n",
       "\t6 & 26 & 1 & 1 & 0 & 0 & 0 \\\\\n",
       "\t7 & 27 & 2 & 0 & 1 & 0 & 0 \\\\\n",
       "\t8 & 32 & 3 & 0 & 1 & 0 & 1 \\\\\n",
       "\t9 & 28 & 2 & 0 & 1 & 0 & 0 \\\\\n",
       "\t10 & 27 & 1 & 1 & 1 & 0 & 1 \\\\\n",
       "\t11 & 36 & 1 & 0 & 1 & 0 & 0 \\\\\n",
       "\t12 & 33 & 1 & 1 & 0 & 0 & 1 \\\\\n",
       "\t13 & 23 & 1 & 1 & 1 & 0 & 0 \\\\\n",
       "\t14 & 20 & 1 & 0 & 1 & 1 & 0 \\\\\n",
       "\t15 & 29 & 1 & 2 & 0 & 1 & 1 \\\\\n",
       "\t16 & 25 & 1 & 2 & 0 & 0 & 0 \\\\\n",
       "\t17 & 25 & 1 & 0 & 1 & 0 & 0 \\\\\n",
       "\t18 & 20 & 1 & 2 & 2 & 0 & 1 \\\\\n",
       "\t19 & 37 & 3 & 0 & 1 & 1 & 1 \\\\\n",
       "\t20 & 24 & 1 & 2 & 0 & 1 & 1 \\\\\n",
       "\t21 & 26 & 1 & 1 & 1 & 0 & 0 \\\\\n",
       "\t22 & 33 & 2 & 0 & 0 & 1 & 1 \\\\\n",
       "\t23 & 25 & 1 & 1 & 2 & 0 & 0 \\\\\n",
       "\t24 & 27 & 1 & 0 & 0 & 1 & 1 \\\\\n",
       "\t25 & 20 & 1 & 0 & 2 & 1 & 1 \\\\\n",
       "\t26 & 18 & 1 & 0 & 1 & 0 & 0 \\\\\n",
       "\t27 & 18 & 1 & 1 & 2 & 1 & 1 \\\\\n",
       "\t28 & 30 & 1 & 0 & 1 & 0 & 0 \\\\\n",
       "\t29 & 32 & 1 & 0 & 2 & 1 & 1 \\\\\n",
       "\t30 & 26 & 2 & 1 & 1 & 1 & 0 \\\\\n",
       "\t$\\dots$ & $\\dots$ & $\\dots$ & $\\dots$ & $\\dots$ & $\\dots$ & $\\dots$ \\\\\n",
       "\\end{tabular}\n"
      ],
      "text/plain": [
       "80×6 DataFrame. Omitted printing of 2 columns\n",
       "│ Row │ Age   │ Delivery number │ Delivery time │ Blood of Pressure │\n",
       "│     │ \u001b[90mInt64\u001b[39m │ \u001b[90mInt64\u001b[39m           │ \u001b[90mInt64\u001b[39m         │ \u001b[90mInt64\u001b[39m             │\n",
       "├─────┼───────┼─────────────────┼───────────────┼───────────────────┤\n",
       "│ 1   │ 22    │ 1               │ 0             │ 2                 │\n",
       "│ 2   │ 26    │ 2               │ 0             │ 1                 │\n",
       "│ 3   │ 26    │ 2               │ 1             │ 1                 │\n",
       "│ 4   │ 28    │ 1               │ 0             │ 2                 │\n",
       "│ 5   │ 22    │ 2               │ 0             │ 1                 │\n",
       "│ 6   │ 26    │ 1               │ 1             │ 0                 │\n",
       "│ 7   │ 27    │ 2               │ 0             │ 1                 │\n",
       "│ 8   │ 32    │ 3               │ 0             │ 1                 │\n",
       "│ 9   │ 28    │ 2               │ 0             │ 1                 │\n",
       "│ 10  │ 27    │ 1               │ 1             │ 1                 │\n",
       "⋮\n",
       "│ 70  │ 27    │ 2               │ 2             │ 0                 │\n",
       "│ 71  │ 17    │ 1               │ 0             │ 0                 │\n",
       "│ 72  │ 29    │ 1               │ 2             │ 0                 │\n",
       "│ 73  │ 28    │ 2               │ 0             │ 1                 │\n",
       "│ 74  │ 32    │ 3               │ 0             │ 1                 │\n",
       "│ 75  │ 38    │ 3               │ 2             │ 2                 │\n",
       "│ 76  │ 27    │ 2               │ 1             │ 1                 │\n",
       "│ 77  │ 33    │ 4               │ 0             │ 1                 │\n",
       "│ 78  │ 29    │ 2               │ 1             │ 2                 │\n",
       "│ 79  │ 25    │ 1               │ 2             │ 0                 │\n",
       "│ 80  │ 24    │ 2               │ 2             │ 1                 │"
      ]
     },
     "execution_count": 324,
     "metadata": {},
     "output_type": "execute_result"
    }
   ],
   "source": [
    "caesarian_df"
   ]
  },
  {
   "cell_type": "code",
   "execution_count": 5,
   "metadata": {},
   "outputs": [
    {
     "data": {
      "text/plain": [
       "\"/Users/ivanxu/Desktop/MIT/ML under MOL/Final Project/ml-project-mit\""
      ]
     },
     "execution_count": 5,
     "metadata": {},
     "output_type": "execute_result"
    }
   ],
   "source": [
    "pwd()"
   ]
  },
  {
   "cell_type": "code",
   "execution_count": 328,
   "metadata": {},
   "outputs": [],
   "source": [
    "### Loading Data ###\n",
    "caesarian_df = CSV.read(\"Data/caesarian.csv\";header=true)\n",
    "categorical_vars = Symbol.([\"Delivery number\" ;\"Delivery time\";\"Blood of Pressure\";\"Heart Problem\"])\n",
    "X = one_hot_encode(caesarian_df[:,1:end-1], categorical_vars) \n",
    "numerical_vars = Symbol.([\"Age\"])\n",
    "X = normalize(X,numerical_vars)\n",
    "y = caesarian_df[:,end]\n",
    "y[y.==0] .= -1\n",
    "n,p = size(X)\n",
    "IJulia.clear_output()\n",
    ";"
   ]
  },
  {
   "cell_type": "code",
   "execution_count": 315,
   "metadata": {},
   "outputs": [
    {
     "name": "stderr",
     "output_type": "stream",
     "text": [
      "┌ Warning: `getindex(df::DataFrame, col_ind::ColumnIndex)` is deprecated, use `df[!, col_ind]` instead.\n",
      "│   caller = one_hot_encode(::DataFrame, ::Array{Symbol,1}) at In[305]:5\n",
      "└ @ Main ./In[305]:5\n",
      "┌ Warning: `getindex(df::DataFrame, col_ind::ColumnIndex)` is deprecated, use `df[!, col_ind]` instead.\n",
      "│   caller = one_hot_encode(::DataFrame, ::Array{Symbol,1}) at In[305]:7\n",
      "└ @ Main ./In[305]:7\n",
      "┌ Warning: `setindex!(df::DataFrame, v::AbstractVector, col_ind::ColumnIndex)` is deprecated, use `begin\n",
      "│     df[!, col_ind] = v\n",
      "│     df\n",
      "│ end` instead.\n",
      "│   caller = one_hot_encode(::DataFrame, ::Array{Symbol,1}) at In[305]:7\n",
      "└ @ Main ./In[305]:7\n"
     ]
    }
   ],
   "source": [
    "df = CSV.read(\"Data/framingham.csv\";header=true)\n",
    "categorical_vars = Symbol.([\"education\"])\n",
    "X = one_hot_encode(df[:,1:end-1], categorical_vars) \n",
    "numerical_vars = Symbol.([\"age\" ;\"cigsPerDay\";\"totChol\";\"sysBP\";\"diaBP\";\"BMI\";\"heartRate\";\"glucose\"])\n",
    "X = normalize(X,numerical_vars)\n",
    "y = df[:,end]\n",
    "y[y.==0] .= -1\n",
    "n,p = size(X)\n",
    ";"
   ]
  },
  {
   "cell_type": "code",
   "execution_count": 316,
   "metadata": {},
   "outputs": [
    {
     "data": {
      "text/plain": [
       "compute_∇f (generic function with 1 method)"
      ]
     },
     "execution_count": 316,
     "metadata": {},
     "output_type": "execute_result"
    }
   ],
   "source": [
    "### Utils Functions ###\n",
    "function compute_∇f(w_k, y, X, λ)\n",
    "    n, p = size(X)\n",
    "    temp = zeros(p)\n",
    "    for i in 1:n\n",
    "         t = min(exp(-y[i]*(transpose(w_k)*Array(X[i,:]))+λ*transpose(w_k)*w_k),1000000)\n",
    "         Δ = (1/(1+t))*t*(-y[i]*Array(X[i,:]) .+ 2*λ*w_k)\n",
    "#        Δ = (-1/(1+exp(y[i]*dot(w_k,X[i,:])+λ*transpose(w_k)*w_k)))*(y[i].*X[i,:] .+ 2*λ*w_k)\n",
    "        temp = temp + Δ\n",
    "#         if i >= n-5\n",
    "#             println(\"Δ \", Δ)\n",
    "#             println(exp(-y[i]*(transpose(w_k)*Array(X[i,:]))+λ*transpose(w_k)*w_k))\n",
    "# #             for i in 1:5\n",
    "# #                 println(\"y \",y[i])\n",
    "# #                 println(\"X \",X[i,:])\n",
    "# #                 println(\"w \",w_k[:])\n",
    "# #                 #println(log(1+exp(-y[i]*dot(X[i,:], w_k))))\n",
    "# #                 println()\n",
    "# #             end\n",
    "#         end\n",
    "#         if i == n\n",
    "#             println(\"temp\",temp)\n",
    "#         end\n",
    "    end\n",
    "#     for i in 1:5\n",
    "#         println(\"y \",y[i])\n",
    "#         println(\"X \",X[i,:])\n",
    "#         println(\"w \",w_k[:])\n",
    "#         #println(log(1+exp(-y[i]*dot(X[i,:], w_k))))\n",
    "#         println()\n",
    "#     end\n",
    "#     println(\"temp\",temp)\n",
    "    ∇f_k = temp\n",
    "    #println(\"∇f_k\",∇f_k)\n",
    "    return ∇f_k\n",
    "end"
   ]
  },
  {
   "cell_type": "code",
   "execution_count": 317,
   "metadata": {},
   "outputs": [
    {
     "data": {
      "text/plain": [
       "LR_cutting_planes (generic function with 1 method)"
      ]
     },
     "execution_count": 317,
     "metadata": {},
     "output_type": "execute_result"
    }
   ],
   "source": [
    "### Cutting Planes Implementation ###\n",
    "function LR_cutting_planes(y, X, ε, λ)\n",
    "    errors = []\n",
    "    n, p = size(X)\n",
    "    # Initialization values and step 0\n",
    "    w_0 = [0 for i in 1:p]\n",
    "    #w_0 = [rand(Uniform(-0.5, 0.5)) for i in 1:p]\n",
    "    f_0 = sum(log(1+exp(-y[i]*dot(X[i,:], w_0)+λ*transpose(w_0)*w_0)) for i=1:n)\n",
    "    ∇f_0 = compute_∇f(w_0, y, X, λ)\n",
    "\n",
    "    # Outer minimization problem\n",
    "    outer_min_model = Model(solver=GurobiSolver(OutputFlag=0, gurobi_env))\n",
    "    @variable(outer_min_model, t >= 0)\n",
    "    @variable(outer_min_model, w[1:p])\n",
    "    #@constraint(outer_min_model, [j=1:p], -1 <= w[j] <= 1)\n",
    "    @constraint(outer_min_model, t >= f_0 + (dot(∇f_0, w)-dot(∇f_0, w_0)))\n",
    "    @constraint(outer_min_model, [j=1:p], 10 >= w[j])\n",
    "    @constraint(outer_min_model, [j=1:p], w[j] >= -10)\n",
    "    @objective(outer_min_model, Min, t)\n",
    "    k = 1 # Number of constraints in the final problem\n",
    "    solve(outer_min_model)\n",
    "\n",
    "    # New steps k\n",
    "    t_k = getvalue(t)\n",
    "    w_k = getvalue(w)\n",
    "    \n",
    "    f_k = sum(min(log(1+exp(-y[i]*dot(X[i,:], w_k)+λ*transpose(w_k)*w_k)),100) for i=1:n)\n",
    "\n",
    "    ∇f_k = compute_∇f(w_k, y, X, λ)\n",
    "    \n",
    "    while abs(f_k - t_k) >= ε # error\n",
    "\n",
    "\n",
    "        push!(errors, f_k - t_k)\n",
    "        @constraint(outer_min_model,t >= f_k +(dot(∇f_k, w)-dot(∇f_k, w_k)))\n",
    "        k += 1\n",
    "        solve(outer_min_model)\n",
    "        # Updating all the values\n",
    "        t_k = getvalue(t)\n",
    "        w_k = getvalue(w)\n",
    "        f_k = sum(min(log(1+exp(-y[i]*dot(X[i,:], w_k)+λ*transpose(w_k)*w_k)),100) for i=1:n)\n",
    "\n",
    "        ∇f_k = compute_∇f(w_k, y, X, λ)\n",
    "        if k%500 == 0\n",
    "            println(\"Number of constraints: \", k, \"\\t Error = \", abs(t_k - f_k))\n",
    "            println(\"f\",f_k)\n",
    "            println(\"t\",t_k)\n",
    "            println(\"∇f_k\",∇f_k)\n",
    "        end\n",
    "        if k > 200000\n",
    "            break\n",
    "        end\n",
    "    end\n",
    "    push!(errors, f_k - t_k)\n",
    "    return t_k, f_k, w_k, errors\n",
    "end\n"
   ]
  },
  {
   "cell_type": "code",
   "execution_count": 329,
   "metadata": {},
   "outputs": [
    {
     "data": {
      "text/plain": [
       "(44.03514779399681, 44.036119319948526, [-0.417251, -0.0205808, 0.291344, 0.736367, 0.972695, 0.00941008, -0.385637, 0.477979, -0.817128, 0.941508, -0.353275, 0.916084, -0.0484261], Any[784.77, 1161.65, 862.719, 963.622, 755.621, 732.913, 532.843, 617.007, 509.166, 619.573  …  0.00245992, 0.00172581, 0.00146046, 0.00168667, 0.00175646, 0.00149453, 0.00138615, 0.00116168, 0.00120956, 0.000971526])"
      ]
     },
     "execution_count": 329,
     "metadata": {},
     "output_type": "execute_result"
    }
   ],
   "source": [
    "t,f,w,e = LR_cutting_planes(y, Matrix(X), 0.001, 0.01)"
   ]
  },
  {
   "cell_type": "code",
   "execution_count": 163,
   "metadata": {},
   "outputs": [
    {
     "data": {
      "text/plain": [
       "24-element Array{Float64,1}:\n",
       "  0.23703384785294754  \n",
       "  0.09921148005350587  \n",
       "  0.026272878145159627 \n",
       "  0.2100394293366114   \n",
       " -0.04081152009847495  \n",
       " -0.0021329623069474835\n",
       " -0.016144988695909374 \n",
       "  0.12918074249438033  \n",
       "  0.055253983103028724 \n",
       " -0.05689611378267346  \n",
       "  0.0028535089743787303\n",
       " -0.021723551429617086 \n",
       "  0.026907320313608395 \n",
       " -0.014931307088248882 \n",
       " -0.012190801347861976 \n",
       "  0.011252650997368652 \n",
       " -0.020855620834866907 \n",
       "  0.020864222872138655 \n",
       " -0.024421268435081887 \n",
       "  0.02355845938876019  \n",
       " -0.02710403690609416  \n",
       "  0.029225694270705996 \n",
       " -0.01226604992940259  \n",
       "  0.010925169845878342 "
      ]
     },
     "execution_count": 163,
     "metadata": {},
     "output_type": "execute_result"
    }
   ],
   "source": [
    "w"
   ]
  },
  {
   "cell_type": "code",
   "execution_count": 330,
   "metadata": {
    "scrolled": true
   },
   "outputs": [
    {
     "data": {
      "text/plain": [
       "80-element Array{Float64,1}:\n",
       " 0.66565132897982   \n",
       " 0.4382029571043983 \n",
       " 0.22939271764825636\n",
       " 0.6526431521048546 \n",
       " 0.44772770371812626\n",
       " 0.5374852769485364 \n",
       " 0.4358285895872845 \n",
       " 0.5013906518205985 \n",
       " 0.4334571610916939 \n",
       " 0.16547207207663311\n",
       " 0.3226468350197257 \n",
       " 0.520655386885864  \n",
       " 0.17087179237856373\n",
       " ⋮                  \n",
       " 0.7545741252236364 \n",
       " 0.5354889222499811 \n",
       " 0.7685894524265681 \n",
       " 0.7301891949807747 \n",
       " 0.4334571610916939 \n",
       " 0.7815840610352691 \n",
       " 0.760203010396791  \n",
       " 0.227691216821686  \n",
       " 0.6084818542752689 \n",
       " 0.5135996517992059 \n",
       " 0.4414760620410085 \n",
       " 0.169737406255318  "
      ]
     },
     "execution_count": 330,
     "metadata": {},
     "output_type": "execute_result"
    }
   ],
   "source": [
    "1 ./ (1 .+ exp.(-(Matrix(X)*w).+λ*transpose(w)*w))"
   ]
  },
  {
   "cell_type": "code",
   "execution_count": 331,
   "metadata": {},
   "outputs": [
    {
     "data": {
      "text/plain": [
       "23"
      ]
     },
     "execution_count": 331,
     "metadata": {},
     "output_type": "execute_result"
    }
   ],
   "source": [
    "pred = 1 ./ (1 .+ exp.(-(Matrix(X)*w))).> 0.5\n",
    "sum(pred .!= (y .== 1))"
   ]
  },
  {
   "cell_type": "code",
   "execution_count": 332,
   "metadata": {
    "scrolled": true
   },
   "outputs": [
    {
     "data": {
      "text/plain": [
       "0.2875"
      ]
     },
     "execution_count": 332,
     "metadata": {},
     "output_type": "execute_result"
    }
   ],
   "source": [
    "23/80"
   ]
  },
  {
   "cell_type": "code",
   "execution_count": null,
   "metadata": {},
   "outputs": [],
   "source": []
  }
 ],
 "metadata": {
  "kernelspec": {
   "display_name": "Julia 1.0.5",
   "language": "julia",
   "name": "julia-1.0"
  },
  "language_info": {
   "file_extension": ".jl",
   "mimetype": "application/julia",
   "name": "julia",
   "version": "1.0.5"
  }
 },
 "nbformat": 4,
 "nbformat_minor": 4
}
