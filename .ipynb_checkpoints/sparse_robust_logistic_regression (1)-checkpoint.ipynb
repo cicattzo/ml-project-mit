{
 "cells": [
  {
   "cell_type": "code",
   "execution_count": 185,
   "metadata": {},
   "outputs": [
    {
     "name": "stderr",
     "output_type": "stream",
     "text": [
      "WARNING: redefining constant roc_auc_score\n"
     ]
    },
    {
     "data": {
      "text/plain": [
       "PyObject <function roc_auc_score at 0x149695430>"
      ]
     },
     "execution_count": 185,
     "metadata": {},
     "output_type": "execute_result"
    }
   ],
   "source": [
    "using JuMP \n",
    "using Gurobi \n",
    "using CSV \n",
    "using LinearAlgebra\n",
    "using DataFrames\n",
    "using Random\n",
    "using Statistics\n",
    "using Distributions\n",
    "using MLBase\n",
    "using CPUTime\n",
    "using ScikitLearn\n",
    "using MLDataUtils\n",
    "@sk_import metrics: roc_auc_score"
   ]
  },
  {
   "cell_type": "code",
   "execution_count": 2,
   "metadata": {},
   "outputs": [
    {
     "name": "stdout",
     "output_type": "stream",
     "text": [
      "Academic license - for non-commercial use only\n"
     ]
    },
    {
     "data": {
      "text/plain": [
       "Gurobi.Env(Ptr{Nothing} @0x00007ff98da40c00)"
      ]
     },
     "execution_count": 2,
     "metadata": {},
     "output_type": "execute_result"
    }
   ],
   "source": [
    "gurobi_env = Gurobi.Env()"
   ]
  },
  {
   "cell_type": "markdown",
   "metadata": {},
   "source": [
    "### Data Preparation"
   ]
  },
  {
   "cell_type": "code",
   "execution_count": 71,
   "metadata": {},
   "outputs": [
    {
     "data": {
      "text/plain": [
       "preprocess (generic function with 1 method)"
      ]
     },
     "execution_count": 71,
     "metadata": {},
     "output_type": "execute_result"
    }
   ],
   "source": [
    "function one_hot_encode(X, names)\n",
    "    X2 = deepcopy(X)\n",
    "    select!(X2, Not(Symbol.(names)))\n",
    "    for i in names\n",
    "        vales = unique(X[i])\n",
    "        for j in 1:length(vales)-1\n",
    "           X2[Symbol(string(i)*\"_\"*string(vales[j]))] = (X[i].==vales[j])*1\n",
    "        end\n",
    "    end\n",
    "    return X2\n",
    "end\n",
    "\n",
    "function normalize(X, names)\n",
    "    X2 = deepcopy(X)\n",
    "    select!(X2, Not(Symbol.(names)))\n",
    "    for j in names\n",
    "        X2[j] = (X[:,j] .- mean(X[:,j])) / std(X[:,j])\n",
    "    end\n",
    "    return X2\n",
    "end\n",
    "\n",
    "function clean(X)\n",
    "    n,p = size(X)\n",
    "    X2 = deepcopy(X)\n",
    "    i = 0\n",
    "    while i < n\n",
    "        i += 1\n",
    "        if \"?\" in X[i,:]\n",
    "            X = X[1:end .!= i, :]\n",
    "            i -= 1\n",
    "        end\n",
    "        n,_ = size(X)\n",
    "    end\n",
    "    return X\n",
    "end     \n",
    "\n",
    "function toNum(df, names)\n",
    "    n,p = size(df)\n",
    "    for name in names\n",
    "        if !(isa(df[1,name], Int64) || isa(df[1,name], Float64))\n",
    "            temp = zeros(n)\n",
    "            for i=1:n\n",
    "                temp[i] = parse(Float64,df[i,name])\n",
    "            end\n",
    "            df[!,name] = temp\n",
    "        end\n",
    "    end\n",
    "    return df\n",
    "end\n",
    "\n",
    "function preprocess(df, categorical_vars, numerical_vars)\n",
    "    df = clean(df)\n",
    "    df = toNum(df,numerical_vars)\n",
    "    df = normalize(df,numerical_vars)\n",
    "    df = one_hot_encode(df[:,1:end], categorical_vars) \n",
    "    df[df[:,end].==0,end] .= -1\n",
    "    return df\n",
    "end"
   ]
  },
  {
   "cell_type": "markdown",
   "metadata": {},
   "source": [
    "### Tuning SRLR"
   ]
  },
  {
   "cell_type": "code",
   "execution_count": 116,
   "metadata": {},
   "outputs": [
    {
     "data": {
      "text/plain": [
       "results_srlr (generic function with 3 methods)"
      ]
     },
     "execution_count": 116,
     "metadata": {},
     "output_type": "execute_result"
    }
   ],
   "source": [
    "function trainvalid_test_split(X, y, split_at=0.7)\n",
    "    n,p = size(X)\n",
    "    split = convert(Int,floor(split_at*n))\n",
    "    permuted_indices = randperm(n)\n",
    "    trainvalid_indices, test_indices = permuted_indices[1:split], permuted_indices[split+1:end]\n",
    "    X_trainvalid, y_trainvalid = X[trainvalid_indices,:], y[trainvalid_indices]\n",
    "    X_test, y_test = X[test_indices,:], y[test_indices]\n",
    "    return X_trainvalid, X_test, y_trainvalid, y_test\n",
    "end\n",
    "\n",
    "function results_srlr(X, y, alpha_list, epsilon, seed)\n",
    "    Random.seed!(seed)\n",
    "    X_trainvalid, X_test, y_trainvalid, y_test = trainvalid_test_split(X, y, 0.8)\n",
    "    \n",
    "    roc_aucs = zeros(length(alpha_list))\n",
    "\n",
    "    print(\"START VALIDATION\\n\\n\")\n",
    "    \n",
    "    for (i,alpha) in enumerate(alpha_list)\n",
    "        try\n",
    "            print(\"CHECK ALPHA: \", alpha, \"\\n\\n\")\n",
    "            (t_opt, f_opt, w_opt, z_opt, deltas) = srlr(y_trainvalid, X_trainvalid, epsilon, floor(Int, 0.9*size(X_trainvalid)[1]), alpha)\n",
    "\n",
    "            train_index = z_opt.>0\n",
    "            validation_index = z_opt.==0\n",
    "\n",
    "            X_train = X_trainvalid[train_index,:]\n",
    "            X_val = X_trainvalid[validation_index,:]\n",
    "            y_train = y_trainvalid[train_index,:]\n",
    "            y_val = y_trainvalid[validation_index,:]\n",
    "\n",
    "            print(\"Percent class 1 in validation: \", (length(y_val)+sum(y_val))/(2*length(y_val)), \"\\n\")\n",
    "            print(\"Percent class 1 in train: \", (length(y_train)+sum(y_train))/(2*length(y_train)), \"\\n\")\n",
    "\n",
    "            pred_prob_val = 1 ./ (1 .+ exp.(-(Matrix(X_val)*w_opt).+alpha*transpose(w_opt)*w_opt))\n",
    "            roc_aucs[i] = roc_auc_score(y_val ,pred_prob_val)\n",
    "            print(\"Validation ROCAUC: \", roc_auc_score(y_val ,pred_prob_val))\n",
    "        catch err\n",
    "            print(alpha, \" didnt work\")\n",
    "        end\n",
    "    end\n",
    "    \n",
    "    print(\"ENDED VALIDATION\\n\\n\")\n",
    "    \n",
    "    i_best = argmax(roc_aucs)\n",
    "    best_alpha = alpha_list[i_best]\n",
    "    \n",
    "    t_final, f_final, w_final, errors = rlr(y_trainvalid, X_trainvalid, epsilon, best_alpha)\n",
    "    pred_prob_test = 1 ./ (1 .+ exp.(-(Matrix(X_test)*w_final).+best_alpha*transpose(w_final)*w_final))\n",
    "    pred_prob_trainvalid = 1 ./ (1 .+ exp.(-(Matrix(X_trainvalid)*w_final).+best_alpha*transpose(w_final)*w_final))\n",
    "    auc_trainvalid = roc_auc_score(y_trainvalid ,pred_prob_trainvalid)\n",
    "    auc_test = roc_auc_score(y_test ,pred_prob_test)\n",
    "    \n",
    "    return (best_alpha,auc_trainvalid,auc_test,pred_prob_test,pred_prob_trainvalid)\n",
    "    \n",
    "end"
   ]
  },
  {
   "cell_type": "markdown",
   "metadata": {},
   "source": [
    "### Robust Logistic Regression"
   ]
  },
  {
   "cell_type": "code",
   "execution_count": 187,
   "metadata": {},
   "outputs": [
    {
     "data": {
      "text/plain": [
       "rlr (generic function with 1 method)"
      ]
     },
     "execution_count": 187,
     "metadata": {},
     "output_type": "execute_result"
    }
   ],
   "source": [
    "### Utils Functions ###\n",
    "function compute_∇f(w_k, y, X, λ)\n",
    "    n, p = size(X)\n",
    "    temp = zeros(p)\n",
    "    for i in 1:n\n",
    "        t = exp(y[i]*(transpose(w_k)*Array(X[i,:]))-λ*transpose(w_k)*w_k)\n",
    "#         t = exp(-y[i]*(transpose(w_k)*Array(X[i,:]))+λ*transpose(w_k)*w_k)\n",
    "        Δ = (1/(1+t))*(-y[i]*Array(X[i,:]) .+ 2*λ*w_k)\n",
    "        temp = temp + Δ\n",
    "    end\n",
    "    ∇f_k = temp\n",
    "    return ∇f_k\n",
    "end\n",
    "\n",
    "function rlr(y, X, ε, λ)\n",
    "    errors = []\n",
    "    n, p = size(X)\n",
    "    w_0 = [0 for i in 1:p]\n",
    "    f_0 = sum(log(1+exp(-y[i]*dot(X[i,:], w_0)+λ*transpose(w_0)*w_0)) for i=1:n)\n",
    "    ∇f_0 = compute_∇f(w_0, y, X, λ)\n",
    "\n",
    "    # Outer minimization problem\n",
    "    outer_min_model = Model(solver=GurobiSolver(OutputFlag=0, gurobi_env))\n",
    "    @variable(outer_min_model, t >= 0)\n",
    "    @variable(outer_min_model, w[1:p])\n",
    "    #@constraint(outer_min_model, [j=1:p], -1 <= w[j] <= 1)\n",
    "    @constraint(outer_min_model, t >= f_0 + (dot(∇f_0, w)-dot(∇f_0, w_0)))\n",
    "    @constraint(outer_min_model, [j=1:p], 10 >= w[j])\n",
    "    @constraint(outer_min_model, [j=1:p], w[j] >= -10)\n",
    "    @objective(outer_min_model, Min, t)\n",
    "    k = 1 # Number of constraints in the final problem\n",
    "    solve(outer_min_model)\n",
    "\n",
    "    # New steps k\n",
    "    t_k = getvalue(t)\n",
    "    w_k = getvalue(w) \n",
    "    \n",
    "    exponents_f_k = []\n",
    "    \n",
    "    for i in 1:n\n",
    "        if log(1+exp(-y[i]*dot(X[i,:], w_k)+λ*transpose(w_k)*w_k)) == Inf\n",
    "            append!(exponents_f_k, -y[i]*dot(X[i,:], w_k)+λ*transpose(w_k)*w_k)\n",
    "        else\n",
    "            append!(exponents_f_k, log(1+exp(-y[i]*dot(X[i,:], w_k)+λ*transpose(w_k)*w_k)))\n",
    "        end\n",
    "    end\n",
    "    f_k = sum(exponents_f_k[i] for i=1:n)\n",
    "    ∇f_k = compute_∇f(w_k, y, X, λ)\n",
    "    \n",
    "    while abs(f_k - t_k) >= ε # error\n",
    "\n",
    "        push!(errors, f_k - t_k)\n",
    "            \n",
    "        @constraint(outer_min_model,t >= f_k +(dot(∇f_k, w)-dot(∇f_k, w_k)))\n",
    "            \n",
    "        k += 1\n",
    "        solve(outer_min_model)\n",
    "        # Updating all the values\n",
    "        t_k = getvalue(t)\n",
    "#         print(\"\\n\")\n",
    "#         print(t_k)\n",
    "        w_k = getvalue(w)\n",
    "        \n",
    "        exponents_f_k = []\n",
    "    \n",
    "        for i in 1:n\n",
    "            if log(1+exp(-y[i]*dot(X[i,:], w_k)+λ*transpose(w_k)*w_k)) == Inf\n",
    "                append!(exponents_f_k, -y[i]*dot(X[i,:], w_k)+λ*transpose(w_k)*w_k)\n",
    "            else\n",
    "                append!(exponents_f_k, log(1+exp(-y[i]*dot(X[i,:], w_k)+λ*transpose(w_k)*w_k)))\n",
    "            end\n",
    "        end\n",
    "            \n",
    "            \n",
    "        f_k = sum(exponents_f_k[i] for i=1:n)\n",
    "\n",
    "        ∇f_k = compute_∇f(w_k, y, X, λ)\n",
    "         if k%100 == 0\n",
    "             println(\"Number of constraints: \", k, \"\\t Error = \", abs(t_k - f_k))\n",
    "#             println(\"f\",f_k)\n",
    "#             println(\"t\",t_k)\n",
    "#             println(\"∇f_k\",∇f_k)\n",
    "         end\n",
    "        if k > 20000\n",
    "            break\n",
    "        end\n",
    "    end\n",
    "    push!(errors, f_k - t_k)\n",
    "    return t_k, f_k, w_k, errors\n",
    "end\n"
   ]
  },
  {
   "cell_type": "markdown",
   "metadata": {},
   "source": [
    "### Stable Robust Logistic Regression"
   ]
  },
  {
   "cell_type": "code",
   "execution_count": 165,
   "metadata": {},
   "outputs": [
    {
     "data": {
      "text/plain": [
       "srlr (generic function with 1 method)"
      ]
     },
     "execution_count": 165,
     "metadata": {},
     "output_type": "execute_result"
    }
   ],
   "source": [
    "function classification_metrics(preds, actual)\n",
    "    accuracy = sum(preds .== actual)/size(preds)[1]\n",
    "    tpr = dot(\n",
    "        (preds.==1),actual.==1\n",
    "        )/(\n",
    "        dot((preds.==1),actual.==1\n",
    "            ) + dot(\n",
    "            (preds.==-1),actual.==1)\n",
    "    )\n",
    "    fpr = dot(\n",
    "        (preds.==1),actual.==-1\n",
    "        )/ (\n",
    "        dot((preds.==1),actual.==-1\n",
    "            ) + dot(\n",
    "            (preds.==-1),actual.==-1)\n",
    "    )\n",
    "    return accuracy, tpr, fpr\n",
    "end\n",
    "\n",
    "function compute_derivative(w_k, z, y, X, λ)\n",
    "    \n",
    "    n, p = size(X)\n",
    "    \n",
    "    temp = zeros(p)\n",
    "    \n",
    "#     for i in 1:n\n",
    "#         t = exp(-y[i]*(transpose(w_k)*Array(X[i,:]))+λ*transpose(w_k)*w_k)\n",
    "#     #         t = exp(-y[i]*(transpose(w_k)*Array(X[i,:]))+λ*transpose(w_k)*w_k)\n",
    "#         Δ = z[i]*(1/(1+t))*t*(-y[i]*Array(X[i,:]) .+ 2*λ*w_k)\n",
    "#         temp = temp + Δ\n",
    "#     end\n",
    "    for i in 1:n\n",
    "        t = exp(y[i]*(transpose(w_k)*Array(X[i,:]))-λ*transpose(w_k)*w_k)\n",
    "    #         t = exp(-y[i]*(transpose(w_k)*Array(X[i,:]))+λ*transpose(w_k)*w_k)\n",
    "        Δ = z[i]*(1/(1+t))*(-y[i]*Array(X[i,:]) .+ 2*λ*w_k)\n",
    "        temp = temp + Δ\n",
    "    end\n",
    "    derivative = temp\n",
    "#     derivative = sum(\n",
    "#         (\n",
    "#             z[i]*(2*alpha.*w-y[i].*X[i,:]))/(\n",
    "#             exp(y[i]*dot(w,X[i,:])-alpha.*dot(w,w))+1\n",
    "#             ) for i in 1:n\n",
    "#         )\n",
    "    \n",
    "    return derivative\n",
    "    \n",
    "end\n",
    "\n",
    "function inner(w, y, X, k, alpha)\n",
    "    \n",
    "    n, p = size(X)\n",
    "    \n",
    "    model_inner = Model(solver=GurobiSolver(OutputFlag=0,gurobi_env))\n",
    "    \n",
    "    @variable(model_inner, 1 >= z[1:n] >= 0)\n",
    "    \n",
    "#     @constraint(model_inner, [i=1:n], 1 >= z[i])\n",
    "    @constraint(model_inner, sum(z) <= k)\n",
    "    \n",
    "    exponents = []\n",
    "    \n",
    "    for i in 1:n\n",
    "        expo = log(1+exp(-y[i]*dot(X[i,:], w)+ alpha*dot(w,w)))\n",
    "        if expo == Inf\n",
    "            expo = -y[i]*dot(X[i,:], w)+ alpha*dot(w,w)\n",
    "        end\n",
    "        append!(exponents, expo)\n",
    "    end\n",
    "    \n",
    "    @objective(model_inner,\n",
    "        Max,\n",
    "        sum(z[i]*exponents[i] for i=1:n)\n",
    "    )\n",
    "    \n",
    "#     print(model_inner)\n",
    "#     print(\"\\nprint inner\\n\")\n",
    "    \n",
    "#     print(w)\n",
    "#     print(\"\\n\\n\\n\\n\\n\\n\")\n",
    "    \n",
    "    solve(model_inner)\n",
    "    \n",
    "    optimal_z = getvalue(z)\n",
    "    optimal_f = getobjectivevalue(model_inner)\n",
    "    \n",
    "    return optimal_z, optimal_f\n",
    "    \n",
    "end\n",
    "\n",
    "function srlr(y, X, epsilon, k, alpha)\n",
    "    deltas = []\n",
    "    n, p = size(X)\n",
    "    initialization_w = [0.0 for i in 1:p]\n",
    "    initialization_z, initial_f = inner(initialization_w, y, X, k, alpha)\n",
    "    initial_derivative_f = compute_derivative(initialization_w, initialization_z, y, X, alpha)\n",
    "    \n",
    "    model_outer = Model(solver=GurobiSolver(OutputFlag=0, gurobi_env))\n",
    "    \n",
    "    @variable(model_outer, t >= 0)\n",
    "    @variable(model_outer, w[1:p])\n",
    "    \n",
    "    @constraint(\n",
    "        model_outer, t >= initial_f + dot(initial_derivative_f, w)-dot(initial_derivative_f, initialization_w)\n",
    "    )\n",
    "#     @constraint(model_outer, [j=1:p], 10.0 >= w[j])\n",
    "#     @constraint(model_outer, [j=1:p], w[j] >= -10.0)\n",
    "    \n",
    "    @objective(model_outer, Min, t)\n",
    "    \n",
    "    number_const = 1\n",
    "    solve(model_outer)\n",
    "\n",
    "    t_new = getvalue(t)\n",
    "    w_new = getvalue(w)\n",
    "    z_new, f_new = inner(w_new, y, X, k, alpha)\n",
    "\n",
    "    derivative_f_new = compute_derivative(w_new, z_new, y, X, alpha)\n",
    "    while abs(f_new - t_new) >= epsilon\n",
    "        \n",
    "        push!(deltas, f_new - t_new)\n",
    "        \n",
    "        @constraint(model_outer,t >= f_new + dot(derivative_f_new, w)-dot(derivative_f_new, w_new))\n",
    "        \n",
    "#         print(model_outer)\n",
    "#         print(\"print outer\\n\")\n",
    "        \n",
    "        number_const += 1\n",
    "        solve(model_outer)\n",
    "        t_new = getvalue(t)\n",
    "        w_new = getvalue(w)\n",
    "        z_new, f_new = inner(w_new, y, X, k, alpha)\n",
    "\n",
    "        derivative_f_new = compute_derivative(w_new, z_new, y, X, alpha)\n",
    "        \n",
    "        if number_const%100 == 0\n",
    "            println(\"Number of constraints: \", number_const, \"\\t Step delta = \", abs(t_new - f_new))\n",
    "        end\n",
    "        \n",
    "        if number_const > 100000\n",
    "            break\n",
    "            \n",
    "        end\n",
    "    end\n",
    "    push!(deltas, f_new - t_new)\n",
    "    return t_new, f_new, w_new, z_new, deltas\n",
    "end\n"
   ]
  },
  {
   "cell_type": "markdown",
   "metadata": {},
   "source": [
    "#### Validation of SRLR"
   ]
  },
  {
   "cell_type": "code",
   "execution_count": 36,
   "metadata": {},
   "outputs": [
    {
     "data": {
      "text/plain": [
       "classification_metrics (generic function with 1 method)"
      ]
     },
     "execution_count": 36,
     "metadata": {},
     "output_type": "execute_result"
    }
   ],
   "source": [
    "function classification_metrics(preds, actual)\n",
    "    accuracy = sum(preds .== actual)/size(preds)[1]\n",
    "    tpr = dot(\n",
    "        (preds.==1),actual.==1\n",
    "        )/(\n",
    "        dot((preds.==1),actual.==1\n",
    "            ) + dot(\n",
    "            (preds.==-1),actual.==1)\n",
    "    )\n",
    "    fpr = dot(\n",
    "        (preds.==1),actual.==-1\n",
    "        )/ (\n",
    "        dot((preds.==1),actual.==-1\n",
    "            ) + dot(\n",
    "            (preds.==-1),actual.==-1)\n",
    "    )\n",
    "    return accuracy, tpr, fpr\n",
    "end\n"
   ]
  },
  {
   "cell_type": "code",
   "execution_count": 37,
   "metadata": {},
   "outputs": [
    {
     "data": {
      "text/plain": [
       "validation_srlr (generic function with 3 methods)"
      ]
     },
     "execution_count": 37,
     "metadata": {},
     "output_type": "execute_result"
    }
   ],
   "source": [
    "function validation_srlr(X_trainvalid, y_trainvalid, alpha_values, epsilon = 0.001, persent_traindata = 0.8)\n",
    "    for alpha in alpha_values\n",
    "        (t_opt, f_opt, w_opt, z_opt, deltas) = srlr(y_trainvalid, X_trainvalid, epsilon, floor(Int, persent_traindata*size(X)[1]), alpha)\n",
    "        \n",
    "        train_index = z_opt.>0\n",
    "        validation_index = z_opt.==0\n",
    "        \n",
    "        X_train = X_trainvalid[train_index,:]\n",
    "        X_val = X_trainvalid[validation_index,:]\n",
    "        y_train = y_trainvalid[train_index,:]\n",
    "        y_val = y_trainvalid[validation_index,:]\n",
    "        \n",
    "        \n",
    "    end\n",
    "end"
   ]
  },
  {
   "cell_type": "markdown",
   "metadata": {},
   "source": [
    "### Result creation"
   ]
  },
  {
   "cell_type": "code",
   "execution_count": 222,
   "metadata": {},
   "outputs": [
    {
     "data": {
      "text/plain": [
       "3658-element Array{Int64,1}:\n",
       " -1\n",
       " -1\n",
       "  1\n",
       " -1\n",
       " -1\n",
       " -1\n",
       "  1\n",
       " -1\n",
       "  1\n",
       "  1\n",
       "  1\n",
       " -1\n",
       "  1\n",
       "  ⋮\n",
       " -1\n",
       " -1\n",
       "  1\n",
       " -1\n",
       "  1\n",
       " -1\n",
       "  1\n",
       "  1\n",
       " -1\n",
       " -1\n",
       " -1\n",
       " -1"
      ]
     },
     "execution_count": 222,
     "metadata": {},
     "output_type": "execute_result"
    }
   ],
   "source": [
    "df = CSV.read(\"framingham.csv\";header=true)\n",
    "lambda_vals = [0.00001,0.0001,0.0005,0.001,0.005,0.01,0.05,0.1, 0.5, 1.0]\n",
    "categorical_vars = Symbol.([\"education\"])\n",
    "numerical_vars = Symbol.([\"age\" ;\"cigsPerDay\";\"totChol\";\"sysBP\";\"diaBP\";\"BMI\";\"heartRate\";\"glucose\"])\n",
    "df = preprocess(df, categorical_vars, numerical_vars)\n",
    "n,p=size(df)\n",
    "\n",
    "X = df[:,1:end-1]\n",
    "y = df[:,end]"
   ]
  },
  {
   "cell_type": "code",
   "execution_count": null,
   "metadata": {},
   "outputs": [],
   "source": [
    "(best_alpha_framing,\n",
    "    auc_trainvalid_framing,\n",
    "    auc_test_framing,\n",
    "    pred_prob_test_framing,\n",
    "    pred_prob_trainvalid_framing) = results_srlr(\n",
    "    X, y, lambda_vals, 0.1, 1)"
   ]
  },
  {
   "cell_type": "code",
   "execution_count": null,
   "metadata": {},
   "outputs": [],
   "source": [
    "df = CSV.read(\"Data/caesarian.csv\";header=true)\n",
    "lambda_vals = [0.00001,0.0001,0.0005,0.001,0.005,0.01,0.05,0.1]\n",
    "categorical_vars = Symbol.([\"Delivery number\" ;\"Delivery time\";\"Blood of Pressure\";\"Heart Problem\"])\n",
    "numerical_vars = Symbol.([\"Age\"])\n",
    "df = preprocess(df, categorical_vars, numerical_vars)\n",
    "n,p=size(df)\n",
    "\n",
    "X = df[:,1:end-1]\n",
    "y = df[:,end]"
   ]
  },
  {
   "cell_type": "code",
   "execution_count": null,
   "metadata": {},
   "outputs": [],
   "source": [
    "(best_alpha_caesar,\n",
    "    auc_trainvalid_caesar,\n",
    "    auc_test_caesar,\n",
    "    pred_prob_test_caesar,\n",
    "    pred_prob_trainvalid_caesar) = results_srlr(\n",
    "    X, y, lambda_vals, 0.1, 1)"
   ]
  },
  {
   "cell_type": "code",
   "execution_count": null,
   "metadata": {},
   "outputs": [],
   "source": [
    "df = CSV.read(\"Data/credit-screening/crx.data\";header=false)\n",
    "n,p=size(df)\n",
    "categorical_vars = propertynames(df[1,vcat(1,4:7,9:10,12:13,16)])\n",
    "numerical_vars = propertynames(df[1,vcat(2:3,8,11,14:15)])\n",
    "lambda_vals = [0.0001,0.0005,0.001,0.005,0.01]\n",
    "df = preprocess(df, categorical_vars, numerical_vars)\n",
    "n,p=size(df)\n",
    "\n",
    "X = df[:,1:end-1]\n",
    "y = df[:,end]"
   ]
  },
  {
   "cell_type": "code",
   "execution_count": null,
   "metadata": {},
   "outputs": [],
   "source": [
    "(best_alpha_crx,\n",
    "    auc_trainvalid_crx,\n",
    "    auc_test_crx,\n",
    "    pred_prob_test_crx,\n",
    "    pred_prob_trainvalid_crx) = results_srlr(\n",
    "    X, y, lambda_vals, 0.1, 1)"
   ]
  },
  {
   "cell_type": "code",
   "execution_count": null,
   "metadata": {},
   "outputs": [],
   "source": [
    "df = CSV.read(\"Data/default of credit card clients.csv\";header=true)\n",
    "n,p = size(df)\n",
    "categorical_vars = propertynames(df[1,vcat(4:5)])\n",
    "numerical_vars = propertynames(df[1,vcat([2,6],7:24)])\n",
    "lambda_vals = [0.0001,0.001,0.01]\n",
    "df = preprocess(df, categorical_vars, numerical_vars)\n",
    "n,p=size(df)\n",
    "X = df[:,1:end-1]\n",
    "y = df[:,end]"
   ]
  },
  {
   "cell_type": "code",
   "execution_count": null,
   "metadata": {},
   "outputs": [],
   "source": [
    "(best_alpha_default,\n",
    "    auc_trainvalid_default,\n",
    "    auc_test_default,\n",
    "    pred_prob_test_default,\n",
    "    pred_prob_trainvalid_default) = results_srlr(\n",
    "    X, y, lambda_vals, 0.1, 1)"
   ]
  },
  {
   "cell_type": "code",
   "execution_count": null,
   "metadata": {},
   "outputs": [],
   "source": []
  },
  {
   "cell_type": "code",
   "execution_count": null,
   "metadata": {},
   "outputs": [],
   "source": []
  },
  {
   "cell_type": "code",
   "execution_count": null,
   "metadata": {},
   "outputs": [],
   "source": []
  },
  {
   "cell_type": "code",
   "execution_count": 210,
   "metadata": {},
   "outputs": [
    {
     "name": "stdout",
     "output_type": "stream",
     "text": [
      "Number of constraints: 100\t Step delta = 1.3804243676579135e7\n",
      "Number of constraints: 200\t Step delta = 3.474774686579575e6\n",
      "Number of constraints: 300\t Step delta = 399133.46997150284\n",
      "Number of constraints: 400\t Step delta = 82270.56531339893\n",
      "Number of constraints: 500\t Step delta = 3943.06429606212\n",
      "Number of constraints: 600\t Step delta = 582.2833417724397\n",
      "Number of constraints: 700\t Step delta = 59.78607284798511\n",
      "Number of constraints: 800\t Step delta = 3.5167997023713724\n"
     ]
    },
    {
     "data": {
      "text/plain": [
       "(1027.1278049793152, 1028.5488086456257, [0.71438, 0.688522, 0.0863272, 0.102719, 0.233047, 0.607356, 0.387154, 0.313157, -0.323475, -0.101629, 0.12878, -0.255808, 0.357962, 0.078358, -0.139651, -4.8071, -5.22683], [0.0, 1.0, 1.0, 1.0, 0.0, 1.0, 0.0, 1.0, 0.0, 1.0  …  1.0, 0.0, 1.0, 1.0, 1.0, 1.0, 1.0, 1.0, 1.0, 1.0], Any[14008.1, 10170.8, 2.64653e6, 9.08888e5, 8.67502e5, 2.62773e7, 8.83516e6, 2.45704e7, 2.92669e7, 2.25702e8  …  2.57718, 2.0952, 2.19086, 1.71782, 1.95051, 1.97516, 1.90864, 2.17449, 1.63181, 1.421])"
      ]
     },
     "execution_count": 210,
     "metadata": {},
     "output_type": "execute_result"
    }
   ],
   "source": [
    "Random.seed!(1)\n",
    "X_trainvalid, X_test, y_trainvalid, y_test = trainvalid_test_split(X, y, 0.8)\n",
    "\n",
    "(t_opt, f_opt, w_opt, z_opt, deltas) = srlr(y_trainvalid, X_trainvalid, 1.5, floor(Int, 0.8*size(X_trainvalid)[1]), 0.001)"
   ]
  },
  {
   "cell_type": "code",
   "execution_count": 211,
   "metadata": {},
   "outputs": [
    {
     "data": {
      "text/plain": [
       "586×1 Array{Int64,2}:\n",
       " -1\n",
       " -1\n",
       " -1\n",
       " -1\n",
       " -1\n",
       " -1\n",
       " -1\n",
       " -1\n",
       " -1\n",
       " -1\n",
       " -1\n",
       " -1\n",
       " -1\n",
       "  ⋮\n",
       " -1\n",
       " -1\n",
       " -1\n",
       " -1\n",
       " -1\n",
       " -1\n",
       " -1\n",
       " -1\n",
       " -1\n",
       " -1\n",
       " -1\n",
       " -1"
      ]
     },
     "execution_count": 211,
     "metadata": {},
     "output_type": "execute_result"
    }
   ],
   "source": [
    "train_index = z_opt.>0\n",
    "validation_index = z_opt.==0\n",
    "\n",
    "X_train = X_trainvalid[train_index,:]\n",
    "X_val = X_trainvalid[validation_index,:]\n",
    "y_train = y_trainvalid[train_index,:]\n",
    "y_val = y_trainvalid[validation_index,:]"
   ]
  },
  {
   "cell_type": "code",
   "execution_count": 212,
   "metadata": {},
   "outputs": [
    {
     "data": {
      "text/plain": [
       "0.0"
      ]
     },
     "execution_count": 212,
     "metadata": {},
     "output_type": "execute_result"
    }
   ],
   "source": [
    "(length(y_val)+sum(y_val))/(2*length(y_val))"
   ]
  },
  {
   "cell_type": "code",
   "execution_count": 213,
   "metadata": {},
   "outputs": [
    {
     "data": {
      "text/plain": [
       "0.5252136752136752"
      ]
     },
     "execution_count": 213,
     "metadata": {},
     "output_type": "execute_result"
    }
   ],
   "source": [
    "(length(y_train)+sum(y_train))/(2*length(y_train))"
   ]
  },
  {
   "cell_type": "code",
   "execution_count": 207,
   "metadata": {},
   "outputs": [
    {
     "name": "stdout",
     "output_type": "stream",
     "text": [
      "Number of constraints: 100\t Error = 522.6399885124542\n",
      "Number of constraints: 200\t Error = 55.85423274437517\n",
      "Number of constraints: 300\t Error = 4.835614495877962\n",
      "Number of constraints: 400\t Error = 0.6252706307452627\n",
      "Number of constraints: 500\t Error = 0.03934297927935404\n",
      "Number of constraints: 600\t Error = 0.0026394255153263657\n",
      "Number of constraints: 700\t Error = 0.00030354265345522435\n"
     ]
    },
    {
     "data": {
      "text/plain": [
       "0.8978211231084795"
      ]
     },
     "execution_count": 207,
     "metadata": {},
     "output_type": "execute_result"
    }
   ],
   "source": [
    "Random.seed!(1)\n",
    "t_final, f_final, w_final, errors = rlr(y_trainvalid, X_trainvalid, 0.0001, 0.001)\n",
    "pred_prob_test = 1 ./ (1 .+ exp.(-(Matrix(X_test)*w_final).+best_alpha*transpose(w_final)*w_final))\n",
    "pred_prob_trainvalid = 1 ./ (1 .+ exp.(-(Matrix(X_trainvalid)*w_final).+best_alpha*transpose(w_final)*w_final))\n",
    "auc_trainvalid = roc_auc_score(y_trainvalid ,pred_prob_trainvalid)\n",
    "auc_test = roc_auc_score(y_test ,pred_prob_test)"
   ]
  },
  {
   "cell_type": "code",
   "execution_count": 208,
   "metadata": {},
   "outputs": [
    {
     "data": {
      "text/plain": [
       "0.9005975701148776"
      ]
     },
     "execution_count": 208,
     "metadata": {},
     "output_type": "execute_result"
    }
   ],
   "source": [
    "auc_trainvalid"
   ]
  },
  {
   "cell_type": "code",
   "execution_count": 209,
   "metadata": {},
   "outputs": [
    {
     "data": {
      "text/plain": [
       "0.8978211231084795"
      ]
     },
     "execution_count": 209,
     "metadata": {},
     "output_type": "execute_result"
    }
   ],
   "source": [
    "auc_test"
   ]
  },
  {
   "cell_type": "code",
   "execution_count": null,
   "metadata": {},
   "outputs": [],
   "source": []
  }
 ],
 "metadata": {
  "kernelspec": {
   "display_name": "Julia 1.0.5",
   "language": "julia",
   "name": "julia-1.0"
  },
  "language_info": {
   "file_extension": ".jl",
   "mimetype": "application/julia",
   "name": "julia",
   "version": "1.0.5"
  }
 },
 "nbformat": 4,
 "nbformat_minor": 4
}
