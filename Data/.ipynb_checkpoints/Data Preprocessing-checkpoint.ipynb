{
 "cells": [
  {
   "cell_type": "code",
   "execution_count": 22,
   "metadata": {},
   "outputs": [],
   "source": [
    "using Pkg\n",
    "using Random, DataFrames, CSV\n"
   ]
  },
  {
   "cell_type": "code",
   "execution_count": 30,
   "metadata": {},
   "outputs": [
    {
     "data": {
      "text/plain": [
       "one_hot_encode (generic function with 1 method)"
      ]
     },
     "execution_count": 30,
     "metadata": {},
     "output_type": "execute_result"
    }
   ],
   "source": [
    "function one_hot_encode(X, names)\n",
    "    X2 = deepcopy(X)\n",
    "    deletecols!(X2, Symbol.(names))\n",
    "    for i in names\n",
    "        vales = unique(X[i])\n",
    "        for j in vales\n",
    "           X2[Symbol(string(i)*\"_\"*string(j))] = (X[i].==j)*1\n",
    "        end\n",
    "    end\n",
    "    return X2\n",
    "end\n"
   ]
  },
  {
   "cell_type": "code",
   "execution_count": 43,
   "metadata": {},
   "outputs": [
    {
     "data": {
      "text/html": [
       "<table class=\"data-frame\"><thead><tr><th></th><th>Column1</th><th>Column2</th><th>Column3</th><th>Column4</th><th>Column5</th><th>Column6</th><th>Column7</th><th>Column8</th><th>Column9</th></tr><tr><th></th><th>Int64</th><th>String</th><th>Float64</th><th>Float64</th><th>Float64</th><th>Float64</th><th>Float64</th><th>Float64</th><th>Float64</th></tr></thead><tbody><p>3 rows × 32 columns (omitted printing of 23 columns)</p><tr><th>1</th><td>842302</td><td>M</td><td>17.99</td><td>10.38</td><td>122.8</td><td>1001.0</td><td>0.1184</td><td>0.2776</td><td>0.3001</td></tr><tr><th>2</th><td>842517</td><td>M</td><td>20.57</td><td>17.77</td><td>132.9</td><td>1326.0</td><td>0.08474</td><td>0.07864</td><td>0.0869</td></tr><tr><th>3</th><td>84300903</td><td>M</td><td>19.69</td><td>21.25</td><td>130.0</td><td>1203.0</td><td>0.1096</td><td>0.1599</td><td>0.1974</td></tr></tbody></table>"
      ],
      "text/latex": [
       "\\begin{tabular}{r|cccccccccc}\n",
       "\t& Column1 & Column2 & Column3 & Column4 & Column5 & Column6 & Column7 & Column8 & Column9 & \\\\\n",
       "\t\\hline\n",
       "\t& Int64 & String & Float64 & Float64 & Float64 & Float64 & Float64 & Float64 & Float64 & \\\\\n",
       "\t\\hline\n",
       "\t1 & 842302 & M & 17.99 & 10.38 & 122.8 & 1001.0 & 0.1184 & 0.2776 & 0.3001 & $\\dots$ \\\\\n",
       "\t2 & 842517 & M & 20.57 & 17.77 & 132.9 & 1326.0 & 0.08474 & 0.07864 & 0.0869 & $\\dots$ \\\\\n",
       "\t3 & 84300903 & M & 19.69 & 21.25 & 130.0 & 1203.0 & 0.1096 & 0.1599 & 0.1974 & $\\dots$ \\\\\n",
       "\\end{tabular}\n"
      ],
      "text/plain": [
       "3×32 DataFrame. Omitted printing of 25 columns\n",
       "│ Row │ Column1  │ Column2 │ Column3 │ Column4 │ Column5 │ Column6 │ Column7 │\n",
       "│     │ \u001b[90mInt64\u001b[39m    │ \u001b[90mString\u001b[39m  │ \u001b[90mFloat64\u001b[39m │ \u001b[90mFloat64\u001b[39m │ \u001b[90mFloat64\u001b[39m │ \u001b[90mFloat64\u001b[39m │ \u001b[90mFloat64\u001b[39m │\n",
       "├─────┼──────────┼─────────┼─────────┼─────────┼─────────┼─────────┼─────────┤\n",
       "│ 1   │ 842302   │ M       │ 17.99   │ 10.38   │ 122.8   │ 1001.0  │ 0.1184  │\n",
       "│ 2   │ 842517   │ M       │ 20.57   │ 17.77   │ 132.9   │ 1326.0  │ 0.08474 │\n",
       "│ 3   │ 84300903 │ M       │ 19.69   │ 21.25   │ 130.0   │ 1203.0  │ 0.1096  │"
      ]
     },
     "execution_count": 43,
     "metadata": {},
     "output_type": "execute_result"
    }
   ],
   "source": [
    "bc_df = CSV.read(\"./breast_cancer/wdbc.data\";\n",
    "    header=false)\n",
    "first(bc_df,3)"
   ]
  },
  {
   "cell_type": "code",
   "execution_count": 24,
   "metadata": {},
   "outputs": [
    {
     "data": {
      "text/html": [
       "<table class=\"data-frame\"><thead><tr><th></th><th>A1</th><th>A2</th><th>A3</th><th>A4</th><th>A5</th><th>A6</th><th>A7</th><th>A8</th><th>A9</th><th>A10</th></tr><tr><th></th><th>String</th><th>String</th><th>Float64</th><th>String</th><th>String</th><th>String</th><th>String</th><th>Float64</th><th>String</th><th>String</th></tr></thead><tbody><p>3 rows × 16 columns (omitted printing of 6 columns)</p><tr><th>1</th><td>b</td><td>30.83</td><td>0.0</td><td>u</td><td>g</td><td>w</td><td>v</td><td>1.25</td><td>t</td><td>t</td></tr><tr><th>2</th><td>a</td><td>58.67</td><td>4.46</td><td>u</td><td>g</td><td>q</td><td>h</td><td>3.04</td><td>t</td><td>t</td></tr><tr><th>3</th><td>a</td><td>24.50</td><td>0.5</td><td>u</td><td>g</td><td>q</td><td>h</td><td>1.5</td><td>t</td><td>f</td></tr></tbody></table>"
      ],
      "text/latex": [
       "\\begin{tabular}{r|ccccccccccc}\n",
       "\t& A1 & A2 & A3 & A4 & A5 & A6 & A7 & A8 & A9 & A10 & \\\\\n",
       "\t\\hline\n",
       "\t& String & String & Float64 & String & String & String & String & Float64 & String & String & \\\\\n",
       "\t\\hline\n",
       "\t1 & b & 30.83 & 0.0 & u & g & w & v & 1.25 & t & t & $\\dots$ \\\\\n",
       "\t2 & a & 58.67 & 4.46 & u & g & q & h & 3.04 & t & t & $\\dots$ \\\\\n",
       "\t3 & a & 24.50 & 0.5 & u & g & q & h & 1.5 & t & f & $\\dots$ \\\\\n",
       "\\end{tabular}\n"
      ],
      "text/plain": [
       "3×16 DataFrame. Omitted printing of 9 columns\n",
       "│ Row │ A1     │ A2     │ A3      │ A4     │ A5     │ A6     │ A7     │\n",
       "│     │ \u001b[90mString\u001b[39m │ \u001b[90mString\u001b[39m │ \u001b[90mFloat64\u001b[39m │ \u001b[90mString\u001b[39m │ \u001b[90mString\u001b[39m │ \u001b[90mString\u001b[39m │ \u001b[90mString\u001b[39m │\n",
       "├─────┼────────┼────────┼─────────┼────────┼────────┼────────┼────────┤\n",
       "│ 1   │ b      │ 30.83  │ 0.0     │ u      │ g      │ w      │ v      │\n",
       "│ 2   │ a      │ 58.67  │ 4.46    │ u      │ g      │ q      │ h      │\n",
       "│ 3   │ a      │ 24.50  │ 0.5     │ u      │ g      │ q      │ h      │"
      ]
     },
     "execution_count": 24,
     "metadata": {},
     "output_type": "execute_result"
    }
   ],
   "source": [
    "credit_df = CSV.read(\"./credit-screening/crx.data\";header=[\"A1\",\"A2\",\"A3\",\"A4\",\"A5\",\"A6\",\"A7\",\"A8\",\"A9\",\"A10\",\n",
    "        \"A11\",\"A12\",\"A13\",\"A14\",\"A15\",\"A16\"])\n",
    "first(credit_df,3)"
   ]
  },
  {
   "cell_type": "code",
   "execution_count": 35,
   "metadata": {},
   "outputs": [
    {
     "data": {
      "text/html": [
       "<table class=\"data-frame\"><thead><tr><th></th><th>A2</th><th>A3</th><th>A8</th><th>A11</th><th>A14</th><th>A15</th><th>A16</th><th>A1_b</th><th>A1_a</th><th>A1_?</th><th>A4_u</th></tr><tr><th></th><th>String</th><th>Float64</th><th>Float64</th><th>Int64</th><th>String</th><th>Int64</th><th>String</th><th>Int64</th><th>Int64</th><th>Int64</th><th>Int64</th></tr></thead><tbody><p>3 rows × 52 columns (omitted printing of 41 columns)</p><tr><th>1</th><td>30.83</td><td>0.0</td><td>1.25</td><td>1</td><td>00202</td><td>0</td><td>+</td><td>1</td><td>0</td><td>0</td><td>1</td></tr><tr><th>2</th><td>58.67</td><td>4.46</td><td>3.04</td><td>6</td><td>00043</td><td>560</td><td>+</td><td>0</td><td>1</td><td>0</td><td>1</td></tr><tr><th>3</th><td>24.50</td><td>0.5</td><td>1.5</td><td>0</td><td>00280</td><td>824</td><td>+</td><td>0</td><td>1</td><td>0</td><td>1</td></tr></tbody></table>"
      ],
      "text/latex": [
       "\\begin{tabular}{r|cccccccccccc}\n",
       "\t& A2 & A3 & A8 & A11 & A14 & A15 & A16 & A1\\_b & A1\\_a & A1\\_? & A4\\_u & \\\\\n",
       "\t\\hline\n",
       "\t& String & Float64 & Float64 & Int64 & String & Int64 & String & Int64 & Int64 & Int64 & Int64 & \\\\\n",
       "\t\\hline\n",
       "\t1 & 30.83 & 0.0 & 1.25 & 1 & 00202 & 0 & + & 1 & 0 & 0 & 1 & $\\dots$ \\\\\n",
       "\t2 & 58.67 & 4.46 & 3.04 & 6 & 00043 & 560 & + & 0 & 1 & 0 & 1 & $\\dots$ \\\\\n",
       "\t3 & 24.50 & 0.5 & 1.5 & 0 & 00280 & 824 & + & 0 & 1 & 0 & 1 & $\\dots$ \\\\\n",
       "\\end{tabular}\n"
      ],
      "text/plain": [
       "3×52 DataFrame. Omitted printing of 44 columns\n",
       "│ Row │ A2     │ A3      │ A8      │ A11   │ A14    │ A15   │ A16    │ A1_b  │\n",
       "│     │ \u001b[90mString\u001b[39m │ \u001b[90mFloat64\u001b[39m │ \u001b[90mFloat64\u001b[39m │ \u001b[90mInt64\u001b[39m │ \u001b[90mString\u001b[39m │ \u001b[90mInt64\u001b[39m │ \u001b[90mString\u001b[39m │ \u001b[90mInt64\u001b[39m │\n",
       "├─────┼────────┼─────────┼─────────┼───────┼────────┼───────┼────────┼───────┤\n",
       "│ 1   │ 30.83  │ 0.0     │ 1.25    │ 1     │ 00202  │ 0     │ +      │ 1     │\n",
       "│ 2   │ 58.67  │ 4.46    │ 3.04    │ 6     │ 00043  │ 560   │ +      │ 0     │\n",
       "│ 3   │ 24.50  │ 0.5     │ 1.5     │ 0     │ 00280  │ 824   │ +      │ 0     │"
      ]
     },
     "execution_count": 35,
     "metadata": {},
     "output_type": "execute_result"
    }
   ],
   "source": [
    "categorical_vars = Symbol.([\"A1\" ;\"A4\";\"A5\";\"A6\";\"A7\";\"A9\";\"A10\";\"A12\";\"A13\"])\n",
    "\n",
    "X = one_hot_encode(credit_df, categorical_vars) \n",
    "first(X,3)"
   ]
  },
  {
   "cell_type": "code",
   "execution_count": 25,
   "metadata": {},
   "outputs": [
    {
     "data": {
      "text/html": [
       "<table class=\"data-frame\"><thead><tr><th></th><th>IR</th><th>MR</th><th>FF</th><th>CR</th><th>CO</th><th>OP</th><th>Class</th></tr><tr><th></th><th>String</th><th>String</th><th>String</th><th>String</th><th>String</th><th>String</th><th>String</th></tr></thead><tbody><p>3 rows × 7 columns</p><tr><th>1</th><td>P</td><td>P</td><td>A</td><td>A</td><td>A</td><td>P</td><td>NB</td></tr><tr><th>2</th><td>N</td><td>N</td><td>A</td><td>A</td><td>A</td><td>N</td><td>NB</td></tr><tr><th>3</th><td>A</td><td>A</td><td>A</td><td>A</td><td>A</td><td>A</td><td>NB</td></tr></tbody></table>"
      ],
      "text/latex": [
       "\\begin{tabular}{r|ccccccc}\n",
       "\t& IR & MR & FF & CR & CO & OP & Class\\\\\n",
       "\t\\hline\n",
       "\t& String & String & String & String & String & String & String\\\\\n",
       "\t\\hline\n",
       "\t1 & P & P & A & A & A & P & NB \\\\\n",
       "\t2 & N & N & A & A & A & N & NB \\\\\n",
       "\t3 & A & A & A & A & A & A & NB \\\\\n",
       "\\end{tabular}\n"
      ],
      "text/plain": [
       "3×7 DataFrame\n",
       "│ Row │ IR     │ MR     │ FF     │ CR     │ CO     │ OP     │ Class  │\n",
       "│     │ \u001b[90mString\u001b[39m │ \u001b[90mString\u001b[39m │ \u001b[90mString\u001b[39m │ \u001b[90mString\u001b[39m │ \u001b[90mString\u001b[39m │ \u001b[90mString\u001b[39m │ \u001b[90mString\u001b[39m │\n",
       "├─────┼────────┼────────┼────────┼────────┼────────┼────────┼────────┤\n",
       "│ 1   │ P      │ P      │ A      │ A      │ A      │ P      │ NB     │\n",
       "│ 2   │ N      │ N      │ A      │ A      │ A      │ N      │ NB     │\n",
       "│ 3   │ A      │ A      │ A      │ A      │ A      │ A      │ NB     │"
      ]
     },
     "execution_count": 25,
     "metadata": {},
     "output_type": "execute_result"
    }
   ],
   "source": [
    "bankruptcy_df = CSV.read(\"./Qualitative_Bankruptcy/Qualitative_Bankruptcy.csv\")\n",
    "first(bankruptcy_df,3)"
   ]
  },
  {
   "cell_type": "code",
   "execution_count": 36,
   "metadata": {},
   "outputs": [
    {
     "data": {
      "text/html": [
       "<table class=\"data-frame\"><thead><tr><th></th><th>Class</th><th>IR_P</th><th>IR_N</th><th>IR_A</th><th>MR_P</th><th>MR_N</th><th>MR_A</th><th>FF_A</th><th>FF_P</th><th>FF_N</th><th>CR_A</th><th>CR_P</th></tr><tr><th></th><th>String</th><th>Int64</th><th>Int64</th><th>Int64</th><th>Int64</th><th>Int64</th><th>Int64</th><th>Int64</th><th>Int64</th><th>Int64</th><th>Int64</th><th>Int64</th></tr></thead><tbody><p>3 rows × 19 columns (omitted printing of 7 columns)</p><tr><th>1</th><td>NB</td><td>1</td><td>0</td><td>0</td><td>1</td><td>0</td><td>0</td><td>1</td><td>0</td><td>0</td><td>1</td><td>0</td></tr><tr><th>2</th><td>NB</td><td>0</td><td>1</td><td>0</td><td>0</td><td>1</td><td>0</td><td>1</td><td>0</td><td>0</td><td>1</td><td>0</td></tr><tr><th>3</th><td>NB</td><td>0</td><td>0</td><td>1</td><td>0</td><td>0</td><td>1</td><td>1</td><td>0</td><td>0</td><td>1</td><td>0</td></tr></tbody></table>"
      ],
      "text/latex": [
       "\\begin{tabular}{r|ccccccccccccc}\n",
       "\t& Class & IR\\_P & IR\\_N & IR\\_A & MR\\_P & MR\\_N & MR\\_A & FF\\_A & FF\\_P & FF\\_N & CR\\_A & CR\\_P & \\\\\n",
       "\t\\hline\n",
       "\t& String & Int64 & Int64 & Int64 & Int64 & Int64 & Int64 & Int64 & Int64 & Int64 & Int64 & Int64 & \\\\\n",
       "\t\\hline\n",
       "\t1 & NB & 1 & 0 & 0 & 1 & 0 & 0 & 1 & 0 & 0 & 1 & 0 & $\\dots$ \\\\\n",
       "\t2 & NB & 0 & 1 & 0 & 0 & 1 & 0 & 1 & 0 & 0 & 1 & 0 & $\\dots$ \\\\\n",
       "\t3 & NB & 0 & 0 & 1 & 0 & 0 & 1 & 1 & 0 & 0 & 1 & 0 & $\\dots$ \\\\\n",
       "\\end{tabular}\n"
      ],
      "text/plain": [
       "3×19 DataFrame. Omitted printing of 10 columns\n",
       "│ Row │ Class  │ IR_P  │ IR_N  │ IR_A  │ MR_P  │ MR_N  │ MR_A  │ FF_A  │ FF_P  │\n",
       "│     │ \u001b[90mString\u001b[39m │ \u001b[90mInt64\u001b[39m │ \u001b[90mInt64\u001b[39m │ \u001b[90mInt64\u001b[39m │ \u001b[90mInt64\u001b[39m │ \u001b[90mInt64\u001b[39m │ \u001b[90mInt64\u001b[39m │ \u001b[90mInt64\u001b[39m │ \u001b[90mInt64\u001b[39m │\n",
       "├─────┼────────┼───────┼───────┼───────┼───────┼───────┼───────┼───────┼───────┤\n",
       "│ 1   │ NB     │ 1     │ 0     │ 0     │ 1     │ 0     │ 0     │ 1     │ 0     │\n",
       "│ 2   │ NB     │ 0     │ 1     │ 0     │ 0     │ 1     │ 0     │ 1     │ 0     │\n",
       "│ 3   │ NB     │ 0     │ 0     │ 1     │ 0     │ 0     │ 1     │ 1     │ 0     │"
      ]
     },
     "execution_count": 36,
     "metadata": {},
     "output_type": "execute_result"
    }
   ],
   "source": [
    "categorical_vars = Symbol.([\"IR\" ;\"MR\";\"FF\";\"CR\";\"CO\";\"OP\"])\n",
    "X = one_hot_encode(bankruptcy_df, categorical_vars) \n",
    "first(X,3)"
   ]
  },
  {
   "cell_type": "code",
   "execution_count": 26,
   "metadata": {},
   "outputs": [
    {
     "data": {
      "text/html": [
       "<table class=\"data-frame\"><thead><tr><th></th><th>ID</th><th>LIMIT_BAL</th><th>SEX</th><th>EDUCATION</th><th>MARRIAGE</th><th>AGE</th><th>PAY_0</th><th>PAY_2</th><th>PAY_3</th><th>PAY_4</th></tr><tr><th></th><th>Int64</th><th>Int64</th><th>Int64</th><th>Int64</th><th>Int64</th><th>Int64</th><th>Int64</th><th>Int64</th><th>Int64</th><th>Int64</th></tr></thead><tbody><p>3 rows × 25 columns (omitted printing of 15 columns)</p><tr><th>1</th><td>1</td><td>20000</td><td>2</td><td>2</td><td>1</td><td>24</td><td>2</td><td>2</td><td>-1</td><td>-1</td></tr><tr><th>2</th><td>2</td><td>120000</td><td>2</td><td>2</td><td>2</td><td>26</td><td>-1</td><td>2</td><td>0</td><td>0</td></tr><tr><th>3</th><td>3</td><td>90000</td><td>2</td><td>2</td><td>2</td><td>34</td><td>0</td><td>0</td><td>0</td><td>0</td></tr></tbody></table>"
      ],
      "text/latex": [
       "\\begin{tabular}{r|ccccccccccc}\n",
       "\t& ID & LIMIT\\_BAL & SEX & EDUCATION & MARRIAGE & AGE & PAY\\_0 & PAY\\_2 & PAY\\_3 & PAY\\_4 & \\\\\n",
       "\t\\hline\n",
       "\t& Int64 & Int64 & Int64 & Int64 & Int64 & Int64 & Int64 & Int64 & Int64 & Int64 & \\\\\n",
       "\t\\hline\n",
       "\t1 & 1 & 20000 & 2 & 2 & 1 & 24 & 2 & 2 & -1 & -1 & $\\dots$ \\\\\n",
       "\t2 & 2 & 120000 & 2 & 2 & 2 & 26 & -1 & 2 & 0 & 0 & $\\dots$ \\\\\n",
       "\t3 & 3 & 90000 & 2 & 2 & 2 & 34 & 0 & 0 & 0 & 0 & $\\dots$ \\\\\n",
       "\\end{tabular}\n"
      ],
      "text/plain": [
       "3×25 DataFrame. Omitted printing of 18 columns\n",
       "│ Row │ ID    │ LIMIT_BAL │ SEX   │ EDUCATION │ MARRIAGE │ AGE   │ PAY_0 │\n",
       "│     │ \u001b[90mInt64\u001b[39m │ \u001b[90mInt64\u001b[39m     │ \u001b[90mInt64\u001b[39m │ \u001b[90mInt64\u001b[39m     │ \u001b[90mInt64\u001b[39m    │ \u001b[90mInt64\u001b[39m │ \u001b[90mInt64\u001b[39m │\n",
       "├─────┼───────┼───────────┼───────┼───────────┼──────────┼───────┼───────┤\n",
       "│ 1   │ 1     │ 20000     │ 2     │ 2         │ 1        │ 24    │ 2     │\n",
       "│ 2   │ 2     │ 120000    │ 2     │ 2         │ 2        │ 26    │ -1    │\n",
       "│ 3   │ 3     │ 90000     │ 2     │ 2         │ 2        │ 34    │ 0     │"
      ]
     },
     "execution_count": 26,
     "metadata": {},
     "output_type": "execute_result"
    }
   ],
   "source": [
    "creadit_default_df = CSV.read(\"default of credit card clients.csv\";header=true)\n",
    "first(creadit_default_df,3)"
   ]
  },
  {
   "cell_type": "code",
   "execution_count": 39,
   "metadata": {},
   "outputs": [
    {
     "data": {
      "text/html": [
       "<table class=\"data-frame\"><thead><tr><th></th><th>ID</th><th>LIMIT_BAL</th><th>AGE</th><th>PAY_0</th><th>PAY_2</th><th>PAY_3</th><th>PAY_4</th><th>PAY_5</th><th>PAY_6</th><th>BILL_AMT1</th><th>BILL_AMT2</th></tr><tr><th></th><th>Int64</th><th>Int64</th><th>Int64</th><th>Int64</th><th>Int64</th><th>Int64</th><th>Int64</th><th>Int64</th><th>Int64</th><th>Int64</th><th>Int64</th></tr></thead><tbody><p>3 rows × 35 columns (omitted printing of 24 columns)</p><tr><th>1</th><td>1</td><td>20000</td><td>24</td><td>2</td><td>2</td><td>-1</td><td>-1</td><td>-2</td><td>-2</td><td>3913</td><td>3102</td></tr><tr><th>2</th><td>2</td><td>120000</td><td>26</td><td>-1</td><td>2</td><td>0</td><td>0</td><td>0</td><td>2</td><td>2682</td><td>1725</td></tr><tr><th>3</th><td>3</td><td>90000</td><td>34</td><td>0</td><td>0</td><td>0</td><td>0</td><td>0</td><td>0</td><td>29239</td><td>14027</td></tr></tbody></table>"
      ],
      "text/latex": [
       "\\begin{tabular}{r|cccccccccccc}\n",
       "\t& ID & LIMIT\\_BAL & AGE & PAY\\_0 & PAY\\_2 & PAY\\_3 & PAY\\_4 & PAY\\_5 & PAY\\_6 & BILL\\_AMT1 & BILL\\_AMT2 & \\\\\n",
       "\t\\hline\n",
       "\t& Int64 & Int64 & Int64 & Int64 & Int64 & Int64 & Int64 & Int64 & Int64 & Int64 & Int64 & \\\\\n",
       "\t\\hline\n",
       "\t1 & 1 & 20000 & 24 & 2 & 2 & -1 & -1 & -2 & -2 & 3913 & 3102 & $\\dots$ \\\\\n",
       "\t2 & 2 & 120000 & 26 & -1 & 2 & 0 & 0 & 0 & 2 & 2682 & 1725 & $\\dots$ \\\\\n",
       "\t3 & 3 & 90000 & 34 & 0 & 0 & 0 & 0 & 0 & 0 & 29239 & 14027 & $\\dots$ \\\\\n",
       "\\end{tabular}\n"
      ],
      "text/plain": [
       "3×35 DataFrame. Omitted printing of 27 columns\n",
       "│ Row │ ID    │ LIMIT_BAL │ AGE   │ PAY_0 │ PAY_2 │ PAY_3 │ PAY_4 │ PAY_5 │\n",
       "│     │ \u001b[90mInt64\u001b[39m │ \u001b[90mInt64\u001b[39m     │ \u001b[90mInt64\u001b[39m │ \u001b[90mInt64\u001b[39m │ \u001b[90mInt64\u001b[39m │ \u001b[90mInt64\u001b[39m │ \u001b[90mInt64\u001b[39m │ \u001b[90mInt64\u001b[39m │\n",
       "├─────┼───────┼───────────┼───────┼───────┼───────┼───────┼───────┼───────┤\n",
       "│ 1   │ 1     │ 20000     │ 24    │ 2     │ 2     │ -1    │ -1    │ -2    │\n",
       "│ 2   │ 2     │ 120000    │ 26    │ -1    │ 2     │ 0     │ 0     │ 0     │\n",
       "│ 3   │ 3     │ 90000     │ 34    │ 0     │ 0     │ 0     │ 0     │ 0     │"
      ]
     },
     "execution_count": 39,
     "metadata": {},
     "output_type": "execute_result"
    }
   ],
   "source": [
    "categorical_vars = Symbol.([\"SEX\" ;\"EDUCATION\";\"MARRIAGE\"])\n",
    "X = one_hot_encode(creadit_default_df, categorical_vars) \n",
    "first(X,3)"
   ]
  },
  {
   "cell_type": "code",
   "execution_count": 27,
   "metadata": {},
   "outputs": [
    {
     "data": {
      "text/html": [
       "<table class=\"data-frame\"><thead><tr><th></th><th>Age</th><th>Delivery number</th><th>Delivery time</th><th>Blood of Pressure</th><th>Heart Problem</th><th>Caesarian</th></tr><tr><th></th><th>Int64</th><th>Int64</th><th>Int64</th><th>Int64</th><th>Int64</th><th>Int64</th></tr></thead><tbody><p>3 rows × 6 columns</p><tr><th>1</th><td>22</td><td>1</td><td>0</td><td>2</td><td>0</td><td>0</td></tr><tr><th>2</th><td>26</td><td>2</td><td>0</td><td>1</td><td>0</td><td>1</td></tr><tr><th>3</th><td>26</td><td>2</td><td>1</td><td>1</td><td>0</td><td>0</td></tr></tbody></table>"
      ],
      "text/latex": [
       "\\begin{tabular}{r|cccccc}\n",
       "\t& Age & Delivery number & Delivery time & Blood of Pressure & Heart Problem & Caesarian\\\\\n",
       "\t\\hline\n",
       "\t& Int64 & Int64 & Int64 & Int64 & Int64 & Int64\\\\\n",
       "\t\\hline\n",
       "\t1 & 22 & 1 & 0 & 2 & 0 & 0 \\\\\n",
       "\t2 & 26 & 2 & 0 & 1 & 0 & 1 \\\\\n",
       "\t3 & 26 & 2 & 1 & 1 & 0 & 0 \\\\\n",
       "\\end{tabular}\n"
      ],
      "text/plain": [
       "3×6 DataFrame. Omitted printing of 2 columns\n",
       "│ Row │ Age   │ Delivery number │ Delivery time │ Blood of Pressure │\n",
       "│     │ \u001b[90mInt64\u001b[39m │ \u001b[90mInt64\u001b[39m           │ \u001b[90mInt64\u001b[39m         │ \u001b[90mInt64\u001b[39m             │\n",
       "├─────┼───────┼─────────────────┼───────────────┼───────────────────┤\n",
       "│ 1   │ 22    │ 1               │ 0             │ 2                 │\n",
       "│ 2   │ 26    │ 2               │ 0             │ 1                 │\n",
       "│ 3   │ 26    │ 2               │ 1             │ 1                 │"
      ]
     },
     "execution_count": 27,
     "metadata": {},
     "output_type": "execute_result"
    }
   ],
   "source": [
    "caesarian_df = CSV.read(\"caesarian.csv\";header=true)\n",
    "first(caesarian_df,3)"
   ]
  },
  {
   "cell_type": "code",
   "execution_count": 40,
   "metadata": {},
   "outputs": [
    {
     "data": {
      "text/html": [
       "<table class=\"data-frame\"><thead><tr><th></th><th>Age</th><th>Caesarian</th><th>Delivery number_1</th><th>Delivery number_2</th><th>Delivery number_3</th><th>Delivery number_4</th></tr><tr><th></th><th>Int64</th><th>Int64</th><th>Int64</th><th>Int64</th><th>Int64</th><th>Int64</th></tr></thead><tbody><p>3 rows × 14 columns (omitted printing of 8 columns)</p><tr><th>1</th><td>22</td><td>0</td><td>1</td><td>0</td><td>0</td><td>0</td></tr><tr><th>2</th><td>26</td><td>1</td><td>0</td><td>1</td><td>0</td><td>0</td></tr><tr><th>3</th><td>26</td><td>0</td><td>0</td><td>1</td><td>0</td><td>0</td></tr></tbody></table>"
      ],
      "text/latex": [
       "\\begin{tabular}{r|ccccccc}\n",
       "\t& Age & Caesarian & Delivery number\\_1 & Delivery number\\_2 & Delivery number\\_3 & Delivery number\\_4 & \\\\\n",
       "\t\\hline\n",
       "\t& Int64 & Int64 & Int64 & Int64 & Int64 & Int64 & \\\\\n",
       "\t\\hline\n",
       "\t1 & 22 & 0 & 1 & 0 & 0 & 0 & $\\dots$ \\\\\n",
       "\t2 & 26 & 1 & 0 & 1 & 0 & 0 & $\\dots$ \\\\\n",
       "\t3 & 26 & 0 & 0 & 1 & 0 & 0 & $\\dots$ \\\\\n",
       "\\end{tabular}\n"
      ],
      "text/plain": [
       "3×14 DataFrame. Omitted printing of 10 columns\n",
       "│ Row │ Age   │ Caesarian │ Delivery number_1 │ Delivery number_2 │\n",
       "│     │ \u001b[90mInt64\u001b[39m │ \u001b[90mInt64\u001b[39m     │ \u001b[90mInt64\u001b[39m             │ \u001b[90mInt64\u001b[39m             │\n",
       "├─────┼───────┼───────────┼───────────────────┼───────────────────┤\n",
       "│ 1   │ 22    │ 0         │ 1                 │ 0                 │\n",
       "│ 2   │ 26    │ 1         │ 0                 │ 1                 │\n",
       "│ 3   │ 26    │ 0         │ 0                 │ 1                 │"
      ]
     },
     "execution_count": 40,
     "metadata": {},
     "output_type": "execute_result"
    }
   ],
   "source": [
    "categorical_vars = Symbol.([\"Delivery number\" ;\"Delivery time\";\"Blood of Pressure\";\"Heart Problem\"])\n",
    "X = one_hot_encode(caesarian_df, categorical_vars) \n",
    "first(X,3)"
   ]
  },
  {
   "cell_type": "code",
   "execution_count": null,
   "metadata": {},
   "outputs": [],
   "source": []
  },
  {
   "cell_type": "code",
   "execution_count": null,
   "metadata": {},
   "outputs": [],
   "source": []
  }
 ],
 "metadata": {
  "kernelspec": {
   "display_name": "Julia 1.0.5",
   "language": "julia",
   "name": "julia-1.0"
  },
  "language_info": {
   "file_extension": ".jl",
   "mimetype": "application/julia",
   "name": "julia",
   "version": "1.0.5"
  }
 },
 "nbformat": 4,
 "nbformat_minor": 4
}
