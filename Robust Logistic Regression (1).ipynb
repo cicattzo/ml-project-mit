{
 "cells": [
  {
   "cell_type": "code",
   "execution_count": 370,
   "metadata": {},
   "outputs": [
    {
     "name": "stdout",
     "output_type": "stream",
     "text": [
      "\u001b[32m\u001b[1m   Cloning\u001b[22m\u001b[39m git-repo `https://github.com/diegozea/ROC.jl`\n",
      "\u001b[2K\u001b[?25h\u001b[32m\u001b[1m  Updating\u001b[22m\u001b[39m git-repo `https://github.com/diegozea/ROC.jl`.0 %46.3 %>  ]  93.1 %\n",
      "\u001b[2K\u001b[?25h[1mFetching:\u001b[22m\u001b[39m [========================================>]  100.0 %.0 %\u001b[32m\u001b[1m Resolving\u001b[22m\u001b[39m package versions...\n",
      "\u001b[32m\u001b[1m Installed\u001b[22m\u001b[39m Infinity ─ v0.2.3\n",
      "\u001b[32m\u001b[1m  Updating\u001b[22m\u001b[39m `~/.julia/environments/v1.0/Project.toml`\n",
      " \u001b[90m [e4f92426]\u001b[39m\u001b[92m + ROC v0.1.0 #master (https://github.com/diegozea/ROC.jl)\u001b[39m\n",
      "\u001b[32m\u001b[1m  Updating\u001b[22m\u001b[39m `~/.julia/environments/v1.0/Manifest.toml`\n",
      " \u001b[90m [a303e19e]\u001b[39m\u001b[92m + Infinity v0.2.3\u001b[39m\n",
      " \u001b[90m [e4f92426]\u001b[39m\u001b[92m + ROC v0.1.0 #master (https://github.com/diegozea/ROC.jl)\u001b[39m\n"
     ]
    }
   ],
   "source": [
    "using Pkg\n",
    "Pkg.add(PackageSpec(path=\"https://github.com/diegozea/ROC.jl\"))"
   ]
  },
  {
   "cell_type": "code",
   "execution_count": 391,
   "metadata": {},
   "outputs": [
    {
     "name": "stdout",
     "output_type": "stream",
     "text": [
      "Academic license - for non-commercial use only\n"
     ]
    },
    {
     "data": {
      "text/plain": [
       "Gurobi.Env(Ptr{Nothing} @0x00007fa9e453c000)"
      ]
     },
     "execution_count": 391,
     "metadata": {},
     "output_type": "execute_result"
    }
   ],
   "source": [
    "using JuMP, Gurobi, CSV, LinearAlgebra, DataFrames, Random, Distributions, Statistics,MLBase, CPUTime,ScikitLearn ,MLDataUtils\n",
    "@sk_import metrics: roc_auc_score\n",
    "gurobi_env = Gurobi.Env()"
   ]
  },
  {
   "cell_type": "code",
   "execution_count": 429,
   "metadata": {},
   "outputs": [
    {
     "data": {
      "text/plain": [
       "preprocess (generic function with 1 method)"
      ]
     },
     "execution_count": 429,
     "metadata": {},
     "output_type": "execute_result"
    }
   ],
   "source": [
    "function one_hot_encode(X, names)\n",
    "    X2 = deepcopy(X)\n",
    "    select!(X2, Not(Symbol.(names)))\n",
    "    for i in names\n",
    "        vales = unique(X[i])\n",
    "        for j in 1:length(vales)-1\n",
    "           X2[Symbol(string(i)*\"_\"*string(vales[j]))] = (X[i].==vales[j])*1\n",
    "        end\n",
    "    end\n",
    "    return X2\n",
    "end\n",
    "\n",
    "function normalize(X, names)\n",
    "    X2 = deepcopy(X)\n",
    "    select!(X2, Not(Symbol.(names)))\n",
    "    for j in names\n",
    "        X2[j] = (X[:,j] .- mean(X[:,j])) / std(X[:,j])\n",
    "    end\n",
    "    return X2\n",
    "end\n",
    "\n",
    "function clean(X)\n",
    "    n,p = size(X)\n",
    "    X2 = deepcopy(X)\n",
    "    i = 0\n",
    "    while i < n\n",
    "        i += 1\n",
    "        if \"?\" in X[i,:]\n",
    "            X = X[1:end .!= i, :]\n",
    "            i -= 1\n",
    "        end\n",
    "        n,_ = size(X)\n",
    "    end\n",
    "    return X\n",
    "end     \n",
    "\n",
    "function toNum(df, names)\n",
    "    n,p = size(df)\n",
    "    for name in names\n",
    "        if !(isa(df[1,name], Int64) || isa(df[1,name], Float64))\n",
    "            temp = zeros(n)\n",
    "            for i=1:n\n",
    "                temp[i] = parse(Float64,df[i,name])\n",
    "            end\n",
    "            df[!,name] = temp\n",
    "        end\n",
    "    end\n",
    "    return df\n",
    "end\n",
    "\n",
    "function preprocess(df, categorical_vars, numerical_vars)\n",
    "    df = clean(df)\n",
    "    df = toNum(df,numerical_vars)\n",
    "    df = normalize(df,numerical_vars)\n",
    "    df = one_hot_encode(df[:,1:end], categorical_vars) \n",
    "    df[df[:,end].==0,end] .= -1\n",
    "    return df\n",
    "end"
   ]
  },
  {
   "cell_type": "code",
   "execution_count": 700,
   "metadata": {},
   "outputs": [
    {
     "data": {
      "text/plain": [
       "compute_∇f (generic function with 1 method)"
      ]
     },
     "execution_count": 700,
     "metadata": {},
     "output_type": "execute_result"
    }
   ],
   "source": [
    "### Utils Functions ###\n",
    "function compute_∇f(w_k, y, X, λ)\n",
    "    n, p = size(X)\n",
    "    temp = zeros(p)\n",
    "    for i in 1:n\n",
    "         t = min(exp(-y[i]*(transpose(w_k)*Array(X[i,:]))+λ*transpose(w_k)*w_k),100000)\n",
    "         Δ = (1/(1+t))*t*(-y[i]*Array(X[i,:]) .+ 2*λ*w_k)\n",
    "#        Δ = (-1/(1+exp(y[i]*dot(w_k,X[i,:])+λ*transpose(w_k)*w_k)))*(y[i].*X[i,:] .+ 2*λ*w_k)\n",
    "        temp = temp + Δ\n",
    "#         if i >= n-5\n",
    "#             println(\"Δ \", Δ)\n",
    "#             println(exp(-y[i]*(transpose(w_k)*Array(X[i,:]))+λ*transpose(w_k)*w_k))\n",
    "# #             for i in 1:5\n",
    "# #                 println(\"y \",y[i])\n",
    "# #                 println(\"X \",X[i,:])\n",
    "# #                 println(\"w \",w_k[:])\n",
    "# #                 #println(log(1+exp(-y[i]*dot(X[i,:], w_k))))\n",
    "# #                 println()\n",
    "# #             end\n",
    "#         end\n",
    "#         if i == n\n",
    "#             println(\"temp\",temp)\n",
    "#         end\n",
    "    end\n",
    "#     for i in 1:5\n",
    "#         println(\"y \",y[i])\n",
    "#         println(\"X \",X[i,:])\n",
    "#         println(\"w \",w_k[:])\n",
    "#         #println(log(1+exp(-y[i]*dot(X[i,:], w_k))))\n",
    "#         println()\n",
    "#     end\n",
    "#     println(\"temp\",temp)\n",
    "    ∇f_k = temp\n",
    "    #println(\"∇f_k\",∇f_k)\n",
    "    return ∇f_k\n",
    "end"
   ]
  },
  {
   "cell_type": "code",
   "execution_count": 701,
   "metadata": {},
   "outputs": [
    {
     "data": {
      "text/plain": [
       "LR_cutting_planes (generic function with 1 method)"
      ]
     },
     "execution_count": 701,
     "metadata": {},
     "output_type": "execute_result"
    }
   ],
   "source": [
    "### Cutting Planes Implementation ###\n",
    "function LR_cutting_planes(y, X, ε, λ)\n",
    "    errors = []\n",
    "    n, p = size(X)\n",
    "    # Initialization values and step 0\n",
    "    w_0 = [0 for i in 1:p]\n",
    "    #w_0 = [rand(Uniform(-0.5, 0.5)) for i in 1:p]\n",
    "    f_0 = sum(log(1+exp(-y[i]*dot(X[i,:], w_0)+λ*transpose(w_0)*w_0)) for i=1:n)\n",
    "    ∇f_0 = compute_∇f(w_0, y, X, λ)\n",
    "\n",
    "    # Outer minimization problem\n",
    "    outer_min_model = Model(solver=GurobiSolver(OutputFlag=0, gurobi_env))\n",
    "    @variable(outer_min_model, t >= 0)\n",
    "    @variable(outer_min_model, w[1:p])\n",
    "    #@constraint(outer_min_model, [j=1:p], -1 <= w[j] <= 1)\n",
    "    @constraint(outer_min_model, t >= f_0 + (dot(∇f_0, w)-dot(∇f_0, w_0)))\n",
    "    @constraint(outer_min_model, [j=1:p], 10 >= w[j])\n",
    "    @constraint(outer_min_model, [j=1:p], w[j] >= -10)\n",
    "    @objective(outer_min_model, Min, t)\n",
    "    k = 1 # Number of constraints in the final problem\n",
    "    solve(outer_min_model)\n",
    "\n",
    "    # New steps k\n",
    "    t_k = getvalue(t)\n",
    "    w_k = getvalue(w)  \n",
    "    f_k = sum(min(log(1+exp(-y[i]*dot(X[i,:], w_k)+λ*transpose(w_k)*w_k)),100) for i=1:n)\n",
    "    ∇f_k = compute_∇f(w_k, y, X, λ)\n",
    "    \n",
    "    while abs(f_k - t_k) >= ε # error\n",
    "\n",
    "        push!(errors, f_k - t_k)\n",
    "        @constraint(outer_min_model,t >= f_k +(dot(∇f_k, w)-dot(∇f_k, w_k)))\n",
    "        k += 1\n",
    "        solve(outer_min_model)\n",
    "        # Updating all the values\n",
    "        t_k = getvalue(t)\n",
    "        w_k = getvalue(w)\n",
    "        f_k = sum(min(log(1+exp(-y[i]*dot(X[i,:], w_k)+λ*transpose(w_k)*w_k)),1000) for i=1:n)\n",
    "\n",
    "        ∇f_k = compute_∇f(w_k, y, X, λ)\n",
    "         if k%500 == 0\n",
    "             println(\"Number of constraints: \", k, \"\\t Error = \", abs(t_k - f_k))\n",
    "#             println(\"f\",f_k)\n",
    "#              println(\"w\",w_k)\n",
    "#              println(\"∇f_k\",∇f_k)\n",
    "         end\n",
    "        if k > 20000\n",
    "            break\n",
    "        end\n",
    "    end\n",
    "    push!(errors, f_k - t_k)\n",
    "    return t_k, f_k, w_k, errors\n",
    "end\n"
   ]
  },
  {
   "cell_type": "code",
   "execution_count": 702,
   "metadata": {},
   "outputs": [
    {
     "data": {
      "text/plain": [
       "robust_LG_valid (generic function with 1 method)"
      ]
     },
     "execution_count": 702,
     "metadata": {},
     "output_type": "execute_result"
    }
   ],
   "source": [
    "function robust_LG_valid(X, y, ε, lambda_vals; method=LR_cutting_planes, split_at=0.8)\n",
    "    n,p = size(X)\n",
    "    split = convert(Int,floor(split_at*n))\n",
    "    permuted_indices = randperm(n)\n",
    "    train_indices, valid_indices = permuted_indices[1:split], permuted_indices[split+1:end]\n",
    "    X_train, y_train = X[train_indices,:], y[train_indices]\n",
    "    X_valid, y_valid = X[valid_indices,:], y[valid_indices]\n",
    "    \n",
    "    accuracies = zeros(length(rho_vals))\n",
    "    for (i,λ) in enumerate(lambda_vals)\n",
    "        println(i)\n",
    "        t, f, w, e = method(y_train, X_train, ε, λ)\n",
    "        pred = 1 ./ (1 .+ exp.(-(Matrix(X_valid)*w).+λ*transpose(w)*w)) .> 0.5\n",
    "        accuracies[i] = 1-sum(pred .!= (y_valid .== 1))/length(y_valid)\n",
    "    end\n",
    "    IJulia.clear_output()\n",
    "\n",
    "    i_best = argmax(accuracies)\n",
    "    t, f, w_best, e = method(y, X, ε,rho_vals[i_best])\n",
    "    return w_best, lambda_vals[i_best], accuracies\n",
    "end"
   ]
  },
  {
   "cell_type": "code",
   "execution_count": 703,
   "metadata": {
    "scrolled": true
   },
   "outputs": [
    {
     "data": {
      "text/plain": [
       "test (generic function with 3 methods)"
      ]
     },
     "execution_count": 703,
     "metadata": {},
     "output_type": "execute_result"
    }
   ],
   "source": [
    "function test(df, categorical_vars, numerical_vars, test_split, validation_split, ε, lambda_vals, seed)\n",
    "    Random.seed!(seed)\n",
    "    start = time()\n",
    "    n,_ = size(df)\n",
    "    permuted_indices = randperm(n)\n",
    "    test_split = convert(Int,floor(validation_split*n))\n",
    "    train_indices, test_indices = permuted_indices[1:test_split], permuted_indices[test_split+1:end]\n",
    "    train = df[train_indices,:]\n",
    "    test = df[test_indices,:]\n",
    "    train_X = train[:,1:end-1]\n",
    "    train_y = train[:,end]\n",
    "    test_X = test[:,1:end-1]\n",
    "    test_y = test[:,end]\n",
    "    \n",
    "    IJulia.clear_output()\n",
    "    println(\"Enter cross-validation\")\n",
    "    w, λ, errors  = robust_LG_valid(train_X, train_y, ε, lambda_vals; method=LR_cutting_planes, split_at=validation_split)\n",
    "    elapsed = time() - start\n",
    "    pred_prob = 1 ./ (1 .+ exp.(-(Matrix(test_X)*w).+λ*transpose(w)*w))\n",
    "    pred = pred_prob.> 0.5\n",
    "    accuracy = 1-sum(pred .!= (test_y .== 1))/length(test_y)\n",
    "    auc = roc_auc_score(test_y ,pred_prob)\n",
    "    IJulia.clear_output()\n",
    "\n",
    "    return auc, accuracy, λ, elapsed, w\n",
    "end"
   ]
  },
  {
   "cell_type": "code",
   "execution_count": 682,
   "metadata": {},
   "outputs": [
    {
     "data": {
      "text/plain": [
       "(80, 6)"
      ]
     },
     "execution_count": 682,
     "metadata": {},
     "output_type": "execute_result"
    }
   ],
   "source": [
    "df = CSV.read(\"Data/caesarian.csv\";header=true)\n",
    "size(df)"
   ]
  },
  {
   "cell_type": "code",
   "execution_count": 683,
   "metadata": {},
   "outputs": [
    {
     "data": {
      "text/plain": [
       "(80, 10)"
      ]
     },
     "execution_count": 683,
     "metadata": {},
     "output_type": "execute_result"
    }
   ],
   "source": [
    "lambda_vals = [0.00001,0.0001,0.0005,0.001,0.005,0.01,0.05,0.1]\n",
    "categorical_vars = Symbol.([\"Delivery number\" ;\"Delivery time\";\"Blood of Pressure\";\"Heart Problem\"])\n",
    "numerical_vars = Symbol.([\"Age\"])\n",
    "df = preprocess(df, categorical_vars, numerical_vars)\n",
    "n,p=size(df)"
   ]
  },
  {
   "cell_type": "code",
   "execution_count": 684,
   "metadata": {
    "scrolled": true
   },
   "outputs": [
    {
     "name": "stdout",
     "output_type": "stream",
     "text": [
      "AUC: 0.7575757575757576 Accuracy: 0.6 λ: 1.0e-5 Time: 2.2049567699432373"
     ]
    }
   ],
   "source": [
    "seed = 1\n",
    "auc, acc, lambda, elapsed, w = test(df,categorical_vars,numerical_vars,0.75,0.75,0.0001, lambda_vals, 1)\n",
    "print(\"AUC: \",auc,\" Accuracy: \",acc, \" λ: \", lambda, \" Time: \", elapsed)"
   ]
  },
  {
   "cell_type": "code",
   "execution_count": 685,
   "metadata": {},
   "outputs": [
    {
     "data": {
      "text/plain": [
       "9-element Array{Float64,1}:\n",
       " -1.2491864081369384\n",
       " -0.3937010893346649\n",
       "  0.8600389649568139\n",
       " -0.3205883639048049\n",
       " -0.8178133645505835\n",
       "  0.6018132119061007\n",
       "  1.3387212023583488\n",
       "  0.416461190330931 \n",
       "  1.500084987129225 "
      ]
     },
     "execution_count": 685,
     "metadata": {},
     "output_type": "execute_result"
    }
   ],
   "source": [
    "w"
   ]
  },
  {
   "cell_type": "code",
   "execution_count": 542,
   "metadata": {},
   "outputs": [
    {
     "name": "stdout",
     "output_type": "stream",
     "text": [
      "AUC: 0.7637362637362638 Accuracy: 0.7 λ: 1.0e-5 Time: 1.3622229099273682"
     ]
    }
   ],
   "source": [
    "seed = 2\n",
    "auc, acc, lambda, elapsed = test(df,categorical_vars,numerical_vars,0.75,0.75,0.0001, lambda_vals, seed)\n",
    "print(\"AUC: \",auc,\" Accuracy: \",acc, \" λ: \", lambda, \" Time: \", elapsed)"
   ]
  },
  {
   "cell_type": "code",
   "execution_count": 543,
   "metadata": {},
   "outputs": [
    {
     "name": "stdout",
     "output_type": "stream",
     "text": [
      "AUC: 0.43499999999999994 Accuracy: 0.44999999999999996 λ: 0.05 Time: 1.4523191452026367"
     ]
    }
   ],
   "source": [
    "seed = 3\n",
    "auc, acc, lambda, elapsed = test(df,categorical_vars,numerical_vars,0.75,0.75,0.0001, lambda_vals, seed)\n",
    "print(\"AUC: \",auc,\" Accuracy: \",acc, \" λ: \", lambda, \" Time: \", elapsed)"
   ]
  },
  {
   "cell_type": "code",
   "execution_count": 544,
   "metadata": {},
   "outputs": [
    {
     "name": "stdout",
     "output_type": "stream",
     "text": [
      "AUC: 0.609375 Accuracy: 0.5 λ: 1.0e-5 Time: 1.463482141494751"
     ]
    }
   ],
   "source": [
    "seed = 4\n",
    "auc, acc, lambda, elapsed = test(df,categorical_vars,numerical_vars,0.75,0.75,0.0001, lambda_vals, seed)\n",
    "print(\"AUC: \",auc,\" Accuracy: \",acc, \" λ: \", lambda, \" Time: \", elapsed)"
   ]
  },
  {
   "cell_type": "code",
   "execution_count": 692,
   "metadata": {},
   "outputs": [
    {
     "data": {
      "text/plain": [
       "(432, 7)"
      ]
     },
     "execution_count": 692,
     "metadata": {},
     "output_type": "execute_result"
    }
   ],
   "source": [
    "df = CSV.read(\"Data/monks-1.test\";header=false)[:,2:end]\n",
    "select!(df, Not(Symbol.(\"Column9\")))\n",
    "df[!, 1], df[!, end] = df[!, end], df[!, 1]\n",
    "size(df)"
   ]
  },
  {
   "cell_type": "code",
   "execution_count": 693,
   "metadata": {},
   "outputs": [
    {
     "data": {
      "text/plain": [
       "(432, 12)"
      ]
     },
     "execution_count": 693,
     "metadata": {},
     "output_type": "execute_result"
    }
   ],
   "source": [
    "lambda_vals = [0.0001,0.0005,0.001,0.005,0.01,0.05,0.1,0.5]\n",
    "categorical_vars = propertynames(df)\n",
    "numerical_vars = []\n",
    "df = preprocess(df, categorical_vars, numerical_vars)\n",
    "n,p=size(df)"
   ]
  },
  {
   "cell_type": "code",
   "execution_count": 694,
   "metadata": {},
   "outputs": [
    {
     "name": "stdout",
     "output_type": "stream",
     "text": [
      "AUC: 0.7124137931034483 Accuracy: 0.8055555555555556 λ: 0.0001 Time: 14.171710014343262"
     ]
    }
   ],
   "source": [
    "seed = 1\n",
    "auc, acc, lambda, elapsed,w = test(df,categorical_vars,numerical_vars,0.75,0.75,0.0001, lambda_vals, seed)\n",
    "print(\"AUC: \",auc,\" Accuracy: \",acc, \" λ: \", lambda, \" Time: \", elapsed)"
   ]
  },
  {
   "cell_type": "code",
   "execution_count": 695,
   "metadata": {},
   "outputs": [
    {
     "data": {
      "text/plain": [
       "11-element Array{Float64,1}:\n",
       " -0.19921007152857848\n",
       " -0.3393916056922839 \n",
       " -0.23309065923756547\n",
       " -0.3933468941032062 \n",
       " -0.10828160207035857\n",
       "  0.12567416466113626\n",
       " -0.12158299942954598\n",
       " -0.13455729769572078\n",
       " 20.0                \n",
       " -0.11027509123696333\n",
       " -0.17074361022605233"
      ]
     },
     "execution_count": 695,
     "metadata": {},
     "output_type": "execute_result"
    }
   ],
   "source": [
    "w"
   ]
  },
  {
   "cell_type": "code",
   "execution_count": 613,
   "metadata": {},
   "outputs": [
    {
     "name": "stdout",
     "output_type": "stream",
     "text": [
      "AUC: 0.7596153846153846 Accuracy: 0.7777777777777778 λ: 0.1 Time: 11.854342937469482"
     ]
    }
   ],
   "source": [
    "seed = 2\n",
    "auc, acc, lambda, elapsed = test(df,categorical_vars,numerical_vars,0.75,0.75,0.0001, lambda_vals, seed)\n",
    "print(\"AUC: \",auc,\" Accuracy: \",acc, \" λ: \", lambda, \" Time: \", elapsed)"
   ]
  },
  {
   "cell_type": "code",
   "execution_count": 614,
   "metadata": {},
   "outputs": [
    {
     "data": {
      "text/plain": [
       "11-element Array{Float64,1}:\n",
       " -0.19967330500412425\n",
       " -0.34063384525125345\n",
       " -0.23428409783236667\n",
       " -0.3926567265808357 \n",
       " -0.1083289833942036 \n",
       "  0.1260091038918896 \n",
       " -0.1214634688072341 \n",
       " -0.13265833242863104\n",
       " 10.0                \n",
       " -0.11065600270723822\n",
       " -0.17023159739032653"
      ]
     },
     "execution_count": 614,
     "metadata": {},
     "output_type": "execute_result"
    }
   ],
   "source": [
    "w"
   ]
  },
  {
   "cell_type": "code",
   "execution_count": 549,
   "metadata": {},
   "outputs": [
    {
     "name": "stdout",
     "output_type": "stream",
     "text": [
      "AUC: 0.6411663807890222 Accuracy: 0.7222222222222222 λ: 0.0001 Time: 11.339162111282349"
     ]
    }
   ],
   "source": [
    "seed = 3\n",
    "auc, acc, lambda, elapsed = test(df,categorical_vars,numerical_vars,0.75,0.75,0.0001, lambda_vals, seed)\n",
    "print(\"AUC: \",auc,\" Accuracy: \",acc, \" λ: \", lambda, \" Time: \", elapsed)"
   ]
  },
  {
   "cell_type": "code",
   "execution_count": 704,
   "metadata": {},
   "outputs": [
    {
     "data": {
      "text/plain": [
       "(690, 16)"
      ]
     },
     "execution_count": 704,
     "metadata": {},
     "output_type": "execute_result"
    }
   ],
   "source": [
    "df = CSV.read(\"Data/credit-screening/crx.data\";header=false)\n",
    "n,p=size(df)"
   ]
  },
  {
   "cell_type": "code",
   "execution_count": 705,
   "metadata": {},
   "outputs": [
    {
     "data": {
      "text/plain": [
       "(653, 38)"
      ]
     },
     "execution_count": 705,
     "metadata": {},
     "output_type": "execute_result"
    }
   ],
   "source": [
    "categorical_vars = propertynames(df[1,vcat(1,4:7,9:10,12:13,16)])\n",
    "numerical_vars = propertynames(df[1,vcat(2:3,8,11,14:15)])\n",
    "lambda_vals = [0.0001,0.0005,0.001,0.005,0.01]\n",
    "df = preprocess(df, categorical_vars, numerical_vars)\n",
    "n,p=size(df)"
   ]
  },
  {
   "cell_type": "code",
   "execution_count": 706,
   "metadata": {},
   "outputs": [
    {
     "name": "stdout",
     "output_type": "stream",
     "text": [
      "AUC: 0.9172988249293471 Accuracy: 0.8780487804878049 λ: 0.0001 Time: 332.22172808647156"
     ]
    }
   ],
   "source": [
    "seed = 1\n",
    "auc, acc, lambda, elapsed,w = test(df,categorical_vars,numerical_vars,0.75,0.75,0.0001, lambda_vals, seed)\n",
    "print(\"AUC: \",auc,\" Accuracy: \",acc, \" λ: \", lambda, \" Time: \", elapsed)"
   ]
  },
  {
   "cell_type": "code",
   "execution_count": null,
   "metadata": {},
   "outputs": [],
   "source": []
  },
  {
   "cell_type": "code",
   "execution_count": 564,
   "metadata": {},
   "outputs": [
    {
     "name": "stdout",
     "output_type": "stream",
     "text": [
      "AUC: 0.958049371497804 Accuracy: 0.8841463414634146 λ: 0.005 Time: 467.2927370071411"
     ]
    }
   ],
   "source": [
    "seed = 2\n",
    "auc, acc, lambda, elapsed,w = test(df,categorical_vars,numerical_vars,0.75,0.75,0.0001, lambda_vals, seed)\n",
    "print(\"AUC: \",auc,\" Accuracy: \",acc, \" λ: \", lambda, \" Time: \", elapsed)"
   ]
  },
  {
   "cell_type": "code",
   "execution_count": 565,
   "metadata": {
    "scrolled": true
   },
   "outputs": [
    {
     "name": "stdout",
     "output_type": "stream",
     "text": [
      "AUC: 0.917572463768116 Accuracy: 0.8536585365853658 λ: 0.01 Time: 631.3079349994659"
     ]
    }
   ],
   "source": [
    "seed = 3\n",
    "auc, acc, lambda, elapsed,w = test(df,categorical_vars,numerical_vars,0.75,0.75,0.0001, lambda_vals, seed)\n",
    "print(\"AUC: \",auc,\" Accuracy: \",acc, \" λ: \", lambda, \" Time: \", elapsed)"
   ]
  },
  {
   "cell_type": "code",
   "execution_count": 675,
   "metadata": {},
   "outputs": [
    {
     "data": {
      "text/plain": [
       "(3658, 16)"
      ]
     },
     "execution_count": 675,
     "metadata": {},
     "output_type": "execute_result"
    }
   ],
   "source": [
    "df = CSV.read(\"Data/framingham.csv\";header=true)\n",
    "size(df)"
   ]
  },
  {
   "cell_type": "code",
   "execution_count": 676,
   "metadata": {},
   "outputs": [
    {
     "data": {
      "text/plain": [
       "(3658, 18)"
      ]
     },
     "execution_count": 676,
     "metadata": {},
     "output_type": "execute_result"
    }
   ],
   "source": [
    "categorical_vars = Symbol.([\"education\"])\n",
    "numerical_vars = Symbol.([\"age\" ;\"cigsPerDay\";\"totChol\";\"sysBP\";\"diaBP\";\"BMI\";\"heartRate\";\"glucose\"])\n",
    "lambda_vals = [0.00001,0.0001,0.0005,0.001,0.005,0.01,0.05,0.1,0.2]\n",
    "df = preprocess(df, categorical_vars, numerical_vars)\n",
    "n,p=size(df)"
   ]
  },
  {
   "cell_type": "code",
   "execution_count": 678,
   "metadata": {},
   "outputs": [
    {
     "name": "stdout",
     "output_type": "stream",
     "text": [
      "AUC: 0.8971686633756418 Accuracy: 0.8087431693989071 λ: 0.001 Time: 291.6356430053711"
     ]
    }
   ],
   "source": [
    "seed = 1\n",
    "auc, acc, lambda,elapsed,w = test(df,categorical_vars,numerical_vars, 0.75, 0.75,0.0001, lambda_vals,seed)\n",
    "print(\"AUC: \",auc,\" Accuracy: \",acc, \" λ: \", lambda, \" Time: \", elapsed)"
   ]
  },
  {
   "cell_type": "code",
   "execution_count": null,
   "metadata": {},
   "outputs": [],
   "source": []
  },
  {
   "cell_type": "code",
   "execution_count": 578,
   "metadata": {},
   "outputs": [
    {
     "name": "stdout",
     "output_type": "stream",
     "text": [
      "AUC: 0.8835259112323331 Accuracy: 0.8185792349726776 λ: 1.0e-5 Time: 288.1769390106201"
     ]
    }
   ],
   "source": [
    "seed = 2\n",
    "auc, acc, lambda,elapsed = test(df,categorical_vars,numerical_vars, 0.75, 0.75,0.0001, lambda_vals,seed)\n",
    "print(\"AUC: \",auc,\" Accuracy: \",acc, \" λ: \", lambda, \" Time: \", elapsed)"
   ]
  },
  {
   "cell_type": "code",
   "execution_count": 579,
   "metadata": {},
   "outputs": [
    {
     "name": "stdout",
     "output_type": "stream",
     "text": [
      "AUC: 0.9008132903545748 Accuracy: 0.8360655737704918 λ: 1.0e-5 Time: 292.8686800003052"
     ]
    }
   ],
   "source": [
    "seed = 3\n",
    "auc, acc, lambda,elapsed = test(df,categorical_vars,numerical_vars, 0.75, 0.75,0.0001, lambda_vals,seed)\n",
    "print(\"AUC: \",auc,\" Accuracy: \",acc, \" λ: \", lambda, \" Time: \", elapsed)"
   ]
  },
  {
   "cell_type": "code",
   "execution_count": 696,
   "metadata": {},
   "outputs": [
    {
     "data": {
      "text/plain": [
       "(30000, 25)"
      ]
     },
     "execution_count": 696,
     "metadata": {},
     "output_type": "execute_result"
    }
   ],
   "source": [
    "df = CSV.read(\"Data/default of credit card clients.csv\";header=true)\n",
    "n,p = size(df)"
   ]
  },
  {
   "cell_type": "code",
   "execution_count": 598,
   "metadata": {
    "scrolled": true
   },
   "outputs": [
    {
     "data": {
      "text/plain": [
       "2-element Array{Symbol,1}:\n",
       " :EDUCATION\n",
       " :MARRIAGE "
      ]
     },
     "execution_count": 598,
     "metadata": {},
     "output_type": "execute_result"
    }
   ],
   "source": [
    "propertynames(df[1,vcat(4:5)])"
   ]
  },
  {
   "cell_type": "code",
   "execution_count": 697,
   "metadata": {},
   "outputs": [
    {
     "data": {
      "text/plain": [
       "(30000, 32)"
      ]
     },
     "execution_count": 697,
     "metadata": {},
     "output_type": "execute_result"
    }
   ],
   "source": [
    "categorical_vars = propertynames(df[1,vcat(4:5)])\n",
    "numerical_vars = propertynames(df[1,vcat([2,6],7:24)])\n",
    "lambda_vals = [0.0001,0.001,0.01]\n",
    "df = preprocess(df, categorical_vars, numerical_vars)\n",
    "n,p=size(df)"
   ]
  },
  {
   "cell_type": "code",
   "execution_count": 698,
   "metadata": {},
   "outputs": [
    {
     "name": "stdout",
     "output_type": "stream",
     "text": [
      "Enter cross-validation\n",
      "1\n",
      "Number of constraints: 500\t Error = 6234.1767934946165\n",
      "w[-0.000631795, 10.3451, -20.0, 6.25596, 0.290806, -1.49541, 0.473608, 3.12466, 3.80476, 0.340599, -6.60304, -20.0, -20.0, 20.0, 20.0, -20.0, 20.0, 0.432675, -9.31761, -20.0, -5.50421, -6.81292, -20.0, -20.0, -20.0, -20.0, -20.0, -20.0, -20.0, -20.0, -20.0]\n",
      "∇f_k[1.64637e6, 609.756, -42.1734, 501.664, -48.031, -176.793, -158.085, 9.98766, -12.0211, -147.042, -284.085, -150.372, -65.343, 31.1591, 36.586, -9.79421, 14.6661, 300.466, 101.046, -66.9913, -77.6335, -49.8635, -79.8858, 99.5099, 174.891, 14.7967, -3.27591, -2.77123, -3.27656, 218.28, 196.331]\n",
      "Number of constraints: 1000\t Error = 2885.396220048346\n",
      "w[0.000142393, 6.73046, -1.07427, -7.97781, 3.0754, -0.822048, -1.88209, 1.10586, -0.672262, -5.78973, 4.95259, 7.80473, -20.0, 20.0, -4.44127, -20.0, 20.0, -1.51711, -20.0, -20.0, 1.93366, -2.6981, 3.43646, -20.0, -20.0, -20.0, -20.0, -20.0, -20.0, -20.0, -20.0]\n",
      "∇f_k[4.90704e6, 545.433, 51.901, -105.673, 238.019, -69.5214, -58.648, -56.1077, -116.172, -187.362, 91.3183, 94.6194, -13.5828, 13.5618, -96.4227, -40.7967, 59.9468, -55.3983, -58.3479, -74.1126, 296.59, 236.679, 286.79, 124.755, 52.6529, 96.9088, 2.69035, -2.66334, -0.919348, 188.862, 142.888]\n",
      "Number of constraints: 1500\t Error = 1857.3325591978273\n",
      "w[3.08535e-5, 7.23235, 5.99148, -1.24141, 2.47553, 0.594211, 2.42951, -1.81272, -1.06197, -0.672965, -0.962367, 3.82849, -20.0, 20.0, 9.8599, -20.0, 4.86377, -0.469119, -20.0, -20.0, 2.55519, 0.218338, 0.269094, -20.0, -20.0, -20.0, -20.0, -20.0, -20.0, -20.0, -20.0]\n",
      "∇f_k[2.31441e6, 263.476, 103.82, 27.3623, 141.521, 83.4762, 78.5545, -74.3489, -93.4487, -128.168, -148.773, 85.6653, 24.9589, 57.6813, 25.6919, -76.6227, -12.9196, -37.8148, -30.452, -35.0406, 20.0933, 216.023, 5.52494, 44.9731, 27.4421, 42.6631, 1.31916, -1.10035, -0.757956, 117.254, 64.0799]\n",
      "Number of constraints: 2000\t Error = 4245.184471340538\n",
      "w[0.000109771, 6.0757, 13.595, -3.61503, 2.26843, -2.18283, -3.54975, 3.50255, 0.36961, 1.03106, -2.53112, -20.0, 20.0, 8.13606, -20.0, 20.0, -5.68132, -6.55541, 3.63617, -20.0, -3.64692, 4.03021, 1.85278, -20.0, -20.0, -20.0, -20.0, -20.0, -20.0, -20.0, -20.0]\n",
      "∇f_k[5.0264e6, 530.517, 244.658, 56.0847, 151.958, -84.368, -77.1329, 114.713, 102.753, -28.2902, -98.0965, 107.499, 156.777, 281.51, 87.7057, 130.44, 101.277, 27.9108, 434.148, -52.9864, 19.614, 491.794, 339.217, 115.55, 93.4292, 65.9512, 2.3931, -1.55008, -1.33918, 202.299, 156.406]\n",
      "Number of constraints: 2500\t Error = 2265.030762232425\n",
      "w[0.000231498, 6.66393, -0.243097, -9.11364, -0.523121, -0.162036, -0.641187, -2.32722, -4.59803, 3.35287, -0.849902, 6.46273, -20.0, 20.0, -20.0, 20.0, -0.816883, 3.65857, -20.0, -20.0, -5.90664, 2.71778, -0.741181, -20.0, -20.0, -20.0, -20.0, -20.0, -20.0, -20.0, -20.0]\n",
      "∇f_k[4.05161e6, 425.999, 38.7324, -132.473, -98.9666, -90.3502, -158.32, -252.633, -269.916, -197.09, -199.661, -2.22483, -35.3654, -7.18867, -49.1304, -23.9616, 5.02106, 186.169, -53.3318, -59.3075, -53.9424, 237.684, -36.9933, 85.8141, 75.9601, 39.3433, 1.807, -2.25382, -1.41262, 108.676, 154.097]\n",
      "Number of constraints: 3000\t Error = 1414.2292307365024\n",
      "w[0.000655265, 2.00081, -1.2538, -5.05369, 2.9493, -2.69088, 0.128103, 3.64816, -4.03011, 3.52184, -0.995579, 5.30197, -20.0, 2.33286, 6.03024, 1.80127, 2.12981, 1.9369, -4.27596, -1.92301, -3.37057, 0.360516, -13.8677, -20.0, -20.0, -20.0, -20.0, -20.0, -20.0, -20.0, -20.0]\n",
      "∇f_k[2.29595e6, 88.4314, 10.5231, -65.3173, 105.554, -30.569, 77.6204, 146.557, 26.6749, 95.7146, 50.9971, -57.3124, -70.2836, -52.9497, -36.7918, -41.8017, -38.8365, -24.959, -15.5867, -4.3441, -34.0073, -21.333, -35.5544, 4.04285, -2.9781, 38.4317, -1.08959, -0.885363, -1.87808, 75.8964, 37.8837]\n"
     ]
    },
    {
     "ename": "InterruptException",
     "evalue": "InterruptException:",
     "output_type": "error",
     "traceback": [
      "InterruptException:",
      "",
      "Stacktrace:",
      " [1] iterate(::DataFrameRow{DataFrame,DataFrames.Index}, ::Int64) at /Users/iai/builds/InterpretableAI/SysImgBuilder/.julia/packages/DataFrames/uPgZV/src/dataframerow/dataframerow.jl:175",
      " [2] dot(::DataFrameRow{DataFrame,DataFrames.Index}, ::Array{Float64,1}) at /Users/julia/buildbot/worker/package_macos64/build/usr/share/julia/stdlib/v1.0/LinearAlgebra/src/generic.jl:667",
      " [3] (::getfield(Main, Symbol(\"##169#173\")){Array{Int64,1},DataFrame,Float64})(::Int64) at ./none:0",
      " [4] iterate at ./generator.jl:47 [inlined]",
      " [5] mapfoldl_impl(::typeof(identity), ::typeof(Base.add_sum), ::NamedTuple{(:init,),Tuple{Float64}}, ::Base.Generator{UnitRange{Int64},getfield(Main, Symbol(\"##169#173\")){Array{Int64,1},DataFrame,Float64}}, ::Int64) at ./reduce.jl:45",
      " [6] mapfoldl_impl(::Function, ::Function, ::NamedTuple{(),Tuple{}}, ::Base.Generator{UnitRange{Int64},getfield(Main, Symbol(\"##169#173\")){Array{Int64,1},DataFrame,Float64}}) at ./reduce.jl:59",
      " [7] #mapfoldl#170 at ./reduce.jl:70 [inlined]",
      " [8] mapfoldl at ./reduce.jl:70 [inlined]",
      " [9] #mapreduce#174 at ./reduce.jl:203 [inlined]",
      " [10] mapreduce at ./reduce.jl:203 [inlined]",
      " [11] sum at ./reduce.jl:397 [inlined]",
      " [12] sum at ./reduce.jl:414 [inlined]",
      " [13] LR_cutting_planes(::Array{Int64,1}, ::DataFrame, ::Float64, ::Float64) at ./In[691]:38",
      " [14] #robust_LG_valid#165(::typeof(LR_cutting_planes), ::Float64, ::Function, ::DataFrame, ::Array{Int64,1}, ::Float64, ::Array{Float64,1}) at ./In[680]:12",
      " [15] (::getfield(Main, Symbol(\"#kw##robust_LG_valid\")))(::NamedTuple{(:method, :split_at),Tuple{typeof(LR_cutting_planes),Float64}}, ::typeof(robust_LG_valid), ::DataFrame, ::Array{Int64,1}, ::Float64, ::Array{Float64,1}) at ./none:0",
      " [16] test(::DataFrame, ::Array{Symbol,1}, ::Array{Symbol,1}, ::Float64, ::Float64, ::Float64, ::Array{Float64,1}, ::Int64) at ./In[681]:17",
      " [17] top-level scope at In[698]:2"
     ]
    }
   ],
   "source": [
    "seed = 1\n",
    "auc, acc, lambda,elapsed = test(df,categorical_vars,numerical_vars, 0.75, 0.75,0.001, lambda_vals,seed)\n",
    "print(\"AUC: \",auc,\" Accuracy: \",acc, \" λ: \", lambda, \" Time: \", elapsed)"
   ]
  },
  {
   "cell_type": "code",
   "execution_count": null,
   "metadata": {},
   "outputs": [],
   "source": []
  },
  {
   "cell_type": "code",
   "execution_count": null,
   "metadata": {},
   "outputs": [],
   "source": []
  }
 ],
 "metadata": {
  "kernelspec": {
   "display_name": "Julia 1.0.5",
   "language": "julia",
   "name": "julia-1.0"
  },
  "language_info": {
   "file_extension": ".jl",
   "mimetype": "application/julia",
   "name": "julia",
   "version": "1.0.5"
  }
 },
 "nbformat": 4,
 "nbformat_minor": 4
}
