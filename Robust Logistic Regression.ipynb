{
 "cells": [
  {
   "cell_type": "code",
   "execution_count": 9,
   "metadata": {},
   "outputs": [
    {
     "name": "stdout",
     "output_type": "stream",
     "text": [
      "\u001b[32m\u001b[1m Resolving\u001b[22m\u001b[39m package versions...\n",
      "\u001b[32m\u001b[1m  Updating\u001b[22m\u001b[39m `~/.julia/environments/v1.0/Project.toml`\n",
      "\u001b[90m [no changes]\u001b[39m\n",
      "\u001b[32m\u001b[1m  Updating\u001b[22m\u001b[39m `~/.julia/environments/v1.0/Manifest.toml`\n",
      "\u001b[90m [no changes]\u001b[39m\n",
      "\u001b[32m\u001b[1m Resolving\u001b[22m\u001b[39m package versions...\n",
      "\u001b[32m\u001b[1m  Updating\u001b[22m\u001b[39m `~/.julia/environments/v1.0/Project.toml`\n",
      "\u001b[90m [no changes]\u001b[39m\n",
      "\u001b[32m\u001b[1m  Updating\u001b[22m\u001b[39m `~/.julia/environments/v1.0/Manifest.toml`\n",
      "\u001b[90m [no changes]\u001b[39m\n"
     ]
    }
   ],
   "source": [
    "using Pkg\n",
    "Pkg.add(\"Distributions\")\n",
    "Pkg.add(\"ROCAnalysis\")\n",
    "Pkg.build(\"MLBase\")"
   ]
  },
  {
   "cell_type": "code",
   "execution_count": 10,
   "metadata": {},
   "outputs": [
    {
     "name": "stderr",
     "output_type": "stream",
     "text": [
      "┌ Info: Precompiling MLBase [f0e99cf1-93fa-52ec-9ecc-5026115318e0]\n",
      "└ @ Base loading.jl:1192\n",
      "WARNING: Method definition ca_chain!(MbedTLS.SSLConfig) in module MbedTLS at /Users/iai/builds/InterpretableAI/SysImgBuilder/.julia/packages/MbedTLS/X4xar/src/ssl.jl:489 overwritten in module Main at /Users/iai/builds/InterpretableAI/SysImgBuilder/.julia/packages/PackageCompiler/4yNnV/sysimg/precompile.jl:256.\n",
      "┌ Info: Precompiling ROCAnalysis [f535d66d-59bb-5153-8d2b-ef0a426c6aff]\n",
      "└ @ Base loading.jl:1192\n",
      "WARNING: Method definition ca_chain!(MbedTLS.SSLConfig) in module MbedTLS at /Users/iai/builds/InterpretableAI/SysImgBuilder/.julia/packages/MbedTLS/X4xar/src/ssl.jl:489 overwritten in module Main at /Users/iai/builds/InterpretableAI/SysImgBuilder/.julia/packages/PackageCompiler/4yNnV/sysimg/precompile.jl:256.\n"
     ]
    },
    {
     "name": "stdout",
     "output_type": "stream",
     "text": [
      "\n",
      "--------------------------------------------\n",
      "Warning: your license will expire in 10 days\n",
      "--------------------------------------------\n",
      "\n",
      "Academic license - for non-commercial use only\n"
     ]
    },
    {
     "data": {
      "text/plain": [
       "Gurobi.Env(Ptr{Nothing} @0x00007fddd055da00)"
      ]
     },
     "execution_count": 10,
     "metadata": {},
     "output_type": "execute_result"
    }
   ],
   "source": [
    "# Authors: Hamza Tazi Bouardi & Pierre-Henri Ramirez\n",
    "using JuMP, Gurobi, CSV, LinearAlgebra, DataFrames, Random, Distributions, Statistics,MLBase, ROCAnalysis\n",
    "gurobi_env = Gurobi.Env()\n",
    "\n",
    "### Loading Data ###\n",
    "# train_data = CSV.read(\"data/adult_train.csv\")\n",
    "# X_train = convert(Matrix, train_data[:, 1:91])\n",
    "# y_train = train_data[:, 92]\n",
    "# test_data = CSV.read(\"data/adult_test.csv\")\n",
    "# X_test = convert(Matrix, test_data[:, 1:91])\n",
    "# y_test = test_data[:, 92]\n",
    "# println(\"Got the data for X dataset.\")\n",
    "\n"
   ]
  },
  {
   "cell_type": "code",
   "execution_count": 4,
   "metadata": {},
   "outputs": [
    {
     "data": {
      "text/plain": [
       "one_hot_encode (generic function with 1 method)"
      ]
     },
     "execution_count": 4,
     "metadata": {},
     "output_type": "execute_result"
    }
   ],
   "source": [
    "function one_hot_encode(X, names)\n",
    "    X2 = deepcopy(X)\n",
    "    deletecols!(X2, Symbol.(names))\n",
    "    for i in names\n",
    "        vales = unique(X[i])\n",
    "        for j in vales\n",
    "           X2[Symbol(string(i)*\"_\"*string(j))] = (X[i].==j)*1\n",
    "        end\n",
    "    end\n",
    "    return X2\n",
    "end"
   ]
  },
  {
   "cell_type": "code",
   "execution_count": 5,
   "metadata": {},
   "outputs": [
    {
     "name": "stderr",
     "output_type": "stream",
     "text": [
      "┌ Warning: `deletecols!(df::DataFrame, inds)` is deprecated, use `select!(df, Not(inds))` instead.\n",
      "│   caller = one_hot_encode(::DataFrame, ::Array{Symbol,1}) at In[4]:3\n",
      "└ @ Main ./In[4]:3\n",
      "┌ Warning: `getindex(df::DataFrame, col_ind::ColumnIndex)` is deprecated, use `df[!, col_ind]` instead.\n",
      "│   caller = one_hot_encode(::DataFrame, ::Array{Symbol,1}) at In[4]:5\n",
      "└ @ Main ./In[4]:5\n",
      "┌ Warning: `getindex(df::DataFrame, col_ind::ColumnIndex)` is deprecated, use `df[!, col_ind]` instead.\n",
      "│   caller = one_hot_encode(::DataFrame, ::Array{Symbol,1}) at In[4]:7\n",
      "└ @ Main ./In[4]:7\n",
      "┌ Warning: `setindex!(df::DataFrame, v::AbstractVector, col_ind::ColumnIndex)` is deprecated, use `begin\n",
      "│     df[!, col_ind] = v\n",
      "│     df\n",
      "│ end` instead.\n",
      "│   caller = one_hot_encode(::DataFrame, ::Array{Symbol,1}) at In[4]:7\n",
      "└ @ Main ./In[4]:7\n"
     ]
    }
   ],
   "source": [
    "caesarian_df = CSV.read(\"caesarian.csv\";header=true)\n",
    "categorical_vars = Symbol.([\"Delivery number\" ;\"Delivery time\";\"Blood of Pressure\";\"Heart Problem\"])\n",
    "X = one_hot_encode(caesarian_df[:,1:end-1], categorical_vars) \n",
    "y = caesarian_df[:,end]\n",
    ";"
   ]
  },
  {
   "cell_type": "code",
   "execution_count": null,
   "metadata": {},
   "outputs": [],
   "source": [
    "function solve_problem(w_k, y, X, K, λ)\n",
    "    n, p = size(X)\n",
    "    model_inner_max = Model(solver=GurobiSolver(OutputFlag=0,gurobi_env))\n",
    "    @variable(model_inner_max, z[1:n] >= 0)\n",
    "    @constraint(model_inner_max, [i=1:n], 1 >= z[i])\n",
    "    @constraint(model_inner_max, sum(z) <= K)\n",
    "    @objective(\n",
    "        model_inner_max,\n",
    "        Max,\n",
    "        sum(z[i]*log(1+exp(-y[i]*dot(X[i,:], w_k))) for i=1:n)\n",
    "    )\n",
    "    solve(model_inner_max)\n",
    "    optimal_z_k = getvalue(z)\n",
    "    optimal_f_k = getobjectivevalue(model_inner_max) + λ*dot(w_k,w_k)\n",
    "    return optimal_z_k, optimal_f_k\n",
    "end"
   ]
  },
  {
   "cell_type": "code",
   "execution_count": 54,
   "metadata": {},
   "outputs": [
    {
     "data": {
      "text/plain": [
       "scores (generic function with 1 method)"
      ]
     },
     "execution_count": 54,
     "metadata": {},
     "output_type": "execute_result"
    }
   ],
   "source": [
    "function scores(preds, gt)\n",
    "    acc = sum(preds .== gt)/size(preds)[1]\n",
    "    TPR = dot((preds.==1),gt.==1)/(dot((preds.==1),gt.==1) + dot((preds.==-1),gt.==1))\n",
    "    FPR = dot((preds.==1),gt.==-1)/ (dot((preds.==1),gt.==-1) + dot((preds.==-1),gt.==-1))\n",
    "    return acc, TPR, FPR\n",
    "end"
   ]
  },
  {
   "cell_type": "code",
   "execution_count": 6,
   "metadata": {},
   "outputs": [
    {
     "data": {
      "text/plain": [
       "compute_∇f (generic function with 1 method)"
      ]
     },
     "execution_count": 6,
     "metadata": {},
     "output_type": "execute_result"
    }
   ],
   "source": [
    "### Utils Functions ###\n",
    "function compute_∇f(w_k, y, X, λ)\n",
    "    n, p = size(X)\n",
    "    temp = zeros(p)\n",
    "    for i in 1:n\n",
    "        temp = temp + \n",
    "        (1+exp(-y[i]*(transpose(w_k)*Array(X[i,:]))+λ*transpose(w_k)*w_k))^(-1)*\n",
    "        exp(-y[i]*(transpose(w_k)*Array(X[i,:]))+λ*transpose(w_k)*w_k)*(-y[i]*Array(X[i,:]) .+ 2*λ*w_k)\n",
    "    end\n",
    "    ∇f_k = temp\n",
    "    return ∇f_k\n",
    "end"
   ]
  },
  {
   "cell_type": "code",
   "execution_count": 170,
   "metadata": {},
   "outputs": [
    {
     "data": {
      "text/plain": [
       "LR_cutting_planes (generic function with 1 method)"
      ]
     },
     "execution_count": 170,
     "metadata": {},
     "output_type": "execute_result"
    }
   ],
   "source": [
    "### Cutting Planes Implementation ###\n",
    "function LR_cutting_planes(y, X, ε, λ)\n",
    "    errors = []\n",
    "    n, p = size(X)\n",
    "    # Initialization values and step 0\n",
    "    w_0 = [0 for i in 1:p]\n",
    "    #w_0 = [rand(Uniform(-0.5, 0.5)) for i in 1:p]\n",
    "    f_0 = sum(log(1+exp(-y[i]*dot(X[i,:], w_0)+λ*transpose(w_0)*w_0)) for i=1:n)\n",
    "    ∇f_0 = compute_∇f(w_0, y, X, λ)\n",
    "\n",
    "    # Outer minimization problem\n",
    "    outer_min_model = Model(solver=GurobiSolver(OutputFlag=0, gurobi_env))\n",
    "    @variable(outer_min_model, t >= 0)\n",
    "    @variable(outer_min_model, w[1:p])\n",
    "    #@constraint(outer_min_model, [j=1:p], -1 <= w[j] <= 1)\n",
    "    @constraint(outer_min_model, t >= f_0 + dot(∇f_0, w)-dot(∇f_0, w_0))\n",
    "    @constraint(outer_min_model, [j=1:p], 1 >= w[j])\n",
    "    @constraint(outer_min_model, [j=1:p], w[j] >= -1)\n",
    "    @objective(outer_min_model, Min, t)\n",
    "    k = 1 # Number of constraints in the final problem\n",
    "    solve(outer_min_model)\n",
    "\n",
    "    # New steps k\n",
    "    t_k = getvalue(t)\n",
    "    w_k = getvalue(w)\n",
    "    \n",
    "    f_k = sum(log(1+exp(-y[i]*dot(X[i,:], w_k)+λ*transpose(w_k)*w_k)) for i=1:n)\n",
    "\n",
    "\n",
    "    ∇f_k = compute_∇f(w_k, y, X, λ)\n",
    "    while abs(f_k - t_k) >= ε # error\n",
    "        push!(errors, f_k - t_k)\n",
    "        @constraint(outer_min_model,t >= f_k + dot(∇f_k, w)-dot(∇f_k, w_k))\n",
    "        k += 1\n",
    "        solve(outer_min_model)\n",
    "        # Updating all the values\n",
    "        t_k = getvalue(t)\n",
    "        w_k = getvalue(w)\n",
    "        f_k = sum(log(1+exp(-y[i]*dot(X[i,:], w_k)+λ*transpose(w_k)*w_k)) for i=1:n)\n",
    "\n",
    "        ∇f_k = compute_∇f(w_k, y, X, λ)\n",
    "        if k%100 == 0\n",
    "            println(\"Number of constraints: \", k, \"\\t Error = \", abs(t_k - f_k))\n",
    "        end\n",
    "        if k > 20000\n",
    "            break\n",
    "        end\n",
    "    end\n",
    "    push!(errors, f_k - t_k)\n",
    "    return t_k, f_k, w_k, errors\n",
    "end\n"
   ]
  },
  {
   "cell_type": "code",
   "execution_count": 119,
   "metadata": {},
   "outputs": [
    {
     "data": {
      "text/plain": [
       "8.330554661667191"
      ]
     },
     "execution_count": 119,
     "metadata": {},
     "output_type": "execute_result"
    }
   ],
   "source": [
    "transpose(Array(caesarian_df[1,1:end-1]))*w"
   ]
  },
  {
   "cell_type": "code",
   "execution_count": 198,
   "metadata": {},
   "outputs": [
    {
     "name": "stdout",
     "output_type": "stream",
     "text": [
      "[-644.5, -11.0, -7.5, -3.5, -1.0, -15.0, -4.0, -4.0, -7.0, -8.5, -7.5, -11.0, -12.0]\n",
      "[0.02, 0.02, 0.02, 0.02, 0.02, 0.02, 0.02, 0.02, 0.02, 0.02, 0.02, 0.02, 0.02]\n"
     ]
    }
   ],
   "source": [
    "n, p = size(X)\n",
    "λ = 0.01\n",
    "K=100\n",
    "# Initialization values and step 0\n",
    "w_0 = [0 for i in 1:p]\n",
    "#w_0 = [rand(Uniform(-0.5, 0.5)) for i in 1:p]\n",
    "z_0, f_0 = solve_inner_max_problem_o(w_0, y, X, K, λ)\n",
    "∇f_0 = compute_∇f_o(w_0, z_0, y, X, λ)\n",
    "println(∇f_0)\n",
    "outer_min_model = Model(solver=GurobiSolver(OutputFlag=0, gurobi_env))\n",
    "@variable(outer_min_model, t >= 0)\n",
    "@variable(outer_min_model, w[1:p])\n",
    "#@constraint(outer_min_model, [j=1:p], -1 <= w[j] <= 1)\n",
    "@constraint(outer_min_model, t >= f_0 + dot(∇f_0, w)-dot(∇f_0, w_0))\n",
    "@constraint(outer_min_model, [j=1:p], 1 >= w[j])\n",
    "@constraint(outer_min_model, [j=1:p], w[j] >= -1)\n",
    "@objective(outer_min_model, Min, t)\n",
    "k = 1 # Number of constraints in the final problem\n",
    "solve(outer_min_model)\n",
    "\n",
    "# New steps k\n",
    "t_k = getvalue(t)\n",
    "w_k = getvalue(w)\n",
    "z_k, f_k = solve_inner_max_problem_o(w_k, y, X, K, λ)\n",
    "∇f_k = compute_∇f_o(w_k, z_k, y, X, λ)\n",
    "println(∇f_k)"
   ]
  },
  {
   "cell_type": "code",
   "execution_count": 199,
   "metadata": {},
   "outputs": [
    {
     "data": {
      "text/plain": [
       "13-element Array{Float64,1}:\n",
       " 1.0\n",
       " 1.0\n",
       " 1.0\n",
       " 1.0\n",
       " 1.0\n",
       " 1.0\n",
       " 1.0\n",
       " 1.0\n",
       " 1.0\n",
       " 1.0\n",
       " 1.0\n",
       " 1.0\n",
       " 1.0"
      ]
     },
     "execution_count": 199,
     "metadata": {},
     "output_type": "execute_result"
    }
   ],
   "source": [
    "w_k"
   ]
  },
  {
   "cell_type": "code",
   "execution_count": 191,
   "metadata": {},
   "outputs": [
    {
     "name": "stdout",
     "output_type": "stream",
     "text": [
      "[-644.5, -11.0, -7.5, -3.5, -1.0, -15.0, -4.0, -4.0, -7.0, -8.5, -7.5, -11.0, -12.0]\n",
      "[0.362069, 0.362069, 0.362069, 0.362069, 0.362069, 0.362069, 0.362069, 0.362069, 0.362069, 0.362069, 0.362069, 0.362069, 0.362069]\n"
     ]
    }
   ],
   "source": [
    "n,p = size(X)\n",
    "λ = 0.01\n",
    "w_0 = [0 for i in 1:p]\n",
    "#w_0 = [rand(Uniform(-0.5, 0.5)) for i in 1:p]\n",
    "f_0 = sum(log(1+exp(-y[i]*dot(X[i,:], w_0)+λ*transpose(w_0)*w_0)) for i=1:n)\n",
    "∇f_0 = compute_∇f(w_0, y, X, λ)\n",
    "println(∇f_0)\n",
    " # Outer minimization problem\n",
    "outer_min_model = Model(solver=GurobiSolver(OutputFlag=0, gurobi_env))\n",
    "@variable(outer_min_model, t >= 0)\n",
    "@variable(outer_min_model, w[1:p])\n",
    "#@constraint(outer_min_model, [j=1:p], -1 <= w[j] <= 1)\n",
    "@constraint(outer_min_model, t >= f_0 + dot(∇f_0, w)-dot(∇f_0, w_0))\n",
    "@constraint(outer_min_model, [j=1:p], 1 >= w[j])\n",
    "@constraint(outer_min_model, [j=1:p], w[j] >= -1)\n",
    "@objective(outer_min_model, Min, t)\n",
    "k = 1 # Number of constraints in the final problem\n",
    "solve(outer_min_model)\n",
    "\n",
    "# New steps k\n",
    "t_k = getvalue(t)\n",
    "w_k = getvalue(w)\n",
    "\n",
    "f_k = sum(log(1+exp(-y[i]*dot(X[i,:], w_k)+λ*transpose(w_k)*w_k)) for i=1:n)\n",
    "\n",
    "∇f_k = compute_∇f(w_k, y, X, λ)\n",
    "println(∇f_k)"
   ]
  },
  {
   "cell_type": "code",
   "execution_count": 197,
   "metadata": {},
   "outputs": [
    {
     "data": {
      "text/plain": [
       "13.992943611198907"
      ]
     },
     "execution_count": 197,
     "metadata": {},
     "output_type": "execute_result"
    }
   ],
   "source": [
    "f_k"
   ]
  },
  {
   "cell_type": "code",
   "execution_count": 171,
   "metadata": {},
   "outputs": [
    {
     "data": {
      "text/plain": [
       "(23.598127664199165, 23.598963220337744, [0.384704, 0.00696594, 0.0433285, 0.0426026, -0.0205498], Any[24.4276, 19.329, 7.66883, 3.86515, 2.85148, 3.88155, 5.64845, 2.56713, 1.80432, 1.56094  …  0.00213084, 0.00327753, 0.00234605, 0.00232466, 0.00123772, 0.00279607, 0.00115183, 0.00201565, 0.00101017, 0.000835556])"
      ]
     },
     "execution_count": 171,
     "metadata": {},
     "output_type": "execute_result"
    }
   ],
   "source": [
    "t,f,w,e = LR_cutting_planes(caesarian_df[:,end], caesarian_df[:,1:end-1], 0.001, 0.01)"
   ]
  },
  {
   "cell_type": "code",
   "execution_count": 172,
   "metadata": {},
   "outputs": [
    {
     "data": {
      "text/plain": [
       "5-element Array{Float64,1}:\n",
       "  0.38470391929740677 \n",
       "  0.006965942108277889\n",
       "  0.04332852030801294 \n",
       "  0.04260259231085005 \n",
       " -0.020549818328637365"
      ]
     },
     "execution_count": 172,
     "metadata": {},
     "output_type": "execute_result"
    }
   ],
   "source": [
    "w"
   ]
  },
  {
   "cell_type": "code",
   "execution_count": 173,
   "metadata": {},
   "outputs": [
    {
     "data": {
      "text/plain": [
       "80-element Array{Float64,1}:\n",
       " 0.9998075837927463\n",
       " 0.9999571960077634\n",
       " 0.9999590109618189\n",
       " 0.9999808632503093\n",
       " 0.9998006044697094\n",
       " 0.9999569280867059\n",
       " 0.9999708649730688\n",
       " 0.9999957730508368\n",
       " 0.9999801689972236\n",
       " 0.999971905338189 \n",
       " 0.9999990800169115\n",
       " 0.9999970846676023\n",
       " 0.9998691184822467\n",
       " ⋮                 \n",
       " 0.9999339190470488\n",
       " 0.9999721206036951\n",
       " 0.99856754575615  \n",
       " 0.9999867233021513\n",
       " 0.9999801689972236\n",
       " 0.999995685289523 \n",
       " 0.9999996229769623\n",
       " 0.9999721003584779\n",
       " 0.9999971428860605\n",
       " 0.9999876133544255\n",
       " 0.999939403993294 \n",
       " 0.999915280969719 "
      ]
     },
     "execution_count": 173,
     "metadata": {},
     "output_type": "execute_result"
    }
   ],
   "source": [
    "1 ./ (1 .+ exp.(-(Matrix(caesarian_df[:,1:end-1])*w)))"
   ]
  },
  {
   "cell_type": "code",
   "execution_count": 121,
   "metadata": {},
   "outputs": [
    {
     "ename": "DimensionMismatch",
     "evalue": "DimensionMismatch(\"\")",
     "output_type": "error",
     "traceback": [
      "DimensionMismatch(\"\")",
      "",
      "Stacktrace:",
      " [1] *(::Transpose{Int64,Array{Int64,1}}, ::Array{Float64,1}) at /Users/julia/buildbot/worker/package_macos64/build/usr/share/julia/stdlib/v1.0/LinearAlgebra/src/adjtrans.jl:201",
      " [2] top-level scope at ./In[121]:2"
     ]
    }
   ],
   "source": [
    "for i in 1:80\n",
    "    println(1/(1+exp(-transpose(Array(X[i,:]))*w)))\n",
    "end\n",
    ";"
   ]
  },
  {
   "cell_type": "code",
   "execution_count": 39,
   "metadata": {},
   "outputs": [
    {
     "name": "stdout",
     "output_type": "stream",
     "text": [
      "0.0004995637823444937"
     ]
    }
   ],
   "source": [
    "print(1/(1+exp(transpose(Array(X[7,:]))*w)))"
   ]
  },
  {
   "cell_type": "code",
   "execution_count": 76,
   "metadata": {},
   "outputs": [
    {
     "data": {
      "text/plain": [
       "0"
      ]
     },
     "execution_count": 76,
     "metadata": {},
     "output_type": "execute_result"
    }
   ],
   "source": [
    "w_0 = [0 for i in 1:13]\n",
    "transpose(w_0)*Array(X[1,:])"
   ]
  },
  {
   "cell_type": "code",
   "execution_count": null,
   "metadata": {},
   "outputs": [],
   "source": [
    "temp + (1+exp(-y[i]*(transpose(w_k)*Array(X[i,:]))+λ*transpose(w_k)*w_k))^(-1).*\n",
    "        (exp.(-y[i]*dot(w_k,X[i,:]))*(-y[i]*X[i,:]) .+ 2*λ*w_k)"
   ]
  },
  {
   "cell_type": "code",
   "execution_count": 202,
   "metadata": {},
   "outputs": [
    {
     "data": {
      "text/plain": [
       "stable_LR_cutting_planes_o (generic function with 1 method)"
      ]
     },
     "execution_count": 202,
     "metadata": {},
     "output_type": "execute_result"
    }
   ],
   "source": [
    "function compute_∇f_o(w_k, z_k, y, X, λ)\n",
    "    n, p = size(X)\n",
    "    ∇f_k = sum(-z_k[i]/(1+exp(y[i]*dot(w_k,X[i,:])))*y[i]*Array(X[i,:]) for i in 1:n) .+ 2*λ*w_k\n",
    "#     temp = zeros(p)\n",
    "#     for i in 1:n\n",
    "#         temp = temp + \n",
    "#         (1+exp(-y[i]*(transpose(w_k)*Array(X[i,:]))+λ*transpose(w_k)*w_k))^(-1)*\n",
    "#         exp(-y[i]*(transpose(w_k)*Array(X[i,:]))+λ*transpose(w_k)*w_k)*(-y[i]*Array(X[i,:]) .+ 2*λ*w_k)\n",
    "#     end\n",
    "#     ∇f_k = temp\n",
    "    return ∇f_k\n",
    "end\n",
    "\n",
    "function solve_inner_max_problem_o(w_k, y, X, K, λ)\n",
    "    n, p = size(X)\n",
    "    model_inner_max = Model(solver=GurobiSolver(OutputFlag=0,gurobi_env))\n",
    "    @variable(model_inner_max, z[1:n] >= 0)\n",
    "    @constraint(model_inner_max, [i=1:n], 1 >= z[i])\n",
    "    @constraint(model_inner_max, sum(z) <= K)\n",
    "    @objective(\n",
    "        model_inner_max,\n",
    "        Max,\n",
    "        sum(z[i]*log(1+exp(-y[i]*dot(X[i,:], w_k))) for i=1:n)\n",
    "    )\n",
    "    solve(model_inner_max)\n",
    "    optimal_z_k = getvalue(z)\n",
    "    optimal_f_k = getobjectivevalue(model_inner_max) + λ*dot(w_k,w_k)\n",
    "    return optimal_z_k, optimal_f_k\n",
    "end\n",
    "\n",
    "### Cutting Planes Implementation ###\n",
    "function stable_LR_cutting_planes_o(y, X, ε, K,λ)\n",
    "    errors = []\n",
    "    n, p = size(X)\n",
    "    # Initialization values and step 0\n",
    "    w_0 = [0 for i in 1:p]\n",
    "    #w_0 = [rand(Uniform(-0.5, 0.5)) for i in 1:p]\n",
    "    z_0, f_0 = solve_inner_max_problem_o(w_0, y, X, K, λ)\n",
    "    ∇f_0 = compute_∇f_o(w_0, z_0, y, X, λ)\n",
    "\n",
    "    # Outer minimization problem\n",
    "    outer_min_model = Model(solver=GurobiSolver(OutputFlag=0, gurobi_env))\n",
    "    @variable(outer_min_model, t >= 0)\n",
    "    @variable(outer_min_model, w[1:p])\n",
    "    #@constraint(outer_min_model, [j=1:p], -1 <= w[j] <= 1)\n",
    "    @constraint(outer_min_model, t >= f_0 + dot(∇f_0, w)-dot(∇f_0, w_0))\n",
    "    @constraint(outer_min_model, [j=1:p], 1 >= w[j])\n",
    "    @constraint(outer_min_model, [j=1:p], w[j] >= -1)\n",
    "    @objective(outer_min_model, Min, t)\n",
    "    k = 1 # Number of constraints in the final problem\n",
    "    solve(outer_min_model)\n",
    "\n",
    "    # New steps k\n",
    "    t_k = getvalue(t)\n",
    "    w_k = getvalue(w)\n",
    "    z_k, f_k = solve_inner_max_problem_o(w_k, y, X, K, λ)\n",
    "\n",
    "    ∇f_k = compute_∇f_o(w_k, z_k, y, X, λ)\n",
    "    while abs(f_k - t_k) >= ε # error\n",
    "        push!(errors, f_k - t_k)\n",
    "        @constraint(outer_min_model,t >= f_k + dot(∇f_k, w)-dot(∇f_k, w_k))\n",
    "        k += 1\n",
    "        solve(outer_min_model)\n",
    "        # Updating all the values\n",
    "        t_k = getvalue(t)\n",
    "        w_k = getvalue(w)\n",
    "        z_k, f_k = solve_inner_max_problem_o(w_k, y, X, K, λ)\n",
    "\n",
    "        ∇f_k = compute_∇f_o(w_k, z_k, y, X, λ)\n",
    "        if k%100 == 0\n",
    "            println(\"Number of constraints: \", k, \"\\t Error = \", abs(t_k - f_k))\n",
    "        end\n",
    "        if k > 20000\n",
    "            break\n",
    "        end\n",
    "    end\n",
    "    push!(errors, f_k - t_k)\n",
    "    return t_k, f_k, w_k, z_k, errors\n",
    "end\n"
   ]
  },
  {
   "cell_type": "code",
   "execution_count": null,
   "metadata": {},
   "outputs": [],
   "source": [
    "t,f,w,e = LR_cutting_planes(caesarian_df[:,end], caesarian_df[:,1:end-1], 0.001, 0.01)"
   ]
  },
  {
   "cell_type": "code",
   "execution_count": 179,
   "metadata": {
    "scrolled": true
   },
   "outputs": [
    {
     "data": {
      "text/plain": [
       "(23.598127664199165, 23.598963220337744, [0.384704, 0.00696594, 0.0433285, 0.0426026, -0.0205498], Any[24.4276, 19.329, 7.66883, 3.86515, 2.85148, 3.88155, 5.64845, 2.56713, 1.80432, 1.56094  …  0.00213084, 0.00327753, 0.00234605, 0.00232466, 0.00123772, 0.00279607, 0.00115183, 0.00201565, 0.00101017, 0.000835556])"
      ]
     },
     "execution_count": 179,
     "metadata": {},
     "output_type": "execute_result"
    }
   ],
   "source": [
    "t,f,w,e = LR_cutting_planes(caesarian_df[:,end], caesarian_df[:,1:end-1], 0.001, 0.01)"
   ]
  },
  {
   "cell_type": "code",
   "execution_count": 180,
   "metadata": {},
   "outputs": [
    {
     "data": {
      "text/plain": [
       "80-element Array{Float64,1}:\n",
       " 0.9998075837927463\n",
       " 0.9999571960077634\n",
       " 0.9999590109618189\n",
       " 0.9999808632503093\n",
       " 0.9998006044697094\n",
       " 0.9999569280867059\n",
       " 0.9999708649730688\n",
       " 0.9999957730508368\n",
       " 0.9999801689972236\n",
       " 0.999971905338189 \n",
       " 0.9999990800169115\n",
       " 0.9999970846676023\n",
       " 0.9998691184822467\n",
       " ⋮                 \n",
       " 0.9999339190470488\n",
       " 0.9999721206036951\n",
       " 0.99856754575615  \n",
       " 0.9999867233021513\n",
       " 0.9999801689972236\n",
       " 0.999995685289523 \n",
       " 0.9999996229769623\n",
       " 0.9999721003584779\n",
       " 0.9999971428860605\n",
       " 0.9999876133544255\n",
       " 0.999939403993294 \n",
       " 0.999915280969719 "
      ]
     },
     "execution_count": 180,
     "metadata": {},
     "output_type": "execute_result"
    }
   ],
   "source": [
    "1 ./ (1 .+ exp.(-(Matrix(caesarian_df[:,1:end-1])*w)))"
   ]
  },
  {
   "cell_type": "code",
   "execution_count": 205,
   "metadata": {},
   "outputs": [
    {
     "name": "stdout",
     "output_type": "stream",
     "text": [
      "Number of constraints: 100\t Error = 0.011935158525627543\n"
     ]
    },
    {
     "data": {
      "text/plain": [
       "(23.56966796926474, 23.57058493408266, [0.482407, 0.0463461, -0.065342, -0.118804, -0.0427386, -0.00126255, -0.00387642, -0.0553371, 0.00212159, -0.0675339, 0.0624503, 0.0273817, 0.0119962], [1.0, 1.0, 1.0, 1.0, 1.0, 1.0, 1.0, 0.0, 1.0, 1.0  …  1.0, 0.0, 1.0, 1.0, 0.0, 1.0, 0.0, 0.0, 1.0, 1.0], Any[23.697, 14.8689, 5.48829, 2.14173, 0.939819, 0.542255, 0.480033, 0.420589, 0.393126, 0.310426  …  0.00132884, 0.00193032, 0.00136474, 0.00142469, 0.00171808, 0.00108831, 0.00100686, 0.00178033, 0.00142019, 0.000916965])"
      ]
     },
     "execution_count": 205,
     "metadata": {},
     "output_type": "execute_result"
    }
   ],
   "source": [
    "t,f,w,e = stable_LR_cutting_planes_o(y, X, 0.001, 100, 0.01)"
   ]
  },
  {
   "cell_type": "code",
   "execution_count": 203,
   "metadata": {},
   "outputs": [
    {
     "data": {
      "text/plain": [
       "(23.56967935467481, 23.57059308727941, [0.481039, 0.0919781, 0.0586182, -0.121395, 0.0730615], [1.0, 1.0, 1.0, 1.0, 1.0, 1.0, 1.0, 0.0, 1.0, 1.0  …  1.0, 0.0, 1.0, 1.0, 0.0, 1.0, 0.0, 0.0, 1.0, 1.0], Any[23.617, 17.1508, 6.04423, 2.28995, 0.896843, 0.380658, 0.200893, 0.160806, 0.154469, 0.199646  …  0.00470553, 0.00315299, 0.00594476, 0.0021823, 0.00296698, 0.00170896, 0.00192702, 0.00102675, 0.00213877, 0.000913733])"
      ]
     },
     "execution_count": 203,
     "metadata": {},
     "output_type": "execute_result"
    }
   ],
   "source": [
    "t,f,w,e = stable_LR_cutting_planes_o(caesarian_df[:,end], caesarian_df[:,1:end-1], 0.001, 100, 0.01)"
   ]
  },
  {
   "cell_type": "code",
   "execution_count": 204,
   "metadata": {},
   "outputs": [
    {
     "data": {
      "text/plain": [
       "80-element Array{Float64,1}:\n",
       " 0.9999705278315583\n",
       " 0.9999965237827755\n",
       " 0.9999967216943401\n",
       " 0.9999983558178651\n",
       " 0.9999761906479103\n",
       " 0.9999968167282722\n",
       " 0.9999978512043882\n",
       " 0.9999998231160252\n",
       " 0.9999986717400143\n",
       " 0.9999977783117039\n",
       " 0.9999999689593898\n",
       " 0.999999890228798 \n",
       " 0.999984783072052 \n",
       " ⋮                 \n",
       " 0.999994539371293 \n",
       " 0.9999983073824691\n",
       " 0.9997438863189421\n",
       " 0.9999993409021081\n",
       " 0.9999986717400143\n",
       " 0.9999998355786222\n",
       " 0.9999999907893481\n",
       " 0.9999979735419771\n",
       " 0.9999999002689144\n",
       " 0.9999991257518246\n",
       " 0.9999951434505961\n",
       " 0.999991908769859 "
      ]
     },
     "execution_count": 204,
     "metadata": {},
     "output_type": "execute_result"
    }
   ],
   "source": [
    "1 ./ (1 .+ exp.(-(Matrix(caesarian_df[:,1:end-1])*w)))"
   ]
  },
  {
   "cell_type": "code",
   "execution_count": 141,
   "metadata": {},
   "outputs": [
    {
     "data": {
      "text/plain": [
       "5-element Array{Float64,1}:\n",
       "  0.02122501010819794\n",
       " -0.1593256752360007 \n",
       "  0.04141888602590581\n",
       " -0.05725501452607942\n",
       "  0.11747785282823284"
      ]
     },
     "execution_count": 141,
     "metadata": {},
     "output_type": "execute_result"
    }
   ],
   "source": [
    "w"
   ]
  },
  {
   "cell_type": "code",
   "execution_count": 145,
   "metadata": {},
   "outputs": [
    {
     "data": {
      "text/plain": [
       "5-element Array{Float64,1}:\n",
       "  0.38245186474397164 \n",
       "  0.04800180858263814 \n",
       "  0.06281723360773737 \n",
       "  0.02924388913386663 \n",
       " -0.013920802906773465"
      ]
     },
     "execution_count": 145,
     "metadata": {},
     "output_type": "execute_result"
    }
   ],
   "source": [
    "w"
   ]
  },
  {
   "cell_type": "code",
   "execution_count": null,
   "metadata": {},
   "outputs": [],
   "source": []
  }
 ],
 "metadata": {
  "kernelspec": {
   "display_name": "Julia 1.0.5",
   "language": "julia",
   "name": "julia-1.0"
  },
  "language_info": {
   "file_extension": ".jl",
   "mimetype": "application/julia",
   "name": "julia",
   "version": "1.0.5"
  }
 },
 "nbformat": 4,
 "nbformat_minor": 4
}
