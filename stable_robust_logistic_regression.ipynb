{
 "cells": [
  {
   "cell_type": "code",
   "execution_count": 55,
   "metadata": {},
   "outputs": [
    {
     "data": {
      "text/plain": [
       "PyObject <function roc_auc_score at 0x7fd998b1e5e0>"
      ]
     },
     "execution_count": 55,
     "metadata": {},
     "output_type": "execute_result"
    }
   ],
   "source": [
    "using JuMP \n",
    "using Gurobi \n",
    "using CSV \n",
    "using LinearAlgebra\n",
    "using DataFrames\n",
    "using Random\n",
    "using Statistics, ScikitLearn\n",
    "@sk_import metrics: roc_auc_score"
   ]
  },
  {
   "cell_type": "code",
   "execution_count": 27,
   "metadata": {},
   "outputs": [
    {
     "name": "stdout",
     "output_type": "stream",
     "text": [
      "Academic license - for non-commercial use only\n"
     ]
    },
    {
     "data": {
      "text/plain": [
       "Gurobi.Env(Ptr{Nothing} @0x00007fd98e4d2600)"
      ]
     },
     "execution_count": 27,
     "metadata": {},
     "output_type": "execute_result"
    }
   ],
   "source": [
    "gurobi_env = Gurobi.Env()"
   ]
  },
  {
   "cell_type": "markdown",
   "metadata": {},
   "source": [
    "### Stable Robust Logistic Regression"
   ]
  },
  {
   "cell_type": "code",
   "execution_count": 28,
   "metadata": {},
   "outputs": [
    {
     "data": {
      "text/plain": [
       "classification_metrics (generic function with 1 method)"
      ]
     },
     "execution_count": 28,
     "metadata": {},
     "output_type": "execute_result"
    }
   ],
   "source": [
    "function classification_metrics(preds, actual)\n",
    "    accuracy = sum(preds .== actual)/size(preds)[1]\n",
    "    tpr = dot(\n",
    "        (preds.==1),actual.==1\n",
    "        )/(\n",
    "        dot((preds.==1),actual.==1\n",
    "            ) + dot(\n",
    "            (preds.==-1),actual.==1)\n",
    "    )\n",
    "    fpr = dot(\n",
    "        (preds.==1),actual.==-1\n",
    "        )/ (\n",
    "        dot((preds.==1),actual.==-1\n",
    "            ) + dot(\n",
    "            (preds.==-1),actual.==-1)\n",
    "    )\n",
    "    return accuracy, tpr, fpr\n",
    "end\n"
   ]
  },
  {
   "cell_type": "code",
   "execution_count": 29,
   "metadata": {},
   "outputs": [
    {
     "data": {
      "text/plain": [
       "preprocess (generic function with 1 method)"
      ]
     },
     "execution_count": 29,
     "metadata": {},
     "output_type": "execute_result"
    }
   ],
   "source": [
    "function one_hot_encode(X, names)\n",
    "    X2 = deepcopy(X)\n",
    "    select!(X2, Not(Symbol.(names)))\n",
    "    for i in names\n",
    "        vales = unique(X[i])\n",
    "        for j in 1:length(vales)-1\n",
    "           X2[Symbol(string(i)*\"_\"*string(vales[j]))] = (X[i].==vales[j])*1\n",
    "        end\n",
    "    end\n",
    "    return X2\n",
    "end\n",
    "\n",
    "function normalize(X, names)\n",
    "    X2 = deepcopy(X)\n",
    "    select!(X2, Not(Symbol.(names)))\n",
    "    for j in names\n",
    "        X2[j] = (X[:,j] .- mean(X[:,j])) / std(X[:,j])\n",
    "    end\n",
    "    return X2\n",
    "end\n",
    "\n",
    "function clean(X)\n",
    "    n,p = size(X)\n",
    "    i = 0\n",
    "    while i < n\n",
    "        i += 1\n",
    "        if \"?\" in X[i,:]\n",
    "            X = X[1:end .!= i, :]\n",
    "            i -= 1\n",
    "        end\n",
    "        n,_ = size(X)\n",
    "    end\n",
    "    return X\n",
    "end     \n",
    "\n",
    "function toNum(df, names)\n",
    "    n,p = size(df)\n",
    "    for name in names\n",
    "        if !(isa(df[1,name], Int64) || isa(df[1,name], Float64))\n",
    "            temp = zeros(n)\n",
    "            for i=1:n\n",
    "                temp[i] = parse(Float64,df[i,name])\n",
    "            end\n",
    "            df[!,name] = temp\n",
    "        end\n",
    "    end\n",
    "    return df\n",
    "end\n",
    "\n",
    "function preprocess(df, categorical_vars, numerical_vars)\n",
    "    df = clean(df)\n",
    "    df = toNum(df,numerical_vars)\n",
    "    df = normalize(df,numerical_vars)\n",
    "    df = one_hot_encode(df[:,1:end], categorical_vars) \n",
    "    df[df[:,end].==0,end] .= -1\n",
    "    return df\n",
    "end"
   ]
  },
  {
   "cell_type": "code",
   "execution_count": 118,
   "metadata": {},
   "outputs": [
    {
     "data": {
      "text/plain": [
       "compute_f (generic function with 1 method)"
      ]
     },
     "execution_count": 118,
     "metadata": {},
     "output_type": "execute_result"
    }
   ],
   "source": [
    "function compute_∇f(w_k, y, X, λ)\n",
    "    n, p = size(X)\n",
    "    temp = zeros(p)\n",
    "    for i in 1:n\n",
    "        t = exp(-y[i]*(transpose(w_k)*Array(X[i,:]))+λ*transpose(w_k)*w_k)\n",
    "#       t = exp(-y[i]*(transpose(w_k)*Array(X[i,:]))+λ*transpose(w_k)*w_k)\n",
    "\n",
    "        if t == Inf\n",
    "            Δ = -y[i]*Array(X[i,:]) .+ 2*λ*w_k\n",
    "        else\n",
    "            Δ = (1/(1+t))*t*(-y[i]*Array(X[i,:]) .+ 2*λ*w_k)\n",
    "        end\n",
    "        temp = temp + Δ\n",
    "    end\n",
    "    ∇f_k = temp\n",
    "    return ∇f_k\n",
    "end\n",
    "\n",
    "function compute_f(w_k, y, X, λ)\n",
    "    n, p = size(X)\n",
    "    taylor = 0\n",
    "    f_k = 0\n",
    "    for i in 1:n\n",
    "        t = exp(-y[i]*dot(X[i,:], w_k)+λ*transpose(w_k)*w_k)\n",
    "        if t == Inf \n",
    "            f_k += -y[i]*dot(X[i,:], w_k)+λ*transpose(w_k)*w_k\n",
    "        else\n",
    "            f_k += log(1+t)\n",
    "        end\n",
    "    end\n",
    "\n",
    "    return f_k\n",
    "end"
   ]
  },
  {
   "cell_type": "code",
   "execution_count": 119,
   "metadata": {},
   "outputs": [
    {
     "data": {
      "text/plain": [
       "inner (generic function with 1 method)"
      ]
     },
     "execution_count": 119,
     "metadata": {},
     "output_type": "execute_result"
    }
   ],
   "source": [
    "\n",
    "function compute_∇f_s(w_k, z, y, X, λ)\n",
    "    n, p = size(X)\n",
    "    temp = zeros(p)\n",
    "    for i in 1:n\n",
    "        t = exp(-y[i]*(transpose(w_k)*Array(X[i,:]))+λ*transpose(w_k)*w_k)\n",
    "\n",
    "        if t == Inf\n",
    "            Δ = z[i]*(-y[i]*Array(X[i,:]) .+ 2*λ*w_k)\n",
    "        else\n",
    "            Δ = (z[i]/(1+t))*t*(-y[i]*Array(X[i,:]) .+ 2*λ*w_k)\n",
    "        end\n",
    "        temp = temp + Δ\n",
    "    end\n",
    "    ∇f_k = temp\n",
    "    return ∇f_k\n",
    "end    \n",
    "\n",
    "function inner(w_k, y, X, k, λ)\n",
    "    \n",
    "    n, p = size(X)\n",
    "    \n",
    "    model_inner = Model(solver=GurobiSolver(OutputFlag=0,gurobi_env))\n",
    "    \n",
    "    @variable(model_inner, 1 >= z[1:n] >= 0)\n",
    "    \n",
    "    @constraint(model_inner, sum(z) <= k)\n",
    "    \n",
    "    exponents = []\n",
    "    \n",
    "    for i in 1:n\n",
    "        expo = log(1+exp(-y[i]*dot(X[i,:], w_k)+ λ*dot(w_k,w_k)))\n",
    "        if expo == Inf\n",
    "            expo = -y[i]*dot(X[i,:], w_k)+ λ*dot(w_k,w_k)\n",
    "        end\n",
    "        append!(exponents, expo)\n",
    "    end\n",
    "    \n",
    "    @objective(model_inner,\n",
    "        Max,\n",
    "        sum(z[i]*exponents[i] for i=1:n)\n",
    "    )\n",
    "    \n",
    "    \n",
    "    solve(model_inner)\n",
    "    \n",
    "    optimal_z = getvalue(z)\n",
    "    optimal_f = getobjectivevalue(model_inner)\n",
    "    \n",
    "    return optimal_z, optimal_f\n",
    "    \n",
    "end"
   ]
  },
  {
   "cell_type": "code",
   "execution_count": 120,
   "metadata": {},
   "outputs": [
    {
     "data": {
      "text/plain": [
       "srlr (generic function with 1 method)"
      ]
     },
     "execution_count": 120,
     "metadata": {},
     "output_type": "execute_result"
    }
   ],
   "source": [
    "### Cutting Planes Implementation ###\n",
    "function rlr(y, X, ε, λ)\n",
    "    errors = []\n",
    "    n, p = size(X)\n",
    "    # Initialization values and step 0\n",
    "    w_0 = [0 for i in 1:p]\n",
    "    #w_0 = [rand(Uniform(-0.5, 0.5)) for i in 1:p]\n",
    "    f_0 = sum(log(1+exp(-y[i]*dot(X[i,:], w_0)+λ*transpose(w_0)*w_0)) for i=1:n)\n",
    "    ∇f_0 = compute_∇f(w_0, y, X, λ)\n",
    "\n",
    "    # Outer minimization problem\n",
    "    outer_min_model = Model(solver=GurobiSolver(OutputFlag=0, gurobi_env))\n",
    "    @variable(outer_min_model, t >= 0)\n",
    "    @variable(outer_min_model, w[1:p])\n",
    "    #@constraint(outer_min_model, [j=1:p], -1 <= w[j] <= 1)\n",
    "    @constraint(outer_min_model, t >= f_0 + (dot(∇f_0, w)-dot(∇f_0, w_0)))\n",
    "    @constraint(outer_min_model, [j=1:p], 10 >= w[j])\n",
    "    @constraint(outer_min_model, [j=1:p], w[j] >= -10)\n",
    "    @objective(outer_min_model, Min, t)\n",
    "    k = 1 # Number of constraints in the final problem\n",
    "    solve(outer_min_model)\n",
    "\n",
    "    # New steps k\n",
    "    t_k = getvalue(t)\n",
    "    w_k = getvalue(w)\n",
    "\n",
    "    f_k = compute_f(w_k, y, X, λ)\n",
    "    #f_k = sum(min(log(1+exp(-y[i]*dot(X[i,:], w_k)+λ*transpose(w_k)*w_k)),taylor) for i=1:n)\n",
    "    \n",
    "    ∇f_k = compute_∇f(w_k, y, X, λ)\n",
    "    \n",
    "    while abs(f_k - t_k) >= ε # error\n",
    "\n",
    "        push!(errors, f_k - t_k)\n",
    "        @constraint(outer_min_model,t >= f_k +(dot(∇f_k, w)-dot(∇f_k, w_k)))\n",
    "        k += 1\n",
    "        solve(outer_min_model)\n",
    "        # Updating all the values\n",
    "        t_k = getvalue(t)\n",
    "        w_k = getvalue(w)\n",
    "        \n",
    "        f_k = compute_f(w_k, y, X, λ)\n",
    "        #f_k = sum(min(log(1+exp(-y[i]*dot(X[i,:], w_k)+λ*transpose(w_k)*w_k)),100) for i=1:n)\n",
    "\n",
    "        ∇f_k = compute_∇f(w_k, y, X, λ)\n",
    "         if k%500 == 0\n",
    "             println(\"Number of constraints: \", k, \"\\t Error = \", abs(t_k - f_k))\n",
    "         end\n",
    "        if k > 20000\n",
    "            break\n",
    "        end\n",
    "    end\n",
    "    push!(errors, f_k - t_k)\n",
    "    return t_k, f_k, w_k, errors\n",
    "end\n",
    "\n",
    "function srlr(y, X, epsilon, k, λ)\n",
    "    deltas = []\n",
    "    n, p = size(X)\n",
    "    initialization_w = [0 for i in 1:p]\n",
    "    initialization_z, initial_f = inner(initialization_w, y, X, k, λ)\n",
    "    initial_derivative_f = compute_∇f_s(initialization_w, initialization_z, y, X, λ)\n",
    "    \n",
    "    model_outer = Model(solver=GurobiSolver(OutputFlag=0, gurobi_env))\n",
    "    \n",
    "    @variable(model_outer, t >= 0)\n",
    "    @variable(model_outer, w[1:p])\n",
    "    \n",
    "    @constraint(\n",
    "        model_outer, t >= initial_f + dot(initial_derivative_f, w)-dot(initial_derivative_f, initialization_w)\n",
    "    )\n",
    "    @constraint(model_outer, [j=1:p], 10 >= w[j])\n",
    "    @constraint(model_outer, [j=1:p], w[j] >= -10)\n",
    "    \n",
    "    @objective(model_outer, Min, t)\n",
    "    \n",
    "    number_const = 1\n",
    "    solve(model_outer)\n",
    "\n",
    "    t_new = getvalue(t)\n",
    "    w_new = getvalue(w)\n",
    "    z_new, f_new = inner(w_new, y, X, k, λ)\n",
    "\n",
    "    derivative_f_new = compute_∇f_s(w_new, z_new, y, X, λ)\n",
    "    while abs(f_new - t_new) >= epsilon\n",
    "        \n",
    "        push!(deltas, f_new - t_new)\n",
    "        \n",
    "        @constraint(model_outer,t >= f_new + dot(derivative_f_new, w)-dot(derivative_f_new, w_new))\n",
    "        \n",
    "        number_const += 1\n",
    "        solve(model_outer)\n",
    "        t_new = getvalue(t)\n",
    "        w_new = getvalue(w)\n",
    "        z_new, f_new = inner(w_new, y, X, k, λ)\n",
    "\n",
    "        derivative_f_new = compute_∇f_s(w_new, z_new, y, X, λ)\n",
    "        \n",
    "        if number_const%100 == 0\n",
    "            println(\"Number of constraints: \", number_const, \"\\t Step delta = \", abs(t_new - f_new))\n",
    "        end\n",
    "        \n",
    "        if number_const > 100000\n",
    "            break\n",
    "            \n",
    "        end\n",
    "    end\n",
    "    push!(deltas, f_new - t_new)\n",
    "    return t_new, f_new, w_new, z_new, deltas\n",
    "end\n"
   ]
  },
  {
   "cell_type": "code",
   "execution_count": 165,
   "metadata": {},
   "outputs": [
    {
     "data": {
      "text/plain": [
       "robust_LG_valid (generic function with 1 method)"
      ]
     },
     "execution_count": 165,
     "metadata": {},
     "output_type": "execute_result"
    }
   ],
   "source": [
    "function robust_LG_valid(X, y, ε, lambda_vals; method=srlr, split_at=0.8)\n",
    "    n,p = size(X)\n",
    "    k = convert(Int,floor(split_at*n))\n",
    "#     permuted_indices = randperm(n)\n",
    "#     train_indices, valid_indices = permuted_indices[1:split], permuted_indices[split+1:end]\n",
    "#     X_train, y_train = X[train_indices,:], y[train_indices]\n",
    "#     X_valid, y_valid = X[valid_indices,:], y[valid_indices]\n",
    "    \n",
    "#    accuracies = zeros(length(lambda_vals))\n",
    "    AUCs = zeros(length(lambda_vals))\n",
    "    for (i,λ) in enumerate(lambda_vals)\n",
    "        println(i)\n",
    "        t, f, w, z, e = srlr(y, X, ε, k, λ)\n",
    "        \n",
    "        train_indices = z.>0\n",
    "        valid_indices = z.==0\n",
    "         y_train, X_train = y[train_indices], X[train_indices,:]\n",
    "         y_valid, X_valid = y[valid_indices], X[valid_indices,:]\n",
    "        \n",
    "#         pred = 1 ./ (1 .+ exp.(-(Matrix(X_valid)*w).+λ*transpose(w)*w)) .> 0.5\n",
    "#         accuracies[i] = 1-sum(pred .!= (y_valid .== 1))/length(y_valid)\n",
    "        \n",
    "        pred_prob = 1 ./ (1 .+ exp.(-(Matrix(X_valid)*w).+λ*transpose(w)*w))\n",
    "        AUCs[i] = roc_auc_score(y_valid ,pred_prob)\n",
    "    end\n",
    "    IJulia.clear_output()\n",
    "\n",
    "    i_best = argmax(AUCs)\n",
    "    t, f, w_best, e = rlr(y, X, ε, lambda_vals[i_best])\n",
    "#     train_indices = z_best.>0\n",
    "#     valid_indices = z_best.==0\n",
    "#     y_train, X_train = y[train_indices], X[train_indices,:]\n",
    "#     y_valid, X_valid = y[valid_indices], X[valid_indices,:]\n",
    "    return  w_best, lambda_vals[i_best], AUCs #, y_train, y_valid , z_best,\n",
    "end"
   ]
  },
  {
   "cell_type": "code",
   "execution_count": 170,
   "metadata": {},
   "outputs": [
    {
     "data": {
      "text/plain": [
       "test (generic function with 1 method)"
      ]
     },
     "execution_count": 170,
     "metadata": {},
     "output_type": "execute_result"
    }
   ],
   "source": [
    "function test(df, categorical_vars, numerical_vars, test_split, validation_split, ε, lambda_vals, seed)\n",
    "    Random.seed!(seed)\n",
    "    start = time()\n",
    "    n,_ = size(df)\n",
    "    permuted_indices = randperm(n)\n",
    "    test_split = convert(Int,floor(validation_split*n))\n",
    "    train_indices, test_indices = permuted_indices[1:test_split], permuted_indices[test_split+1:end]\n",
    "    train = df[train_indices,:]\n",
    "    test = df[test_indices,:]\n",
    "    train_X = train[:,1:end-1]\n",
    "    train_y = train[:,end]\n",
    "    test_X = test[:,1:end-1]\n",
    "    test_y = test[:,end]\n",
    "    \n",
    "    IJulia.clear_output()\n",
    "    println(\"Enter cross-validation\")\n",
    "    w, λ, AUCs  = robust_LG_valid(train_X, train_y, ε, lambda_vals; method=LR_cutting_planes, split_at=validation_split)\n",
    "    elapsed = time() - start\n",
    "    pred_prob = 1 ./ (1 .+ exp.(-(Matrix(test_X)*w).+λ*transpose(w)*w))\n",
    "    pred = pred_prob.> 0.5\n",
    "    accuracy = 1-sum(pred .!= (test_y .== 1))/length(test_y)\n",
    "    auc = roc_auc_score(test_y ,pred_prob)\n",
    "    IJulia.clear_output()\n",
    "\n",
    "    return auc, accuracy, λ, elapsed, w, z, y_train, y_valid\n",
    "end"
   ]
  },
  {
   "cell_type": "code",
   "execution_count": 171,
   "metadata": {},
   "outputs": [
    {
     "data": {
      "text/plain": [
       "(80, 6)"
      ]
     },
     "execution_count": 171,
     "metadata": {},
     "output_type": "execute_result"
    }
   ],
   "source": [
    "df = CSV.read(\"Data/caesarian.csv\";header=true)\n",
    "size(df)"
   ]
  },
  {
   "cell_type": "code",
   "execution_count": 172,
   "metadata": {},
   "outputs": [
    {
     "data": {
      "text/plain": [
       "(80, 10)"
      ]
     },
     "execution_count": 172,
     "metadata": {},
     "output_type": "execute_result"
    }
   ],
   "source": [
    "#lambda_vals = [0.00001,0.0001,0.0005,0.001,0.005,0.01,0.05,0.1]\n",
    "lambda_vals = [0.00005x for x in 1:20]\n",
    "categorical_vars = Symbol.([\"Delivery number\" ;\"Delivery time\";\"Blood of Pressure\";\"Heart Problem\"])\n",
    "numerical_vars = Symbol.([\"Age\"])\n",
    "df = preprocess(df, categorical_vars, numerical_vars)\n",
    "n,p=size(df)"
   ]
  },
  {
   "cell_type": "code",
   "execution_count": 173,
   "metadata": {},
   "outputs": [
    {
     "name": "stdout",
     "output_type": "stream",
     "text": [
      "AUC: 0.7575757575757576 Accuracy: 0.6 λ: 5.0e-5 Time: 4.870409965515137"
     ]
    }
   ],
   "source": [
    "seed = 1\n",
    "auc, acc, lambda, elapsed, w, z, y_train, y_valid = test(df,categorical_vars,numerical_vars,0.75,0.75,0.0001, lambda_vals, 1)\n",
    "print(\"AUC: \",auc,\" Accuracy: \",acc, \" λ: \", lambda, \" Time: \", elapsed)"
   ]
  },
  {
   "cell_type": "code",
   "execution_count": 186,
   "metadata": {},
   "outputs": [
    {
     "data": {
      "text/plain": [
       "4-element Array{Int64,1}:\n",
       " 1\n",
       " 2\n",
       " 3\n",
       " 1"
      ]
     },
     "execution_count": 186,
     "metadata": {},
     "output_type": "execute_result"
    }
   ],
   "source": [
    "shuffle(repeat(1:3,2))[1:end-2]"
   ]
  },
  {
   "cell_type": "code",
   "execution_count": 100,
   "metadata": {},
   "outputs": [
    {
     "data": {
      "text/plain": [
       "15-element Array{Int64,1}:\n",
       "  1\n",
       "  1\n",
       "  1\n",
       " -1\n",
       "  1\n",
       "  1\n",
       "  1\n",
       "  1\n",
       "  1\n",
       "  1\n",
       "  1\n",
       "  1\n",
       "  1\n",
       "  1\n",
       "  1"
      ]
     },
     "execution_count": 100,
     "metadata": {},
     "output_type": "execute_result"
    }
   ],
   "source": [
    "y_valid"
   ]
  },
  {
   "cell_type": "code",
   "execution_count": 99,
   "metadata": {},
   "outputs": [
    {
     "data": {
      "text/plain": [
       "45-element Array{Int64,1}:\n",
       " -1\n",
       "  1\n",
       " -1\n",
       " -1\n",
       "  1\n",
       "  1\n",
       "  1\n",
       "  1\n",
       " -1\n",
       "  1\n",
       " -1\n",
       " -1\n",
       " -1\n",
       "  ⋮\n",
       "  1\n",
       "  1\n",
       " -1\n",
       "  1\n",
       " -1\n",
       " -1\n",
       " -1\n",
       "  1\n",
       "  1\n",
       " -1\n",
       "  1\n",
       "  1"
      ]
     },
     "execution_count": 99,
     "metadata": {},
     "output_type": "execute_result"
    }
   ],
   "source": [
    "y_train"
   ]
  },
  {
   "cell_type": "code",
   "execution_count": 174,
   "metadata": {},
   "outputs": [
    {
     "data": {
      "text/plain": [
       "(3658, 16)"
      ]
     },
     "execution_count": 174,
     "metadata": {},
     "output_type": "execute_result"
    }
   ],
   "source": [
    "df = CSV.read(\"Data/framingham.csv\";header=true)\n",
    "size(df)"
   ]
  },
  {
   "cell_type": "code",
   "execution_count": 175,
   "metadata": {},
   "outputs": [
    {
     "data": {
      "text/plain": [
       "(3658, 18)"
      ]
     },
     "execution_count": 175,
     "metadata": {},
     "output_type": "execute_result"
    }
   ],
   "source": [
    "categorical_vars = Symbol.([\"education\"])\n",
    "numerical_vars = Symbol.([\"age\" ;\"cigsPerDay\";\"totChol\";\"sysBP\";\"diaBP\";\"BMI\";\"heartRate\";\"glucose\"])\n",
    "lambda_vals = [0.00001,0.0001,0.0005,0.001,0.005,0.01,0.05,0.1]\n",
    "df = preprocess(df, categorical_vars, numerical_vars)\n",
    "n,p=size(df)"
   ]
  },
  {
   "cell_type": "code",
   "execution_count": 176,
   "metadata": {},
   "outputs": [
    {
     "name": "stdout",
     "output_type": "stream",
     "text": [
      "Enter cross-validation\n",
      "1\n",
      "Number of constraints: 100\t Step delta = 370.4084839056186\n",
      "Number of constraints: 200\t Step delta = 22.04671343915186\n",
      "Number of constraints: 300\t Step delta = 1.5158617714167804\n",
      "Number of constraints: 400\t Step delta = 0.19645699197951672\n",
      "Number of constraints: 500\t Step delta = 0.008271670782960427\n",
      "Number of constraints: 600\t Step delta = 0.0008094738016097835\n"
     ]
    },
    {
     "ename": "PyCall.PyError",
     "evalue": "PyError ($(Expr(:escape, :(ccall(#= /Users/ivanxu/.julia/packages/PyCall/BcTLp/src/pyfncall.jl:43 =# @pysym(:PyObject_Call), PyPtr, (PyPtr, PyPtr, PyPtr), o, pyargsptr, kw))))) <class 'ValueError'>\nValueError('Only one class present in y_true. ROC AUC score is not defined in that case.')\n  File \"/Users/ivanxu/.julia/conda/3/lib/python3.8/site-packages/sklearn/utils/validation.py\", line 72, in inner_f\n    return f(**kwargs)\n  File \"/Users/ivanxu/.julia/conda/3/lib/python3.8/site-packages/sklearn/metrics/_ranking.py\", line 390, in roc_auc_score\n    return _average_binary_score(partial(_binary_roc_auc_score,\n  File \"/Users/ivanxu/.julia/conda/3/lib/python3.8/site-packages/sklearn/metrics/_base.py\", line 77, in _average_binary_score\n    return binary_metric(y_true, y_score, sample_weight=sample_weight)\n  File \"/Users/ivanxu/.julia/conda/3/lib/python3.8/site-packages/sklearn/metrics/_ranking.py\", line 223, in _binary_roc_auc_score\n    raise ValueError(\"Only one class present in y_true. ROC AUC score \"\n",
     "output_type": "error",
     "traceback": [
      "PyError ($(Expr(:escape, :(ccall(#= /Users/ivanxu/.julia/packages/PyCall/BcTLp/src/pyfncall.jl:43 =# @pysym(:PyObject_Call), PyPtr, (PyPtr, PyPtr, PyPtr), o, pyargsptr, kw))))) <class 'ValueError'>\nValueError('Only one class present in y_true. ROC AUC score is not defined in that case.')\n  File \"/Users/ivanxu/.julia/conda/3/lib/python3.8/site-packages/sklearn/utils/validation.py\", line 72, in inner_f\n    return f(**kwargs)\n  File \"/Users/ivanxu/.julia/conda/3/lib/python3.8/site-packages/sklearn/metrics/_ranking.py\", line 390, in roc_auc_score\n    return _average_binary_score(partial(_binary_roc_auc_score,\n  File \"/Users/ivanxu/.julia/conda/3/lib/python3.8/site-packages/sklearn/metrics/_base.py\", line 77, in _average_binary_score\n    return binary_metric(y_true, y_score, sample_weight=sample_weight)\n  File \"/Users/ivanxu/.julia/conda/3/lib/python3.8/site-packages/sklearn/metrics/_ranking.py\", line 223, in _binary_roc_auc_score\n    raise ValueError(\"Only one class present in y_true. ROC AUC score \"\n",
      "",
      "Stacktrace:",
      " [1] pyerr_check at /Users/ivanxu/.julia/packages/PyCall/BcTLp/src/exception.jl:62 [inlined]",
      " [2] pyerr_check at /Users/ivanxu/.julia/packages/PyCall/BcTLp/src/exception.jl:66 [inlined]",
      " [3] _handle_error(::String) at /Users/ivanxu/.julia/packages/PyCall/BcTLp/src/exception.jl:83",
      " [4] macro expansion at /Users/ivanxu/.julia/packages/PyCall/BcTLp/src/exception.jl:97 [inlined]",
      " [5] #110 at /Users/ivanxu/.julia/packages/PyCall/BcTLp/src/pyfncall.jl:43 [inlined]",
      " [6] disable_sigint at ./c.jl:446 [inlined]",
      " [7] __pycall! at /Users/ivanxu/.julia/packages/PyCall/BcTLp/src/pyfncall.jl:42 [inlined]",
      " [8] _pycall!(::PyCall.PyObject, ::PyCall.PyObject, ::Tuple{Array{Int64,1},Array{Float64,1}}, ::Int64, ::Ptr{Nothing}) at /Users/ivanxu/.julia/packages/PyCall/BcTLp/src/pyfncall.jl:29",
      " [9] _pycall!(::PyCall.PyObject, ::PyCall.PyObject, ::Tuple{Array{Int64,1},Array{Float64,1}}, ::Base.Iterators.Pairs{Union{},Union{},Tuple{},NamedTuple{(),Tuple{}}}) at /Users/ivanxu/.julia/packages/PyCall/BcTLp/src/pyfncall.jl:11",
      " [10] #call#117(::Base.Iterators.Pairs{Union{},Union{},Tuple{},NamedTuple{(),Tuple{}}}, ::PyCall.PyObject, ::Array{Int64,1}, ::Vararg{Any,N} where N) at /Users/ivanxu/.julia/packages/PyCall/BcTLp/src/pyfncall.jl:86",
      " [11] PyObject at /Users/ivanxu/.julia/packages/PyCall/BcTLp/src/pyfncall.jl:86 [inlined]",
      " [12] #robust_LG_valid#53(::Function, ::Float64, ::Function, ::DataFrame, ::Array{Int64,1}, ::Float64, ::Array{Float64,1}) at ./In[165]:24",
      " [13] (::getfield(Main, Symbol(\"#kw##robust_LG_valid\")))(::NamedTuple{(:method, :split_at),Tuple{typeof(LR_cutting_planes),Float64}}, ::typeof(robust_LG_valid), ::DataFrame, ::Array{Int64,1}, ::Float64, ::Array{Float64,1}) at ./none:0",
      " [14] test(::DataFrame, ::Array{Symbol,1}, ::Array{Symbol,1}, ::Float64, ::Float64, ::Float64, ::Array{Float64,1}, ::Int64) at ./In[170]:17",
      " [15] top-level scope at In[176]:2"
     ]
    }
   ],
   "source": [
    "seed = 1\n",
    "auc, acc, lambda, elapsed, w = test(df,categorical_vars,numerical_vars,0.75,0.75,0.0001, lambda_vals, 1)\n",
    "print(\"AUC: \",auc,\" Accuracy: \",acc, \" λ: \", lambda, \" Time: \", elapsed)"
   ]
  },
  {
   "cell_type": "code",
   "execution_count": 149,
   "metadata": {},
   "outputs": [
    {
     "data": {
      "text/plain": [
       "0.5605250364608654"
      ]
     },
     "execution_count": 149,
     "metadata": {},
     "output_type": "execute_result"
    }
   ],
   "source": [
    "sum(y_train .== 1)/length(y_train)"
   ]
  },
  {
   "cell_type": "code",
   "execution_count": 105,
   "metadata": {},
   "outputs": [
    {
     "data": {
      "text/plain": [
       "686-element Array{Int64,1}:\n",
       " -1\n",
       " -1\n",
       " -1\n",
       " -1\n",
       " -1\n",
       " -1\n",
       " -1\n",
       " -1\n",
       " -1\n",
       " -1\n",
       " -1\n",
       " -1\n",
       " -1\n",
       "  ⋮\n",
       " -1\n",
       " -1\n",
       " -1\n",
       " -1\n",
       " -1\n",
       " -1\n",
       " -1\n",
       " -1\n",
       " -1\n",
       " -1\n",
       " -1\n",
       " -1"
      ]
     },
     "execution_count": 105,
     "metadata": {},
     "output_type": "execute_result"
    }
   ],
   "source": [
    "y_valid"
   ]
  },
  {
   "cell_type": "code",
   "execution_count": 106,
   "metadata": {},
   "outputs": [
    {
     "data": {
      "text/plain": [
       "-686"
      ]
     },
     "execution_count": 106,
     "metadata": {},
     "output_type": "execute_result"
    }
   ],
   "source": [
    "sum(y_valid)"
   ]
  },
  {
   "cell_type": "code",
   "execution_count": null,
   "metadata": {},
   "outputs": [],
   "source": []
  }
 ],
 "metadata": {
  "kernelspec": {
   "display_name": "Julia 1.0.5",
   "language": "julia",
   "name": "julia-1.0"
  },
  "language_info": {
   "file_extension": ".jl",
   "mimetype": "application/julia",
   "name": "julia",
   "version": "1.0.5"
  }
 },
 "nbformat": 4,
 "nbformat_minor": 4
}
